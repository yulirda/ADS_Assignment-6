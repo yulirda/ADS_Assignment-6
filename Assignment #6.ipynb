{
 "cells": [
  {
   "cell_type": "code",
   "execution_count": 77,
   "metadata": {
    "scrolled": true
   },
   "outputs": [],
   "source": [
    "import pandas as pd\n",
    "import plotly.express as px\n",
    "import numpy as np\n",
    "import plotly.graph_objects as go\n",
    "\n",
    "import matplotlib.pyplot as plt\n"
   ]
  },
  {
   "cell_type": "code",
   "execution_count": 78,
   "metadata": {},
   "outputs": [],
   "source": [
    "df = px.data.gapminder()"
   ]
  },
  {
   "cell_type": "code",
   "execution_count": 79,
   "metadata": {},
   "outputs": [],
   "source": [
    "#countries\n",
    "html = 'https://gist.github.com/tadast/8827699'\n",
    "gps = pd.read_html(html)[0]"
   ]
  },
  {
   "cell_type": "code",
   "execution_count": 80,
   "metadata": {},
   "outputs": [
    {
     "data": {
      "text/html": [
       "<div>\n",
       "<style scoped>\n",
       "    .dataframe tbody tr th:only-of-type {\n",
       "        vertical-align: middle;\n",
       "    }\n",
       "\n",
       "    .dataframe tbody tr th {\n",
       "        vertical-align: top;\n",
       "    }\n",
       "\n",
       "    .dataframe thead th {\n",
       "        text-align: right;\n",
       "    }\n",
       "</style>\n",
       "<table border=\"1\" class=\"dataframe\">\n",
       "  <thead>\n",
       "    <tr style=\"text-align: right;\">\n",
       "      <th></th>\n",
       "      <th>country</th>\n",
       "      <th>continent</th>\n",
       "      <th>year</th>\n",
       "      <th>lifeExp</th>\n",
       "      <th>pop</th>\n",
       "      <th>gdpPercap</th>\n",
       "      <th>iso_alpha</th>\n",
       "      <th>iso_num</th>\n",
       "    </tr>\n",
       "  </thead>\n",
       "  <tbody>\n",
       "    <tr>\n",
       "      <th>0</th>\n",
       "      <td>Afghanistan</td>\n",
       "      <td>Asia</td>\n",
       "      <td>1952</td>\n",
       "      <td>28.801</td>\n",
       "      <td>8425333</td>\n",
       "      <td>779.445314</td>\n",
       "      <td>AFG</td>\n",
       "      <td>4</td>\n",
       "    </tr>\n",
       "    <tr>\n",
       "      <th>1</th>\n",
       "      <td>Afghanistan</td>\n",
       "      <td>Asia</td>\n",
       "      <td>1957</td>\n",
       "      <td>30.332</td>\n",
       "      <td>9240934</td>\n",
       "      <td>820.853030</td>\n",
       "      <td>AFG</td>\n",
       "      <td>4</td>\n",
       "    </tr>\n",
       "    <tr>\n",
       "      <th>2</th>\n",
       "      <td>Afghanistan</td>\n",
       "      <td>Asia</td>\n",
       "      <td>1962</td>\n",
       "      <td>31.997</td>\n",
       "      <td>10267083</td>\n",
       "      <td>853.100710</td>\n",
       "      <td>AFG</td>\n",
       "      <td>4</td>\n",
       "    </tr>\n",
       "    <tr>\n",
       "      <th>3</th>\n",
       "      <td>Afghanistan</td>\n",
       "      <td>Asia</td>\n",
       "      <td>1967</td>\n",
       "      <td>34.020</td>\n",
       "      <td>11537966</td>\n",
       "      <td>836.197138</td>\n",
       "      <td>AFG</td>\n",
       "      <td>4</td>\n",
       "    </tr>\n",
       "    <tr>\n",
       "      <th>4</th>\n",
       "      <td>Afghanistan</td>\n",
       "      <td>Asia</td>\n",
       "      <td>1972</td>\n",
       "      <td>36.088</td>\n",
       "      <td>13079460</td>\n",
       "      <td>739.981106</td>\n",
       "      <td>AFG</td>\n",
       "      <td>4</td>\n",
       "    </tr>\n",
       "  </tbody>\n",
       "</table>\n",
       "</div>"
      ],
      "text/plain": [
       "       country continent  year  lifeExp       pop   gdpPercap iso_alpha  \\\n",
       "0  Afghanistan      Asia  1952   28.801   8425333  779.445314       AFG   \n",
       "1  Afghanistan      Asia  1957   30.332   9240934  820.853030       AFG   \n",
       "2  Afghanistan      Asia  1962   31.997  10267083  853.100710       AFG   \n",
       "3  Afghanistan      Asia  1967   34.020  11537966  836.197138       AFG   \n",
       "4  Afghanistan      Asia  1972   36.088  13079460  739.981106       AFG   \n",
       "\n",
       "   iso_num  \n",
       "0        4  \n",
       "1        4  \n",
       "2        4  \n",
       "3        4  \n",
       "4        4  "
      ]
     },
     "execution_count": 80,
     "metadata": {},
     "output_type": "execute_result"
    }
   ],
   "source": [
    "df.head()"
   ]
  },
  {
   "cell_type": "code",
   "execution_count": 81,
   "metadata": {},
   "outputs": [
    {
     "data": {
      "text/html": [
       "<div>\n",
       "<style scoped>\n",
       "    .dataframe tbody tr th:only-of-type {\n",
       "        vertical-align: middle;\n",
       "    }\n",
       "\n",
       "    .dataframe tbody tr th {\n",
       "        vertical-align: top;\n",
       "    }\n",
       "\n",
       "    .dataframe thead th {\n",
       "        text-align: right;\n",
       "    }\n",
       "</style>\n",
       "<table border=\"1\" class=\"dataframe\">\n",
       "  <thead>\n",
       "    <tr style=\"text-align: right;\">\n",
       "      <th></th>\n",
       "      <th>Unnamed: 0</th>\n",
       "      <th>Country</th>\n",
       "      <th>Alpha-2 code</th>\n",
       "      <th>iso_alpha</th>\n",
       "      <th>Numeric code</th>\n",
       "      <th>Latitude (average)</th>\n",
       "      <th>Longitude (average)</th>\n",
       "    </tr>\n",
       "  </thead>\n",
       "  <tbody>\n",
       "    <tr>\n",
       "      <th>0</th>\n",
       "      <td>NaN</td>\n",
       "      <td>Afghanistan</td>\n",
       "      <td>AF</td>\n",
       "      <td>AFG</td>\n",
       "      <td>4</td>\n",
       "      <td>33.0000</td>\n",
       "      <td>65.0</td>\n",
       "    </tr>\n",
       "    <tr>\n",
       "      <th>1</th>\n",
       "      <td>NaN</td>\n",
       "      <td>Albania</td>\n",
       "      <td>AL</td>\n",
       "      <td>ALB</td>\n",
       "      <td>8</td>\n",
       "      <td>41.0000</td>\n",
       "      <td>20.0</td>\n",
       "    </tr>\n",
       "    <tr>\n",
       "      <th>2</th>\n",
       "      <td>NaN</td>\n",
       "      <td>Algeria</td>\n",
       "      <td>DZ</td>\n",
       "      <td>DZA</td>\n",
       "      <td>12</td>\n",
       "      <td>28.0000</td>\n",
       "      <td>3.0</td>\n",
       "    </tr>\n",
       "    <tr>\n",
       "      <th>3</th>\n",
       "      <td>NaN</td>\n",
       "      <td>American Samoa</td>\n",
       "      <td>AS</td>\n",
       "      <td>ASM</td>\n",
       "      <td>16</td>\n",
       "      <td>-14.3333</td>\n",
       "      <td>-170.0</td>\n",
       "    </tr>\n",
       "    <tr>\n",
       "      <th>4</th>\n",
       "      <td>NaN</td>\n",
       "      <td>Andorra</td>\n",
       "      <td>AD</td>\n",
       "      <td>AND</td>\n",
       "      <td>20</td>\n",
       "      <td>42.5000</td>\n",
       "      <td>1.6</td>\n",
       "    </tr>\n",
       "  </tbody>\n",
       "</table>\n",
       "</div>"
      ],
      "text/plain": [
       "   Unnamed: 0         Country Alpha-2 code iso_alpha  Numeric code  \\\n",
       "0         NaN     Afghanistan           AF       AFG             4   \n",
       "1         NaN         Albania           AL       ALB             8   \n",
       "2         NaN         Algeria           DZ       DZA            12   \n",
       "3         NaN  American Samoa           AS       ASM            16   \n",
       "4         NaN         Andorra           AD       AND            20   \n",
       "\n",
       "   Latitude (average)  Longitude (average)  \n",
       "0             33.0000                 65.0  \n",
       "1             41.0000                 20.0  \n",
       "2             28.0000                  3.0  \n",
       "3            -14.3333               -170.0  \n",
       "4             42.5000                  1.6  "
      ]
     },
     "execution_count": 81,
     "metadata": {},
     "output_type": "execute_result"
    }
   ],
   "source": [
    "gps.rename(columns={'Alpha-3 code':'iso_alpha'}, inplace=True)\n",
    "gps.head()"
   ]
  },
  {
   "cell_type": "code",
   "execution_count": 82,
   "metadata": {},
   "outputs": [],
   "source": [
    "new_df = pd.merge(df, gps, how='left', on='iso_alpha')"
   ]
  },
  {
   "cell_type": "code",
   "execution_count": 83,
   "metadata": {},
   "outputs": [
    {
     "data": {
      "text/html": [
       "<div>\n",
       "<style scoped>\n",
       "    .dataframe tbody tr th:only-of-type {\n",
       "        vertical-align: middle;\n",
       "    }\n",
       "\n",
       "    .dataframe tbody tr th {\n",
       "        vertical-align: top;\n",
       "    }\n",
       "\n",
       "    .dataframe thead th {\n",
       "        text-align: right;\n",
       "    }\n",
       "</style>\n",
       "<table border=\"1\" class=\"dataframe\">\n",
       "  <thead>\n",
       "    <tr style=\"text-align: right;\">\n",
       "      <th></th>\n",
       "      <th>country</th>\n",
       "      <th>continent</th>\n",
       "      <th>year</th>\n",
       "      <th>lifeExp</th>\n",
       "      <th>pop</th>\n",
       "      <th>gdpPercap</th>\n",
       "      <th>iso_alpha</th>\n",
       "      <th>iso_num</th>\n",
       "      <th>Unnamed: 0</th>\n",
       "      <th>Country</th>\n",
       "      <th>Alpha-2 code</th>\n",
       "      <th>Numeric code</th>\n",
       "      <th>Latitude (average)</th>\n",
       "      <th>Longitude (average)</th>\n",
       "    </tr>\n",
       "  </thead>\n",
       "  <tbody>\n",
       "  </tbody>\n",
       "</table>\n",
       "</div>"
      ],
      "text/plain": [
       "Empty DataFrame\n",
       "Columns: [country, continent, year, lifeExp, pop, gdpPercap, iso_alpha, iso_num, Unnamed: 0, Country, Alpha-2 code, Numeric code, Latitude (average), Longitude (average)]\n",
       "Index: []"
      ]
     },
     "execution_count": 83,
     "metadata": {},
     "output_type": "execute_result"
    }
   ],
   "source": [
    "new_df[new_df['Latitude (average)'].isna()]"
   ]
  },
  {
   "cell_type": "markdown",
   "metadata": {},
   "source": [
    "### Question 1: (Answer) \n"
   ]
  },
  {
   "cell_type": "markdown",
   "metadata": {},
   "source": [
    "1. The mean life expectancy of all the Asian countries according to the data."
   ]
  },
  {
   "cell_type": "code",
   "execution_count": 84,
   "metadata": {},
   "outputs": [
    {
     "data": {
      "text/html": [
       "<div>\n",
       "<style scoped>\n",
       "    .dataframe tbody tr th:only-of-type {\n",
       "        vertical-align: middle;\n",
       "    }\n",
       "\n",
       "    .dataframe tbody tr th {\n",
       "        vertical-align: top;\n",
       "    }\n",
       "\n",
       "    .dataframe thead th {\n",
       "        text-align: right;\n",
       "    }\n",
       "</style>\n",
       "<table border=\"1\" class=\"dataframe\">\n",
       "  <thead>\n",
       "    <tr style=\"text-align: right;\">\n",
       "      <th></th>\n",
       "      <th>country</th>\n",
       "      <th>continent</th>\n",
       "      <th>year</th>\n",
       "      <th>lifeExp</th>\n",
       "      <th>pop</th>\n",
       "      <th>gdpPercap</th>\n",
       "      <th>iso_alpha</th>\n",
       "      <th>iso_num</th>\n",
       "      <th>Unnamed: 0</th>\n",
       "      <th>Country</th>\n",
       "      <th>Alpha-2 code</th>\n",
       "      <th>Numeric code</th>\n",
       "      <th>Latitude (average)</th>\n",
       "      <th>Longitude (average)</th>\n",
       "    </tr>\n",
       "  </thead>\n",
       "  <tbody>\n",
       "    <tr>\n",
       "      <th>0</th>\n",
       "      <td>Afghanistan</td>\n",
       "      <td>Asia</td>\n",
       "      <td>1952</td>\n",
       "      <td>28.801</td>\n",
       "      <td>8425333</td>\n",
       "      <td>779.445314</td>\n",
       "      <td>AFG</td>\n",
       "      <td>4</td>\n",
       "      <td>NaN</td>\n",
       "      <td>Afghanistan</td>\n",
       "      <td>AF</td>\n",
       "      <td>4</td>\n",
       "      <td>33.0</td>\n",
       "      <td>65.0</td>\n",
       "    </tr>\n",
       "    <tr>\n",
       "      <th>1</th>\n",
       "      <td>Afghanistan</td>\n",
       "      <td>Asia</td>\n",
       "      <td>1957</td>\n",
       "      <td>30.332</td>\n",
       "      <td>9240934</td>\n",
       "      <td>820.853030</td>\n",
       "      <td>AFG</td>\n",
       "      <td>4</td>\n",
       "      <td>NaN</td>\n",
       "      <td>Afghanistan</td>\n",
       "      <td>AF</td>\n",
       "      <td>4</td>\n",
       "      <td>33.0</td>\n",
       "      <td>65.0</td>\n",
       "    </tr>\n",
       "    <tr>\n",
       "      <th>2</th>\n",
       "      <td>Afghanistan</td>\n",
       "      <td>Asia</td>\n",
       "      <td>1962</td>\n",
       "      <td>31.997</td>\n",
       "      <td>10267083</td>\n",
       "      <td>853.100710</td>\n",
       "      <td>AFG</td>\n",
       "      <td>4</td>\n",
       "      <td>NaN</td>\n",
       "      <td>Afghanistan</td>\n",
       "      <td>AF</td>\n",
       "      <td>4</td>\n",
       "      <td>33.0</td>\n",
       "      <td>65.0</td>\n",
       "    </tr>\n",
       "    <tr>\n",
       "      <th>3</th>\n",
       "      <td>Afghanistan</td>\n",
       "      <td>Asia</td>\n",
       "      <td>1967</td>\n",
       "      <td>34.020</td>\n",
       "      <td>11537966</td>\n",
       "      <td>836.197138</td>\n",
       "      <td>AFG</td>\n",
       "      <td>4</td>\n",
       "      <td>NaN</td>\n",
       "      <td>Afghanistan</td>\n",
       "      <td>AF</td>\n",
       "      <td>4</td>\n",
       "      <td>33.0</td>\n",
       "      <td>65.0</td>\n",
       "    </tr>\n",
       "    <tr>\n",
       "      <th>4</th>\n",
       "      <td>Afghanistan</td>\n",
       "      <td>Asia</td>\n",
       "      <td>1972</td>\n",
       "      <td>36.088</td>\n",
       "      <td>13079460</td>\n",
       "      <td>739.981106</td>\n",
       "      <td>AFG</td>\n",
       "      <td>4</td>\n",
       "      <td>NaN</td>\n",
       "      <td>Afghanistan</td>\n",
       "      <td>AF</td>\n",
       "      <td>4</td>\n",
       "      <td>33.0</td>\n",
       "      <td>65.0</td>\n",
       "    </tr>\n",
       "  </tbody>\n",
       "</table>\n",
       "</div>"
      ],
      "text/plain": [
       "       country continent  year  lifeExp       pop   gdpPercap iso_alpha  \\\n",
       "0  Afghanistan      Asia  1952   28.801   8425333  779.445314       AFG   \n",
       "1  Afghanistan      Asia  1957   30.332   9240934  820.853030       AFG   \n",
       "2  Afghanistan      Asia  1962   31.997  10267083  853.100710       AFG   \n",
       "3  Afghanistan      Asia  1967   34.020  11537966  836.197138       AFG   \n",
       "4  Afghanistan      Asia  1972   36.088  13079460  739.981106       AFG   \n",
       "\n",
       "   iso_num  Unnamed: 0      Country Alpha-2 code  Numeric code  \\\n",
       "0        4         NaN  Afghanistan           AF             4   \n",
       "1        4         NaN  Afghanistan           AF             4   \n",
       "2        4         NaN  Afghanistan           AF             4   \n",
       "3        4         NaN  Afghanistan           AF             4   \n",
       "4        4         NaN  Afghanistan           AF             4   \n",
       "\n",
       "   Latitude (average)  Longitude (average)  \n",
       "0                33.0                 65.0  \n",
       "1                33.0                 65.0  \n",
       "2                33.0                 65.0  \n",
       "3                33.0                 65.0  \n",
       "4                33.0                 65.0  "
      ]
     },
     "execution_count": 84,
     "metadata": {},
     "output_type": "execute_result"
    }
   ],
   "source": [
    "new_df.head()"
   ]
  },
  {
   "cell_type": "code",
   "execution_count": 85,
   "metadata": {},
   "outputs": [],
   "source": [
    "data = new_df.loc[new_df['continent']=='Asia',['country', 'lifeExp', 'Latitude (average)', 'Longitude (average)', 'iso_alpha']].groupby(['country','Latitude (average)','Longitude (average)','iso_alpha'])['lifeExp'].mean().reset_index()\n",
    "data.rename(columns = {'lifeExp':'lifeExp_mean'}, inplace=True)"
   ]
  },
  {
   "cell_type": "code",
   "execution_count": 86,
   "metadata": {},
   "outputs": [
    {
     "data": {
      "text/html": [
       "<div>\n",
       "<style scoped>\n",
       "    .dataframe tbody tr th:only-of-type {\n",
       "        vertical-align: middle;\n",
       "    }\n",
       "\n",
       "    .dataframe tbody tr th {\n",
       "        vertical-align: top;\n",
       "    }\n",
       "\n",
       "    .dataframe thead th {\n",
       "        text-align: right;\n",
       "    }\n",
       "</style>\n",
       "<table border=\"1\" class=\"dataframe\">\n",
       "  <thead>\n",
       "    <tr style=\"text-align: right;\">\n",
       "      <th></th>\n",
       "      <th>country</th>\n",
       "      <th>Latitude (average)</th>\n",
       "      <th>Longitude (average)</th>\n",
       "      <th>iso_alpha</th>\n",
       "      <th>lifeExp_mean</th>\n",
       "    </tr>\n",
       "  </thead>\n",
       "  <tbody>\n",
       "    <tr>\n",
       "      <th>0</th>\n",
       "      <td>Afghanistan</td>\n",
       "      <td>33.0</td>\n",
       "      <td>65.00</td>\n",
       "      <td>AFG</td>\n",
       "      <td>37.478833</td>\n",
       "    </tr>\n",
       "    <tr>\n",
       "      <th>1</th>\n",
       "      <td>Bahrain</td>\n",
       "      <td>26.0</td>\n",
       "      <td>50.55</td>\n",
       "      <td>BHR</td>\n",
       "      <td>65.605667</td>\n",
       "    </tr>\n",
       "    <tr>\n",
       "      <th>2</th>\n",
       "      <td>Bangladesh</td>\n",
       "      <td>24.0</td>\n",
       "      <td>90.00</td>\n",
       "      <td>BGD</td>\n",
       "      <td>49.834083</td>\n",
       "    </tr>\n",
       "    <tr>\n",
       "      <th>3</th>\n",
       "      <td>Cambodia</td>\n",
       "      <td>13.0</td>\n",
       "      <td>105.00</td>\n",
       "      <td>KHM</td>\n",
       "      <td>47.902750</td>\n",
       "    </tr>\n",
       "    <tr>\n",
       "      <th>4</th>\n",
       "      <td>China</td>\n",
       "      <td>35.0</td>\n",
       "      <td>105.00</td>\n",
       "      <td>CHN</td>\n",
       "      <td>61.785140</td>\n",
       "    </tr>\n",
       "  </tbody>\n",
       "</table>\n",
       "</div>"
      ],
      "text/plain": [
       "       country  Latitude (average)  Longitude (average) iso_alpha  \\\n",
       "0  Afghanistan                33.0                65.00       AFG   \n",
       "1      Bahrain                26.0                50.55       BHR   \n",
       "2   Bangladesh                24.0                90.00       BGD   \n",
       "3     Cambodia                13.0               105.00       KHM   \n",
       "4        China                35.0               105.00       CHN   \n",
       "\n",
       "   lifeExp_mean  \n",
       "0     37.478833  \n",
       "1     65.605667  \n",
       "2     49.834083  \n",
       "3     47.902750  \n",
       "4     61.785140  "
      ]
     },
     "execution_count": 86,
     "metadata": {},
     "output_type": "execute_result"
    }
   ],
   "source": [
    "data.head()"
   ]
  },
  {
   "cell_type": "code",
   "execution_count": 87,
   "metadata": {
    "scrolled": false
   },
   "outputs": [
    {
     "data": {
      "application/vnd.plotly.v1+json": {
       "config": {
        "plotlyServerURL": "https://plot.ly"
       },
       "data": [
        {
         "hovertemplate": "<b>%{hovertext}</b><br><br>iso_alpha=AFG<br>lifeExp_mean=%{marker.size}<br>Latitude (average)=%{lat}<br>Longitude (average)=%{lon}<extra></extra>",
         "hovertext": [
          "Afghanistan"
         ],
         "lat": [
          33
         ],
         "legendgroup": "AFG",
         "lon": [
          65
         ],
         "marker": {
          "color": "#636efa",
          "size": [
           37.478833333333334
          ],
          "sizemode": "area",
          "sizeref": 0.18706729166666666
         },
         "mode": "markers",
         "name": "AFG",
         "showlegend": true,
         "subplot": "mapbox",
         "type": "scattermapbox"
        },
        {
         "hovertemplate": "<b>%{hovertext}</b><br><br>iso_alpha=BHR<br>lifeExp_mean=%{marker.size}<br>Latitude (average)=%{lat}<br>Longitude (average)=%{lon}<extra></extra>",
         "hovertext": [
          "Bahrain"
         ],
         "lat": [
          26
         ],
         "legendgroup": "BHR",
         "lon": [
          50.55
         ],
         "marker": {
          "color": "#EF553B",
          "size": [
           65.60566666666666
          ],
          "sizemode": "area",
          "sizeref": 0.18706729166666666
         },
         "mode": "markers",
         "name": "BHR",
         "showlegend": true,
         "subplot": "mapbox",
         "type": "scattermapbox"
        },
        {
         "hovertemplate": "<b>%{hovertext}</b><br><br>iso_alpha=BGD<br>lifeExp_mean=%{marker.size}<br>Latitude (average)=%{lat}<br>Longitude (average)=%{lon}<extra></extra>",
         "hovertext": [
          "Bangladesh"
         ],
         "lat": [
          24
         ],
         "legendgroup": "BGD",
         "lon": [
          90
         ],
         "marker": {
          "color": "#00cc96",
          "size": [
           49.83408333333333
          ],
          "sizemode": "area",
          "sizeref": 0.18706729166666666
         },
         "mode": "markers",
         "name": "BGD",
         "showlegend": true,
         "subplot": "mapbox",
         "type": "scattermapbox"
        },
        {
         "hovertemplate": "<b>%{hovertext}</b><br><br>iso_alpha=KHM<br>lifeExp_mean=%{marker.size}<br>Latitude (average)=%{lat}<br>Longitude (average)=%{lon}<extra></extra>",
         "hovertext": [
          "Cambodia"
         ],
         "lat": [
          13
         ],
         "legendgroup": "KHM",
         "lon": [
          105
         ],
         "marker": {
          "color": "#ab63fa",
          "size": [
           47.90275
          ],
          "sizemode": "area",
          "sizeref": 0.18706729166666666
         },
         "mode": "markers",
         "name": "KHM",
         "showlegend": true,
         "subplot": "mapbox",
         "type": "scattermapbox"
        },
        {
         "hovertemplate": "<b>%{hovertext}</b><br><br>iso_alpha=CHN<br>lifeExp_mean=%{marker.size}<br>Latitude (average)=%{lat}<br>Longitude (average)=%{lon}<extra></extra>",
         "hovertext": [
          "China"
         ],
         "lat": [
          35
         ],
         "legendgroup": "CHN",
         "lon": [
          105
         ],
         "marker": {
          "color": "#FFA15A",
          "size": [
           61.785140000000006
          ],
          "sizemode": "area",
          "sizeref": 0.18706729166666666
         },
         "mode": "markers",
         "name": "CHN",
         "showlegend": true,
         "subplot": "mapbox",
         "type": "scattermapbox"
        },
        {
         "hovertemplate": "<b>%{hovertext}</b><br><br>iso_alpha=HKG<br>lifeExp_mean=%{marker.size}<br>Latitude (average)=%{lat}<br>Longitude (average)=%{lon}<extra></extra>",
         "hovertext": [
          "Hong Kong, China"
         ],
         "lat": [
          22.25
         ],
         "legendgroup": "HKG",
         "lon": [
          114.1667
         ],
         "marker": {
          "color": "#19d3f3",
          "size": [
           73.49283333333334
          ],
          "sizemode": "area",
          "sizeref": 0.18706729166666666
         },
         "mode": "markers",
         "name": "HKG",
         "showlegend": true,
         "subplot": "mapbox",
         "type": "scattermapbox"
        },
        {
         "hovertemplate": "<b>%{hovertext}</b><br><br>iso_alpha=IND<br>lifeExp_mean=%{marker.size}<br>Latitude (average)=%{lat}<br>Longitude (average)=%{lon}<extra></extra>",
         "hovertext": [
          "India"
         ],
         "lat": [
          20
         ],
         "legendgroup": "IND",
         "lon": [
          77
         ],
         "marker": {
          "color": "#FF6692",
          "size": [
           53.166083333333326
          ],
          "sizemode": "area",
          "sizeref": 0.18706729166666666
         },
         "mode": "markers",
         "name": "IND",
         "showlegend": true,
         "subplot": "mapbox",
         "type": "scattermapbox"
        },
        {
         "hovertemplate": "<b>%{hovertext}</b><br><br>iso_alpha=IDN<br>lifeExp_mean=%{marker.size}<br>Latitude (average)=%{lat}<br>Longitude (average)=%{lon}<extra></extra>",
         "hovertext": [
          "Indonesia"
         ],
         "lat": [
          -5
         ],
         "legendgroup": "IDN",
         "lon": [
          120
         ],
         "marker": {
          "color": "#B6E880",
          "size": [
           54.33574999999999
          ],
          "sizemode": "area",
          "sizeref": 0.18706729166666666
         },
         "mode": "markers",
         "name": "IDN",
         "showlegend": true,
         "subplot": "mapbox",
         "type": "scattermapbox"
        },
        {
         "hovertemplate": "<b>%{hovertext}</b><br><br>iso_alpha=IRN<br>lifeExp_mean=%{marker.size}<br>Latitude (average)=%{lat}<br>Longitude (average)=%{lon}<extra></extra>",
         "hovertext": [
          "Iran"
         ],
         "lat": [
          32
         ],
         "legendgroup": "IRN",
         "lon": [
          53
         ],
         "marker": {
          "color": "#FF97FF",
          "size": [
           58.63658333333334
          ],
          "sizemode": "area",
          "sizeref": 0.18706729166666666
         },
         "mode": "markers",
         "name": "IRN",
         "showlegend": true,
         "subplot": "mapbox",
         "type": "scattermapbox"
        },
        {
         "hovertemplate": "<b>%{hovertext}</b><br><br>iso_alpha=IRQ<br>lifeExp_mean=%{marker.size}<br>Latitude (average)=%{lat}<br>Longitude (average)=%{lon}<extra></extra>",
         "hovertext": [
          "Iraq"
         ],
         "lat": [
          33
         ],
         "legendgroup": "IRQ",
         "lon": [
          44
         ],
         "marker": {
          "color": "#FECB52",
          "size": [
           56.58175
          ],
          "sizemode": "area",
          "sizeref": 0.18706729166666666
         },
         "mode": "markers",
         "name": "IRQ",
         "showlegend": true,
         "subplot": "mapbox",
         "type": "scattermapbox"
        },
        {
         "hovertemplate": "<b>%{hovertext}</b><br><br>iso_alpha=ISR<br>lifeExp_mean=%{marker.size}<br>Latitude (average)=%{lat}<br>Longitude (average)=%{lon}<extra></extra>",
         "hovertext": [
          "Israel"
         ],
         "lat": [
          31.5
         ],
         "legendgroup": "ISR",
         "lon": [
          34.75
         ],
         "marker": {
          "color": "#636efa",
          "size": [
           73.64583333333333
          ],
          "sizemode": "area",
          "sizeref": 0.18706729166666666
         },
         "mode": "markers",
         "name": "ISR",
         "showlegend": true,
         "subplot": "mapbox",
         "type": "scattermapbox"
        },
        {
         "hovertemplate": "<b>%{hovertext}</b><br><br>iso_alpha=JPN<br>lifeExp_mean=%{marker.size}<br>Latitude (average)=%{lat}<br>Longitude (average)=%{lon}<extra></extra>",
         "hovertext": [
          "Japan"
         ],
         "lat": [
          36
         ],
         "legendgroup": "JPN",
         "lon": [
          138
         ],
         "marker": {
          "color": "#EF553B",
          "size": [
           74.82691666666666
          ],
          "sizemode": "area",
          "sizeref": 0.18706729166666666
         },
         "mode": "markers",
         "name": "JPN",
         "showlegend": true,
         "subplot": "mapbox",
         "type": "scattermapbox"
        },
        {
         "hovertemplate": "<b>%{hovertext}</b><br><br>iso_alpha=JOR<br>lifeExp_mean=%{marker.size}<br>Latitude (average)=%{lat}<br>Longitude (average)=%{lon}<extra></extra>",
         "hovertext": [
          "Jordan"
         ],
         "lat": [
          31
         ],
         "legendgroup": "JOR",
         "lon": [
          36
         ],
         "marker": {
          "color": "#00cc96",
          "size": [
           59.78641666666666
          ],
          "sizemode": "area",
          "sizeref": 0.18706729166666666
         },
         "mode": "markers",
         "name": "JOR",
         "showlegend": true,
         "subplot": "mapbox",
         "type": "scattermapbox"
        },
        {
         "hovertemplate": "<b>%{hovertext}</b><br><br>iso_alpha=KOR<br>lifeExp_mean=%{marker.size}<br>Latitude (average)=%{lat}<br>Longitude (average)=%{lon}<extra></extra>",
         "hovertext": [
          "Korea, Dem. Rep.",
          "Korea, Rep."
         ],
         "lat": [
          37,
          37
         ],
         "legendgroup": "KOR",
         "lon": [
          127.5,
          127.5
         ],
         "marker": {
          "color": "#ab63fa",
          "size": [
           63.60733333333335,
           65.00099999999999
          ],
          "sizemode": "area",
          "sizeref": 0.18706729166666666
         },
         "mode": "markers",
         "name": "KOR",
         "showlegend": true,
         "subplot": "mapbox",
         "type": "scattermapbox"
        },
        {
         "hovertemplate": "<b>%{hovertext}</b><br><br>iso_alpha=KWT<br>lifeExp_mean=%{marker.size}<br>Latitude (average)=%{lat}<br>Longitude (average)=%{lon}<extra></extra>",
         "hovertext": [
          "Kuwait"
         ],
         "lat": [
          29.3375
         ],
         "legendgroup": "KWT",
         "lon": [
          47.6581
         ],
         "marker": {
          "color": "#FFA15A",
          "size": [
           68.92233333333333
          ],
          "sizemode": "area",
          "sizeref": 0.18706729166666666
         },
         "mode": "markers",
         "name": "KWT",
         "showlegend": true,
         "subplot": "mapbox",
         "type": "scattermapbox"
        },
        {
         "hovertemplate": "<b>%{hovertext}</b><br><br>iso_alpha=LBN<br>lifeExp_mean=%{marker.size}<br>Latitude (average)=%{lat}<br>Longitude (average)=%{lon}<extra></extra>",
         "hovertext": [
          "Lebanon"
         ],
         "lat": [
          33.8333
         ],
         "legendgroup": "LBN",
         "lon": [
          35.8333
         ],
         "marker": {
          "color": "#19d3f3",
          "size": [
           65.86566666666666
          ],
          "sizemode": "area",
          "sizeref": 0.18706729166666666
         },
         "mode": "markers",
         "name": "LBN",
         "showlegend": true,
         "subplot": "mapbox",
         "type": "scattermapbox"
        },
        {
         "hovertemplate": "<b>%{hovertext}</b><br><br>iso_alpha=MYS<br>lifeExp_mean=%{marker.size}<br>Latitude (average)=%{lat}<br>Longitude (average)=%{lon}<extra></extra>",
         "hovertext": [
          "Malaysia"
         ],
         "lat": [
          2.5
         ],
         "legendgroup": "MYS",
         "lon": [
          112.5
         ],
         "marker": {
          "color": "#FF6692",
          "size": [
           64.27958333333332
          ],
          "sizemode": "area",
          "sizeref": 0.18706729166666666
         },
         "mode": "markers",
         "name": "MYS",
         "showlegend": true,
         "subplot": "mapbox",
         "type": "scattermapbox"
        },
        {
         "hovertemplate": "<b>%{hovertext}</b><br><br>iso_alpha=MNG<br>lifeExp_mean=%{marker.size}<br>Latitude (average)=%{lat}<br>Longitude (average)=%{lon}<extra></extra>",
         "hovertext": [
          "Mongolia"
         ],
         "lat": [
          46
         ],
         "legendgroup": "MNG",
         "lon": [
          105
         ],
         "marker": {
          "color": "#B6E880",
          "size": [
           55.89033333333333
          ],
          "sizemode": "area",
          "sizeref": 0.18706729166666666
         },
         "mode": "markers",
         "name": "MNG",
         "showlegend": true,
         "subplot": "mapbox",
         "type": "scattermapbox"
        },
        {
         "hovertemplate": "<b>%{hovertext}</b><br><br>iso_alpha=MMR<br>lifeExp_mean=%{marker.size}<br>Latitude (average)=%{lat}<br>Longitude (average)=%{lon}<extra></extra>",
         "hovertext": [
          "Myanmar"
         ],
         "lat": [
          22
         ],
         "legendgroup": "MMR",
         "lon": [
          98
         ],
         "marker": {
          "color": "#FF97FF",
          "size": [
           53.32166666666666
          ],
          "sizemode": "area",
          "sizeref": 0.18706729166666666
         },
         "mode": "markers",
         "name": "MMR",
         "showlegend": true,
         "subplot": "mapbox",
         "type": "scattermapbox"
        },
        {
         "hovertemplate": "<b>%{hovertext}</b><br><br>iso_alpha=NPL<br>lifeExp_mean=%{marker.size}<br>Latitude (average)=%{lat}<br>Longitude (average)=%{lon}<extra></extra>",
         "hovertext": [
          "Nepal"
         ],
         "lat": [
          28
         ],
         "legendgroup": "NPL",
         "lon": [
          84
         ],
         "marker": {
          "color": "#FECB52",
          "size": [
           48.98633333333333
          ],
          "sizemode": "area",
          "sizeref": 0.18706729166666666
         },
         "mode": "markers",
         "name": "NPL",
         "showlegend": true,
         "subplot": "mapbox",
         "type": "scattermapbox"
        },
        {
         "hovertemplate": "<b>%{hovertext}</b><br><br>iso_alpha=OMN<br>lifeExp_mean=%{marker.size}<br>Latitude (average)=%{lat}<br>Longitude (average)=%{lon}<extra></extra>",
         "hovertext": [
          "Oman"
         ],
         "lat": [
          21
         ],
         "legendgroup": "OMN",
         "lon": [
          57
         ],
         "marker": {
          "color": "#636efa",
          "size": [
           58.44266666666667
          ],
          "sizemode": "area",
          "sizeref": 0.18706729166666666
         },
         "mode": "markers",
         "name": "OMN",
         "showlegend": true,
         "subplot": "mapbox",
         "type": "scattermapbox"
        },
        {
         "hovertemplate": "<b>%{hovertext}</b><br><br>iso_alpha=PAK<br>lifeExp_mean=%{marker.size}<br>Latitude (average)=%{lat}<br>Longitude (average)=%{lon}<extra></extra>",
         "hovertext": [
          "Pakistan"
         ],
         "lat": [
          30
         ],
         "legendgroup": "PAK",
         "lon": [
          70
         ],
         "marker": {
          "color": "#EF553B",
          "size": [
           54.88225
          ],
          "sizemode": "area",
          "sizeref": 0.18706729166666666
         },
         "mode": "markers",
         "name": "PAK",
         "showlegend": true,
         "subplot": "mapbox",
         "type": "scattermapbox"
        },
        {
         "hovertemplate": "<b>%{hovertext}</b><br><br>iso_alpha=PHL<br>lifeExp_mean=%{marker.size}<br>Latitude (average)=%{lat}<br>Longitude (average)=%{lon}<extra></extra>",
         "hovertext": [
          "Philippines"
         ],
         "lat": [
          13
         ],
         "legendgroup": "PHL",
         "lon": [
          122
         ],
         "marker": {
          "color": "#00cc96",
          "size": [
           60.96725
          ],
          "sizemode": "area",
          "sizeref": 0.18706729166666666
         },
         "mode": "markers",
         "name": "PHL",
         "showlegend": true,
         "subplot": "mapbox",
         "type": "scattermapbox"
        },
        {
         "hovertemplate": "<b>%{hovertext}</b><br><br>iso_alpha=SAU<br>lifeExp_mean=%{marker.size}<br>Latitude (average)=%{lat}<br>Longitude (average)=%{lon}<extra></extra>",
         "hovertext": [
          "Saudi Arabia"
         ],
         "lat": [
          25
         ],
         "legendgroup": "SAU",
         "lon": [
          45
         ],
         "marker": {
          "color": "#ab63fa",
          "size": [
           58.67875000000001
          ],
          "sizemode": "area",
          "sizeref": 0.18706729166666666
         },
         "mode": "markers",
         "name": "SAU",
         "showlegend": true,
         "subplot": "mapbox",
         "type": "scattermapbox"
        },
        {
         "hovertemplate": "<b>%{hovertext}</b><br><br>iso_alpha=SGP<br>lifeExp_mean=%{marker.size}<br>Latitude (average)=%{lat}<br>Longitude (average)=%{lon}<extra></extra>",
         "hovertext": [
          "Singapore"
         ],
         "lat": [
          1.3667
         ],
         "legendgroup": "SGP",
         "lon": [
          103.8
         ],
         "marker": {
          "color": "#FFA15A",
          "size": [
           71.22025
          ],
          "sizemode": "area",
          "sizeref": 0.18706729166666666
         },
         "mode": "markers",
         "name": "SGP",
         "showlegend": true,
         "subplot": "mapbox",
         "type": "scattermapbox"
        },
        {
         "hovertemplate": "<b>%{hovertext}</b><br><br>iso_alpha=LKA<br>lifeExp_mean=%{marker.size}<br>Latitude (average)=%{lat}<br>Longitude (average)=%{lon}<extra></extra>",
         "hovertext": [
          "Sri Lanka"
         ],
         "lat": [
          7
         ],
         "legendgroup": "LKA",
         "lon": [
          81
         ],
         "marker": {
          "color": "#19d3f3",
          "size": [
           66.52608333333332
          ],
          "sizemode": "area",
          "sizeref": 0.18706729166666666
         },
         "mode": "markers",
         "name": "LKA",
         "showlegend": true,
         "subplot": "mapbox",
         "type": "scattermapbox"
        },
        {
         "hovertemplate": "<b>%{hovertext}</b><br><br>iso_alpha=SYR<br>lifeExp_mean=%{marker.size}<br>Latitude (average)=%{lat}<br>Longitude (average)=%{lon}<extra></extra>",
         "hovertext": [
          "Syria"
         ],
         "lat": [
          35
         ],
         "legendgroup": "SYR",
         "lon": [
          38
         ],
         "marker": {
          "color": "#FF6692",
          "size": [
           61.34616666666667
          ],
          "sizemode": "area",
          "sizeref": 0.18706729166666666
         },
         "mode": "markers",
         "name": "SYR",
         "showlegend": true,
         "subplot": "mapbox",
         "type": "scattermapbox"
        },
        {
         "hovertemplate": "<b>%{hovertext}</b><br><br>iso_alpha=TWN<br>lifeExp_mean=%{marker.size}<br>Latitude (average)=%{lat}<br>Longitude (average)=%{lon}<extra></extra>",
         "hovertext": [
          "Taiwan"
         ],
         "lat": [
          23.5
         ],
         "legendgroup": "TWN",
         "lon": [
          121
         ],
         "marker": {
          "color": "#B6E880",
          "size": [
           70.33666666666667
          ],
          "sizemode": "area",
          "sizeref": 0.18706729166666666
         },
         "mode": "markers",
         "name": "TWN",
         "showlegend": true,
         "subplot": "mapbox",
         "type": "scattermapbox"
        },
        {
         "hovertemplate": "<b>%{hovertext}</b><br><br>iso_alpha=THA<br>lifeExp_mean=%{marker.size}<br>Latitude (average)=%{lat}<br>Longitude (average)=%{lon}<extra></extra>",
         "hovertext": [
          "Thailand"
         ],
         "lat": [
          15
         ],
         "legendgroup": "THA",
         "lon": [
          100
         ],
         "marker": {
          "color": "#FF97FF",
          "size": [
           62.20024999999999
          ],
          "sizemode": "area",
          "sizeref": 0.18706729166666666
         },
         "mode": "markers",
         "name": "THA",
         "showlegend": true,
         "subplot": "mapbox",
         "type": "scattermapbox"
        },
        {
         "hovertemplate": "<b>%{hovertext}</b><br><br>iso_alpha=VNM<br>lifeExp_mean=%{marker.size}<br>Latitude (average)=%{lat}<br>Longitude (average)=%{lon}<extra></extra>",
         "hovertext": [
          "Vietnam"
         ],
         "lat": [
          16
         ],
         "legendgroup": "VNM",
         "lon": [
          106
         ],
         "marker": {
          "color": "#FECB52",
          "size": [
           57.47950000000002
          ],
          "sizemode": "area",
          "sizeref": 0.18706729166666666
         },
         "mode": "markers",
         "name": "VNM",
         "showlegend": true,
         "subplot": "mapbox",
         "type": "scattermapbox"
        },
        {
         "hovertemplate": "<b>%{hovertext}</b><br><br>iso_alpha=PSE<br>lifeExp_mean=%{marker.size}<br>Latitude (average)=%{lat}<br>Longitude (average)=%{lon}<extra></extra>",
         "hovertext": [
          "West Bank and Gaza"
         ],
         "lat": [
          32
         ],
         "legendgroup": "PSE",
         "lon": [
          35.25
         ],
         "marker": {
          "color": "#636efa",
          "size": [
           60.32866666666667
          ],
          "sizemode": "area",
          "sizeref": 0.18706729166666666
         },
         "mode": "markers",
         "name": "PSE",
         "showlegend": true,
         "subplot": "mapbox",
         "type": "scattermapbox"
        },
        {
         "hovertemplate": "<b>%{hovertext}</b><br><br>iso_alpha=YEM<br>lifeExp_mean=%{marker.size}<br>Latitude (average)=%{lat}<br>Longitude (average)=%{lon}<extra></extra>",
         "hovertext": [
          "Yemen, Rep."
         ],
         "lat": [
          15
         ],
         "legendgroup": "YEM",
         "lon": [
          48
         ],
         "marker": {
          "color": "#EF553B",
          "size": [
           46.78041666666667
          ],
          "sizemode": "area",
          "sizeref": 0.18706729166666666
         },
         "mode": "markers",
         "name": "YEM",
         "showlegend": true,
         "subplot": "mapbox",
         "type": "scattermapbox"
        }
       ],
       "layout": {
        "height": 500,
        "legend": {
         "itemsizing": "constant",
         "title": {
          "text": "iso_alpha"
         },
         "tracegroupgap": 0
        },
        "mapbox": {
         "center": {
          "lat": 24.281439393939394,
          "lon": 81.7426696969697
         },
         "domain": {
          "x": [
           0,
           1
          ],
          "y": [
           0,
           1
          ]
         },
         "style": "carto-positron",
         "zoom": 2
        },
        "margin": {
         "t": 60
        },
        "template": {
         "data": {
          "bar": [
           {
            "error_x": {
             "color": "#2a3f5f"
            },
            "error_y": {
             "color": "#2a3f5f"
            },
            "marker": {
             "line": {
              "color": "#E5ECF6",
              "width": 0.5
             }
            },
            "type": "bar"
           }
          ],
          "barpolar": [
           {
            "marker": {
             "line": {
              "color": "#E5ECF6",
              "width": 0.5
             }
            },
            "type": "barpolar"
           }
          ],
          "carpet": [
           {
            "aaxis": {
             "endlinecolor": "#2a3f5f",
             "gridcolor": "white",
             "linecolor": "white",
             "minorgridcolor": "white",
             "startlinecolor": "#2a3f5f"
            },
            "baxis": {
             "endlinecolor": "#2a3f5f",
             "gridcolor": "white",
             "linecolor": "white",
             "minorgridcolor": "white",
             "startlinecolor": "#2a3f5f"
            },
            "type": "carpet"
           }
          ],
          "choropleth": [
           {
            "colorbar": {
             "outlinewidth": 0,
             "ticks": ""
            },
            "type": "choropleth"
           }
          ],
          "contour": [
           {
            "colorbar": {
             "outlinewidth": 0,
             "ticks": ""
            },
            "colorscale": [
             [
              0,
              "#0d0887"
             ],
             [
              0.1111111111111111,
              "#46039f"
             ],
             [
              0.2222222222222222,
              "#7201a8"
             ],
             [
              0.3333333333333333,
              "#9c179e"
             ],
             [
              0.4444444444444444,
              "#bd3786"
             ],
             [
              0.5555555555555556,
              "#d8576b"
             ],
             [
              0.6666666666666666,
              "#ed7953"
             ],
             [
              0.7777777777777778,
              "#fb9f3a"
             ],
             [
              0.8888888888888888,
              "#fdca26"
             ],
             [
              1,
              "#f0f921"
             ]
            ],
            "type": "contour"
           }
          ],
          "contourcarpet": [
           {
            "colorbar": {
             "outlinewidth": 0,
             "ticks": ""
            },
            "type": "contourcarpet"
           }
          ],
          "heatmap": [
           {
            "colorbar": {
             "outlinewidth": 0,
             "ticks": ""
            },
            "colorscale": [
             [
              0,
              "#0d0887"
             ],
             [
              0.1111111111111111,
              "#46039f"
             ],
             [
              0.2222222222222222,
              "#7201a8"
             ],
             [
              0.3333333333333333,
              "#9c179e"
             ],
             [
              0.4444444444444444,
              "#bd3786"
             ],
             [
              0.5555555555555556,
              "#d8576b"
             ],
             [
              0.6666666666666666,
              "#ed7953"
             ],
             [
              0.7777777777777778,
              "#fb9f3a"
             ],
             [
              0.8888888888888888,
              "#fdca26"
             ],
             [
              1,
              "#f0f921"
             ]
            ],
            "type": "heatmap"
           }
          ],
          "heatmapgl": [
           {
            "colorbar": {
             "outlinewidth": 0,
             "ticks": ""
            },
            "colorscale": [
             [
              0,
              "#0d0887"
             ],
             [
              0.1111111111111111,
              "#46039f"
             ],
             [
              0.2222222222222222,
              "#7201a8"
             ],
             [
              0.3333333333333333,
              "#9c179e"
             ],
             [
              0.4444444444444444,
              "#bd3786"
             ],
             [
              0.5555555555555556,
              "#d8576b"
             ],
             [
              0.6666666666666666,
              "#ed7953"
             ],
             [
              0.7777777777777778,
              "#fb9f3a"
             ],
             [
              0.8888888888888888,
              "#fdca26"
             ],
             [
              1,
              "#f0f921"
             ]
            ],
            "type": "heatmapgl"
           }
          ],
          "histogram": [
           {
            "marker": {
             "colorbar": {
              "outlinewidth": 0,
              "ticks": ""
             }
            },
            "type": "histogram"
           }
          ],
          "histogram2d": [
           {
            "colorbar": {
             "outlinewidth": 0,
             "ticks": ""
            },
            "colorscale": [
             [
              0,
              "#0d0887"
             ],
             [
              0.1111111111111111,
              "#46039f"
             ],
             [
              0.2222222222222222,
              "#7201a8"
             ],
             [
              0.3333333333333333,
              "#9c179e"
             ],
             [
              0.4444444444444444,
              "#bd3786"
             ],
             [
              0.5555555555555556,
              "#d8576b"
             ],
             [
              0.6666666666666666,
              "#ed7953"
             ],
             [
              0.7777777777777778,
              "#fb9f3a"
             ],
             [
              0.8888888888888888,
              "#fdca26"
             ],
             [
              1,
              "#f0f921"
             ]
            ],
            "type": "histogram2d"
           }
          ],
          "histogram2dcontour": [
           {
            "colorbar": {
             "outlinewidth": 0,
             "ticks": ""
            },
            "colorscale": [
             [
              0,
              "#0d0887"
             ],
             [
              0.1111111111111111,
              "#46039f"
             ],
             [
              0.2222222222222222,
              "#7201a8"
             ],
             [
              0.3333333333333333,
              "#9c179e"
             ],
             [
              0.4444444444444444,
              "#bd3786"
             ],
             [
              0.5555555555555556,
              "#d8576b"
             ],
             [
              0.6666666666666666,
              "#ed7953"
             ],
             [
              0.7777777777777778,
              "#fb9f3a"
             ],
             [
              0.8888888888888888,
              "#fdca26"
             ],
             [
              1,
              "#f0f921"
             ]
            ],
            "type": "histogram2dcontour"
           }
          ],
          "mesh3d": [
           {
            "colorbar": {
             "outlinewidth": 0,
             "ticks": ""
            },
            "type": "mesh3d"
           }
          ],
          "parcoords": [
           {
            "line": {
             "colorbar": {
              "outlinewidth": 0,
              "ticks": ""
             }
            },
            "type": "parcoords"
           }
          ],
          "pie": [
           {
            "automargin": true,
            "type": "pie"
           }
          ],
          "scatter": [
           {
            "marker": {
             "colorbar": {
              "outlinewidth": 0,
              "ticks": ""
             }
            },
            "type": "scatter"
           }
          ],
          "scatter3d": [
           {
            "line": {
             "colorbar": {
              "outlinewidth": 0,
              "ticks": ""
             }
            },
            "marker": {
             "colorbar": {
              "outlinewidth": 0,
              "ticks": ""
             }
            },
            "type": "scatter3d"
           }
          ],
          "scattercarpet": [
           {
            "marker": {
             "colorbar": {
              "outlinewidth": 0,
              "ticks": ""
             }
            },
            "type": "scattercarpet"
           }
          ],
          "scattergeo": [
           {
            "marker": {
             "colorbar": {
              "outlinewidth": 0,
              "ticks": ""
             }
            },
            "type": "scattergeo"
           }
          ],
          "scattergl": [
           {
            "marker": {
             "colorbar": {
              "outlinewidth": 0,
              "ticks": ""
             }
            },
            "type": "scattergl"
           }
          ],
          "scattermapbox": [
           {
            "marker": {
             "colorbar": {
              "outlinewidth": 0,
              "ticks": ""
             }
            },
            "type": "scattermapbox"
           }
          ],
          "scatterpolar": [
           {
            "marker": {
             "colorbar": {
              "outlinewidth": 0,
              "ticks": ""
             }
            },
            "type": "scatterpolar"
           }
          ],
          "scatterpolargl": [
           {
            "marker": {
             "colorbar": {
              "outlinewidth": 0,
              "ticks": ""
             }
            },
            "type": "scatterpolargl"
           }
          ],
          "scatterternary": [
           {
            "marker": {
             "colorbar": {
              "outlinewidth": 0,
              "ticks": ""
             }
            },
            "type": "scatterternary"
           }
          ],
          "surface": [
           {
            "colorbar": {
             "outlinewidth": 0,
             "ticks": ""
            },
            "colorscale": [
             [
              0,
              "#0d0887"
             ],
             [
              0.1111111111111111,
              "#46039f"
             ],
             [
              0.2222222222222222,
              "#7201a8"
             ],
             [
              0.3333333333333333,
              "#9c179e"
             ],
             [
              0.4444444444444444,
              "#bd3786"
             ],
             [
              0.5555555555555556,
              "#d8576b"
             ],
             [
              0.6666666666666666,
              "#ed7953"
             ],
             [
              0.7777777777777778,
              "#fb9f3a"
             ],
             [
              0.8888888888888888,
              "#fdca26"
             ],
             [
              1,
              "#f0f921"
             ]
            ],
            "type": "surface"
           }
          ],
          "table": [
           {
            "cells": {
             "fill": {
              "color": "#EBF0F8"
             },
             "line": {
              "color": "white"
             }
            },
            "header": {
             "fill": {
              "color": "#C8D4E3"
             },
             "line": {
              "color": "white"
             }
            },
            "type": "table"
           }
          ]
         },
         "layout": {
          "annotationdefaults": {
           "arrowcolor": "#2a3f5f",
           "arrowhead": 0,
           "arrowwidth": 1
          },
          "autotypenumbers": "strict",
          "coloraxis": {
           "colorbar": {
            "outlinewidth": 0,
            "ticks": ""
           }
          },
          "colorscale": {
           "diverging": [
            [
             0,
             "#8e0152"
            ],
            [
             0.1,
             "#c51b7d"
            ],
            [
             0.2,
             "#de77ae"
            ],
            [
             0.3,
             "#f1b6da"
            ],
            [
             0.4,
             "#fde0ef"
            ],
            [
             0.5,
             "#f7f7f7"
            ],
            [
             0.6,
             "#e6f5d0"
            ],
            [
             0.7,
             "#b8e186"
            ],
            [
             0.8,
             "#7fbc41"
            ],
            [
             0.9,
             "#4d9221"
            ],
            [
             1,
             "#276419"
            ]
           ],
           "sequential": [
            [
             0,
             "#0d0887"
            ],
            [
             0.1111111111111111,
             "#46039f"
            ],
            [
             0.2222222222222222,
             "#7201a8"
            ],
            [
             0.3333333333333333,
             "#9c179e"
            ],
            [
             0.4444444444444444,
             "#bd3786"
            ],
            [
             0.5555555555555556,
             "#d8576b"
            ],
            [
             0.6666666666666666,
             "#ed7953"
            ],
            [
             0.7777777777777778,
             "#fb9f3a"
            ],
            [
             0.8888888888888888,
             "#fdca26"
            ],
            [
             1,
             "#f0f921"
            ]
           ],
           "sequentialminus": [
            [
             0,
             "#0d0887"
            ],
            [
             0.1111111111111111,
             "#46039f"
            ],
            [
             0.2222222222222222,
             "#7201a8"
            ],
            [
             0.3333333333333333,
             "#9c179e"
            ],
            [
             0.4444444444444444,
             "#bd3786"
            ],
            [
             0.5555555555555556,
             "#d8576b"
            ],
            [
             0.6666666666666666,
             "#ed7953"
            ],
            [
             0.7777777777777778,
             "#fb9f3a"
            ],
            [
             0.8888888888888888,
             "#fdca26"
            ],
            [
             1,
             "#f0f921"
            ]
           ]
          },
          "colorway": [
           "#636efa",
           "#EF553B",
           "#00cc96",
           "#ab63fa",
           "#FFA15A",
           "#19d3f3",
           "#FF6692",
           "#B6E880",
           "#FF97FF",
           "#FECB52"
          ],
          "font": {
           "color": "#2a3f5f"
          },
          "geo": {
           "bgcolor": "white",
           "lakecolor": "white",
           "landcolor": "#E5ECF6",
           "showlakes": true,
           "showland": true,
           "subunitcolor": "white"
          },
          "hoverlabel": {
           "align": "left"
          },
          "hovermode": "closest",
          "mapbox": {
           "style": "light"
          },
          "paper_bgcolor": "white",
          "plot_bgcolor": "#E5ECF6",
          "polar": {
           "angularaxis": {
            "gridcolor": "white",
            "linecolor": "white",
            "ticks": ""
           },
           "bgcolor": "#E5ECF6",
           "radialaxis": {
            "gridcolor": "white",
            "linecolor": "white",
            "ticks": ""
           }
          },
          "scene": {
           "xaxis": {
            "backgroundcolor": "#E5ECF6",
            "gridcolor": "white",
            "gridwidth": 2,
            "linecolor": "white",
            "showbackground": true,
            "ticks": "",
            "zerolinecolor": "white"
           },
           "yaxis": {
            "backgroundcolor": "#E5ECF6",
            "gridcolor": "white",
            "gridwidth": 2,
            "linecolor": "white",
            "showbackground": true,
            "ticks": "",
            "zerolinecolor": "white"
           },
           "zaxis": {
            "backgroundcolor": "#E5ECF6",
            "gridcolor": "white",
            "gridwidth": 2,
            "linecolor": "white",
            "showbackground": true,
            "ticks": "",
            "zerolinecolor": "white"
           }
          },
          "shapedefaults": {
           "line": {
            "color": "#2a3f5f"
           }
          },
          "ternary": {
           "aaxis": {
            "gridcolor": "white",
            "linecolor": "white",
            "ticks": ""
           },
           "baxis": {
            "gridcolor": "white",
            "linecolor": "white",
            "ticks": ""
           },
           "bgcolor": "#E5ECF6",
           "caxis": {
            "gridcolor": "white",
            "linecolor": "white",
            "ticks": ""
           }
          },
          "title": {
           "x": 0.05
          },
          "xaxis": {
           "automargin": true,
           "gridcolor": "white",
           "linecolor": "white",
           "ticks": "",
           "title": {
            "standoff": 15
           },
           "zerolinecolor": "white",
           "zerolinewidth": 2
          },
          "yaxis": {
           "automargin": true,
           "gridcolor": "white",
           "linecolor": "white",
           "ticks": "",
           "title": {
            "standoff": 15
           },
           "zerolinecolor": "white",
           "zerolinewidth": 2
          }
         }
        }
       }
      },
      "text/html": [
       "<div>                            <div id=\"c0d9506d-8f5e-4c9b-8208-7283541da6ce\" class=\"plotly-graph-div\" style=\"height:500px; width:100%;\"></div>            <script type=\"text/javascript\">                require([\"plotly\"], function(Plotly) {                    window.PLOTLYENV=window.PLOTLYENV || {};                                    if (document.getElementById(\"c0d9506d-8f5e-4c9b-8208-7283541da6ce\")) {                    Plotly.newPlot(                        \"c0d9506d-8f5e-4c9b-8208-7283541da6ce\",                        [{\"hovertemplate\": \"<b>%{hovertext}</b><br><br>iso_alpha=AFG<br>lifeExp_mean=%{marker.size}<br>Latitude (average)=%{lat}<br>Longitude (average)=%{lon}<extra></extra>\", \"hovertext\": [\"Afghanistan\"], \"lat\": [33.0], \"legendgroup\": \"AFG\", \"lon\": [65.0], \"marker\": {\"color\": \"#636efa\", \"size\": [37.478833333333334], \"sizemode\": \"area\", \"sizeref\": 0.18706729166666666}, \"mode\": \"markers\", \"name\": \"AFG\", \"showlegend\": true, \"subplot\": \"mapbox\", \"type\": \"scattermapbox\"}, {\"hovertemplate\": \"<b>%{hovertext}</b><br><br>iso_alpha=BHR<br>lifeExp_mean=%{marker.size}<br>Latitude (average)=%{lat}<br>Longitude (average)=%{lon}<extra></extra>\", \"hovertext\": [\"Bahrain\"], \"lat\": [26.0], \"legendgroup\": \"BHR\", \"lon\": [50.55], \"marker\": {\"color\": \"#EF553B\", \"size\": [65.60566666666666], \"sizemode\": \"area\", \"sizeref\": 0.18706729166666666}, \"mode\": \"markers\", \"name\": \"BHR\", \"showlegend\": true, \"subplot\": \"mapbox\", \"type\": \"scattermapbox\"}, {\"hovertemplate\": \"<b>%{hovertext}</b><br><br>iso_alpha=BGD<br>lifeExp_mean=%{marker.size}<br>Latitude (average)=%{lat}<br>Longitude (average)=%{lon}<extra></extra>\", \"hovertext\": [\"Bangladesh\"], \"lat\": [24.0], \"legendgroup\": \"BGD\", \"lon\": [90.0], \"marker\": {\"color\": \"#00cc96\", \"size\": [49.83408333333333], \"sizemode\": \"area\", \"sizeref\": 0.18706729166666666}, \"mode\": \"markers\", \"name\": \"BGD\", \"showlegend\": true, \"subplot\": \"mapbox\", \"type\": \"scattermapbox\"}, {\"hovertemplate\": \"<b>%{hovertext}</b><br><br>iso_alpha=KHM<br>lifeExp_mean=%{marker.size}<br>Latitude (average)=%{lat}<br>Longitude (average)=%{lon}<extra></extra>\", \"hovertext\": [\"Cambodia\"], \"lat\": [13.0], \"legendgroup\": \"KHM\", \"lon\": [105.0], \"marker\": {\"color\": \"#ab63fa\", \"size\": [47.90275], \"sizemode\": \"area\", \"sizeref\": 0.18706729166666666}, \"mode\": \"markers\", \"name\": \"KHM\", \"showlegend\": true, \"subplot\": \"mapbox\", \"type\": \"scattermapbox\"}, {\"hovertemplate\": \"<b>%{hovertext}</b><br><br>iso_alpha=CHN<br>lifeExp_mean=%{marker.size}<br>Latitude (average)=%{lat}<br>Longitude (average)=%{lon}<extra></extra>\", \"hovertext\": [\"China\"], \"lat\": [35.0], \"legendgroup\": \"CHN\", \"lon\": [105.0], \"marker\": {\"color\": \"#FFA15A\", \"size\": [61.785140000000006], \"sizemode\": \"area\", \"sizeref\": 0.18706729166666666}, \"mode\": \"markers\", \"name\": \"CHN\", \"showlegend\": true, \"subplot\": \"mapbox\", \"type\": \"scattermapbox\"}, {\"hovertemplate\": \"<b>%{hovertext}</b><br><br>iso_alpha=HKG<br>lifeExp_mean=%{marker.size}<br>Latitude (average)=%{lat}<br>Longitude (average)=%{lon}<extra></extra>\", \"hovertext\": [\"Hong Kong, China\"], \"lat\": [22.25], \"legendgroup\": \"HKG\", \"lon\": [114.1667], \"marker\": {\"color\": \"#19d3f3\", \"size\": [73.49283333333334], \"sizemode\": \"area\", \"sizeref\": 0.18706729166666666}, \"mode\": \"markers\", \"name\": \"HKG\", \"showlegend\": true, \"subplot\": \"mapbox\", \"type\": \"scattermapbox\"}, {\"hovertemplate\": \"<b>%{hovertext}</b><br><br>iso_alpha=IND<br>lifeExp_mean=%{marker.size}<br>Latitude (average)=%{lat}<br>Longitude (average)=%{lon}<extra></extra>\", \"hovertext\": [\"India\"], \"lat\": [20.0], \"legendgroup\": \"IND\", \"lon\": [77.0], \"marker\": {\"color\": \"#FF6692\", \"size\": [53.166083333333326], \"sizemode\": \"area\", \"sizeref\": 0.18706729166666666}, \"mode\": \"markers\", \"name\": \"IND\", \"showlegend\": true, \"subplot\": \"mapbox\", \"type\": \"scattermapbox\"}, {\"hovertemplate\": \"<b>%{hovertext}</b><br><br>iso_alpha=IDN<br>lifeExp_mean=%{marker.size}<br>Latitude (average)=%{lat}<br>Longitude (average)=%{lon}<extra></extra>\", \"hovertext\": [\"Indonesia\"], \"lat\": [-5.0], \"legendgroup\": \"IDN\", \"lon\": [120.0], \"marker\": {\"color\": \"#B6E880\", \"size\": [54.33574999999999], \"sizemode\": \"area\", \"sizeref\": 0.18706729166666666}, \"mode\": \"markers\", \"name\": \"IDN\", \"showlegend\": true, \"subplot\": \"mapbox\", \"type\": \"scattermapbox\"}, {\"hovertemplate\": \"<b>%{hovertext}</b><br><br>iso_alpha=IRN<br>lifeExp_mean=%{marker.size}<br>Latitude (average)=%{lat}<br>Longitude (average)=%{lon}<extra></extra>\", \"hovertext\": [\"Iran\"], \"lat\": [32.0], \"legendgroup\": \"IRN\", \"lon\": [53.0], \"marker\": {\"color\": \"#FF97FF\", \"size\": [58.63658333333334], \"sizemode\": \"area\", \"sizeref\": 0.18706729166666666}, \"mode\": \"markers\", \"name\": \"IRN\", \"showlegend\": true, \"subplot\": \"mapbox\", \"type\": \"scattermapbox\"}, {\"hovertemplate\": \"<b>%{hovertext}</b><br><br>iso_alpha=IRQ<br>lifeExp_mean=%{marker.size}<br>Latitude (average)=%{lat}<br>Longitude (average)=%{lon}<extra></extra>\", \"hovertext\": [\"Iraq\"], \"lat\": [33.0], \"legendgroup\": \"IRQ\", \"lon\": [44.0], \"marker\": {\"color\": \"#FECB52\", \"size\": [56.58175], \"sizemode\": \"area\", \"sizeref\": 0.18706729166666666}, \"mode\": \"markers\", \"name\": \"IRQ\", \"showlegend\": true, \"subplot\": \"mapbox\", \"type\": \"scattermapbox\"}, {\"hovertemplate\": \"<b>%{hovertext}</b><br><br>iso_alpha=ISR<br>lifeExp_mean=%{marker.size}<br>Latitude (average)=%{lat}<br>Longitude (average)=%{lon}<extra></extra>\", \"hovertext\": [\"Israel\"], \"lat\": [31.5], \"legendgroup\": \"ISR\", \"lon\": [34.75], \"marker\": {\"color\": \"#636efa\", \"size\": [73.64583333333333], \"sizemode\": \"area\", \"sizeref\": 0.18706729166666666}, \"mode\": \"markers\", \"name\": \"ISR\", \"showlegend\": true, \"subplot\": \"mapbox\", \"type\": \"scattermapbox\"}, {\"hovertemplate\": \"<b>%{hovertext}</b><br><br>iso_alpha=JPN<br>lifeExp_mean=%{marker.size}<br>Latitude (average)=%{lat}<br>Longitude (average)=%{lon}<extra></extra>\", \"hovertext\": [\"Japan\"], \"lat\": [36.0], \"legendgroup\": \"JPN\", \"lon\": [138.0], \"marker\": {\"color\": \"#EF553B\", \"size\": [74.82691666666666], \"sizemode\": \"area\", \"sizeref\": 0.18706729166666666}, \"mode\": \"markers\", \"name\": \"JPN\", \"showlegend\": true, \"subplot\": \"mapbox\", \"type\": \"scattermapbox\"}, {\"hovertemplate\": \"<b>%{hovertext}</b><br><br>iso_alpha=JOR<br>lifeExp_mean=%{marker.size}<br>Latitude (average)=%{lat}<br>Longitude (average)=%{lon}<extra></extra>\", \"hovertext\": [\"Jordan\"], \"lat\": [31.0], \"legendgroup\": \"JOR\", \"lon\": [36.0], \"marker\": {\"color\": \"#00cc96\", \"size\": [59.78641666666666], \"sizemode\": \"area\", \"sizeref\": 0.18706729166666666}, \"mode\": \"markers\", \"name\": \"JOR\", \"showlegend\": true, \"subplot\": \"mapbox\", \"type\": \"scattermapbox\"}, {\"hovertemplate\": \"<b>%{hovertext}</b><br><br>iso_alpha=KOR<br>lifeExp_mean=%{marker.size}<br>Latitude (average)=%{lat}<br>Longitude (average)=%{lon}<extra></extra>\", \"hovertext\": [\"Korea, Dem. Rep.\", \"Korea, Rep.\"], \"lat\": [37.0, 37.0], \"legendgroup\": \"KOR\", \"lon\": [127.5, 127.5], \"marker\": {\"color\": \"#ab63fa\", \"size\": [63.60733333333335, 65.00099999999999], \"sizemode\": \"area\", \"sizeref\": 0.18706729166666666}, \"mode\": \"markers\", \"name\": \"KOR\", \"showlegend\": true, \"subplot\": \"mapbox\", \"type\": \"scattermapbox\"}, {\"hovertemplate\": \"<b>%{hovertext}</b><br><br>iso_alpha=KWT<br>lifeExp_mean=%{marker.size}<br>Latitude (average)=%{lat}<br>Longitude (average)=%{lon}<extra></extra>\", \"hovertext\": [\"Kuwait\"], \"lat\": [29.3375], \"legendgroup\": \"KWT\", \"lon\": [47.6581], \"marker\": {\"color\": \"#FFA15A\", \"size\": [68.92233333333333], \"sizemode\": \"area\", \"sizeref\": 0.18706729166666666}, \"mode\": \"markers\", \"name\": \"KWT\", \"showlegend\": true, \"subplot\": \"mapbox\", \"type\": \"scattermapbox\"}, {\"hovertemplate\": \"<b>%{hovertext}</b><br><br>iso_alpha=LBN<br>lifeExp_mean=%{marker.size}<br>Latitude (average)=%{lat}<br>Longitude (average)=%{lon}<extra></extra>\", \"hovertext\": [\"Lebanon\"], \"lat\": [33.8333], \"legendgroup\": \"LBN\", \"lon\": [35.8333], \"marker\": {\"color\": \"#19d3f3\", \"size\": [65.86566666666666], \"sizemode\": \"area\", \"sizeref\": 0.18706729166666666}, \"mode\": \"markers\", \"name\": \"LBN\", \"showlegend\": true, \"subplot\": \"mapbox\", \"type\": \"scattermapbox\"}, {\"hovertemplate\": \"<b>%{hovertext}</b><br><br>iso_alpha=MYS<br>lifeExp_mean=%{marker.size}<br>Latitude (average)=%{lat}<br>Longitude (average)=%{lon}<extra></extra>\", \"hovertext\": [\"Malaysia\"], \"lat\": [2.5], \"legendgroup\": \"MYS\", \"lon\": [112.5], \"marker\": {\"color\": \"#FF6692\", \"size\": [64.27958333333332], \"sizemode\": \"area\", \"sizeref\": 0.18706729166666666}, \"mode\": \"markers\", \"name\": \"MYS\", \"showlegend\": true, \"subplot\": \"mapbox\", \"type\": \"scattermapbox\"}, {\"hovertemplate\": \"<b>%{hovertext}</b><br><br>iso_alpha=MNG<br>lifeExp_mean=%{marker.size}<br>Latitude (average)=%{lat}<br>Longitude (average)=%{lon}<extra></extra>\", \"hovertext\": [\"Mongolia\"], \"lat\": [46.0], \"legendgroup\": \"MNG\", \"lon\": [105.0], \"marker\": {\"color\": \"#B6E880\", \"size\": [55.89033333333333], \"sizemode\": \"area\", \"sizeref\": 0.18706729166666666}, \"mode\": \"markers\", \"name\": \"MNG\", \"showlegend\": true, \"subplot\": \"mapbox\", \"type\": \"scattermapbox\"}, {\"hovertemplate\": \"<b>%{hovertext}</b><br><br>iso_alpha=MMR<br>lifeExp_mean=%{marker.size}<br>Latitude (average)=%{lat}<br>Longitude (average)=%{lon}<extra></extra>\", \"hovertext\": [\"Myanmar\"], \"lat\": [22.0], \"legendgroup\": \"MMR\", \"lon\": [98.0], \"marker\": {\"color\": \"#FF97FF\", \"size\": [53.32166666666666], \"sizemode\": \"area\", \"sizeref\": 0.18706729166666666}, \"mode\": \"markers\", \"name\": \"MMR\", \"showlegend\": true, \"subplot\": \"mapbox\", \"type\": \"scattermapbox\"}, {\"hovertemplate\": \"<b>%{hovertext}</b><br><br>iso_alpha=NPL<br>lifeExp_mean=%{marker.size}<br>Latitude (average)=%{lat}<br>Longitude (average)=%{lon}<extra></extra>\", \"hovertext\": [\"Nepal\"], \"lat\": [28.0], \"legendgroup\": \"NPL\", \"lon\": [84.0], \"marker\": {\"color\": \"#FECB52\", \"size\": [48.98633333333333], \"sizemode\": \"area\", \"sizeref\": 0.18706729166666666}, \"mode\": \"markers\", \"name\": \"NPL\", \"showlegend\": true, \"subplot\": \"mapbox\", \"type\": \"scattermapbox\"}, {\"hovertemplate\": \"<b>%{hovertext}</b><br><br>iso_alpha=OMN<br>lifeExp_mean=%{marker.size}<br>Latitude (average)=%{lat}<br>Longitude (average)=%{lon}<extra></extra>\", \"hovertext\": [\"Oman\"], \"lat\": [21.0], \"legendgroup\": \"OMN\", \"lon\": [57.0], \"marker\": {\"color\": \"#636efa\", \"size\": [58.44266666666667], \"sizemode\": \"area\", \"sizeref\": 0.18706729166666666}, \"mode\": \"markers\", \"name\": \"OMN\", \"showlegend\": true, \"subplot\": \"mapbox\", \"type\": \"scattermapbox\"}, {\"hovertemplate\": \"<b>%{hovertext}</b><br><br>iso_alpha=PAK<br>lifeExp_mean=%{marker.size}<br>Latitude (average)=%{lat}<br>Longitude (average)=%{lon}<extra></extra>\", \"hovertext\": [\"Pakistan\"], \"lat\": [30.0], \"legendgroup\": \"PAK\", \"lon\": [70.0], \"marker\": {\"color\": \"#EF553B\", \"size\": [54.88225], \"sizemode\": \"area\", \"sizeref\": 0.18706729166666666}, \"mode\": \"markers\", \"name\": \"PAK\", \"showlegend\": true, \"subplot\": \"mapbox\", \"type\": \"scattermapbox\"}, {\"hovertemplate\": \"<b>%{hovertext}</b><br><br>iso_alpha=PHL<br>lifeExp_mean=%{marker.size}<br>Latitude (average)=%{lat}<br>Longitude (average)=%{lon}<extra></extra>\", \"hovertext\": [\"Philippines\"], \"lat\": [13.0], \"legendgroup\": \"PHL\", \"lon\": [122.0], \"marker\": {\"color\": \"#00cc96\", \"size\": [60.96725], \"sizemode\": \"area\", \"sizeref\": 0.18706729166666666}, \"mode\": \"markers\", \"name\": \"PHL\", \"showlegend\": true, \"subplot\": \"mapbox\", \"type\": \"scattermapbox\"}, {\"hovertemplate\": \"<b>%{hovertext}</b><br><br>iso_alpha=SAU<br>lifeExp_mean=%{marker.size}<br>Latitude (average)=%{lat}<br>Longitude (average)=%{lon}<extra></extra>\", \"hovertext\": [\"Saudi Arabia\"], \"lat\": [25.0], \"legendgroup\": \"SAU\", \"lon\": [45.0], \"marker\": {\"color\": \"#ab63fa\", \"size\": [58.67875000000001], \"sizemode\": \"area\", \"sizeref\": 0.18706729166666666}, \"mode\": \"markers\", \"name\": \"SAU\", \"showlegend\": true, \"subplot\": \"mapbox\", \"type\": \"scattermapbox\"}, {\"hovertemplate\": \"<b>%{hovertext}</b><br><br>iso_alpha=SGP<br>lifeExp_mean=%{marker.size}<br>Latitude (average)=%{lat}<br>Longitude (average)=%{lon}<extra></extra>\", \"hovertext\": [\"Singapore\"], \"lat\": [1.3667], \"legendgroup\": \"SGP\", \"lon\": [103.8], \"marker\": {\"color\": \"#FFA15A\", \"size\": [71.22025], \"sizemode\": \"area\", \"sizeref\": 0.18706729166666666}, \"mode\": \"markers\", \"name\": \"SGP\", \"showlegend\": true, \"subplot\": \"mapbox\", \"type\": \"scattermapbox\"}, {\"hovertemplate\": \"<b>%{hovertext}</b><br><br>iso_alpha=LKA<br>lifeExp_mean=%{marker.size}<br>Latitude (average)=%{lat}<br>Longitude (average)=%{lon}<extra></extra>\", \"hovertext\": [\"Sri Lanka\"], \"lat\": [7.0], \"legendgroup\": \"LKA\", \"lon\": [81.0], \"marker\": {\"color\": \"#19d3f3\", \"size\": [66.52608333333332], \"sizemode\": \"area\", \"sizeref\": 0.18706729166666666}, \"mode\": \"markers\", \"name\": \"LKA\", \"showlegend\": true, \"subplot\": \"mapbox\", \"type\": \"scattermapbox\"}, {\"hovertemplate\": \"<b>%{hovertext}</b><br><br>iso_alpha=SYR<br>lifeExp_mean=%{marker.size}<br>Latitude (average)=%{lat}<br>Longitude (average)=%{lon}<extra></extra>\", \"hovertext\": [\"Syria\"], \"lat\": [35.0], \"legendgroup\": \"SYR\", \"lon\": [38.0], \"marker\": {\"color\": \"#FF6692\", \"size\": [61.34616666666667], \"sizemode\": \"area\", \"sizeref\": 0.18706729166666666}, \"mode\": \"markers\", \"name\": \"SYR\", \"showlegend\": true, \"subplot\": \"mapbox\", \"type\": \"scattermapbox\"}, {\"hovertemplate\": \"<b>%{hovertext}</b><br><br>iso_alpha=TWN<br>lifeExp_mean=%{marker.size}<br>Latitude (average)=%{lat}<br>Longitude (average)=%{lon}<extra></extra>\", \"hovertext\": [\"Taiwan\"], \"lat\": [23.5], \"legendgroup\": \"TWN\", \"lon\": [121.0], \"marker\": {\"color\": \"#B6E880\", \"size\": [70.33666666666667], \"sizemode\": \"area\", \"sizeref\": 0.18706729166666666}, \"mode\": \"markers\", \"name\": \"TWN\", \"showlegend\": true, \"subplot\": \"mapbox\", \"type\": \"scattermapbox\"}, {\"hovertemplate\": \"<b>%{hovertext}</b><br><br>iso_alpha=THA<br>lifeExp_mean=%{marker.size}<br>Latitude (average)=%{lat}<br>Longitude (average)=%{lon}<extra></extra>\", \"hovertext\": [\"Thailand\"], \"lat\": [15.0], \"legendgroup\": \"THA\", \"lon\": [100.0], \"marker\": {\"color\": \"#FF97FF\", \"size\": [62.20024999999999], \"sizemode\": \"area\", \"sizeref\": 0.18706729166666666}, \"mode\": \"markers\", \"name\": \"THA\", \"showlegend\": true, \"subplot\": \"mapbox\", \"type\": \"scattermapbox\"}, {\"hovertemplate\": \"<b>%{hovertext}</b><br><br>iso_alpha=VNM<br>lifeExp_mean=%{marker.size}<br>Latitude (average)=%{lat}<br>Longitude (average)=%{lon}<extra></extra>\", \"hovertext\": [\"Vietnam\"], \"lat\": [16.0], \"legendgroup\": \"VNM\", \"lon\": [106.0], \"marker\": {\"color\": \"#FECB52\", \"size\": [57.47950000000002], \"sizemode\": \"area\", \"sizeref\": 0.18706729166666666}, \"mode\": \"markers\", \"name\": \"VNM\", \"showlegend\": true, \"subplot\": \"mapbox\", \"type\": \"scattermapbox\"}, {\"hovertemplate\": \"<b>%{hovertext}</b><br><br>iso_alpha=PSE<br>lifeExp_mean=%{marker.size}<br>Latitude (average)=%{lat}<br>Longitude (average)=%{lon}<extra></extra>\", \"hovertext\": [\"West Bank and Gaza\"], \"lat\": [32.0], \"legendgroup\": \"PSE\", \"lon\": [35.25], \"marker\": {\"color\": \"#636efa\", \"size\": [60.32866666666667], \"sizemode\": \"area\", \"sizeref\": 0.18706729166666666}, \"mode\": \"markers\", \"name\": \"PSE\", \"showlegend\": true, \"subplot\": \"mapbox\", \"type\": \"scattermapbox\"}, {\"hovertemplate\": \"<b>%{hovertext}</b><br><br>iso_alpha=YEM<br>lifeExp_mean=%{marker.size}<br>Latitude (average)=%{lat}<br>Longitude (average)=%{lon}<extra></extra>\", \"hovertext\": [\"Yemen, Rep.\"], \"lat\": [15.0], \"legendgroup\": \"YEM\", \"lon\": [48.0], \"marker\": {\"color\": \"#EF553B\", \"size\": [46.78041666666667], \"sizemode\": \"area\", \"sizeref\": 0.18706729166666666}, \"mode\": \"markers\", \"name\": \"YEM\", \"showlegend\": true, \"subplot\": \"mapbox\", \"type\": \"scattermapbox\"}],                        {\"height\": 500, \"legend\": {\"itemsizing\": \"constant\", \"title\": {\"text\": \"iso_alpha\"}, \"tracegroupgap\": 0}, \"mapbox\": {\"center\": {\"lat\": 24.281439393939394, \"lon\": 81.7426696969697}, \"domain\": {\"x\": [0.0, 1.0], \"y\": [0.0, 1.0]}, \"style\": \"carto-positron\", \"zoom\": 2}, \"margin\": {\"t\": 60}, \"template\": {\"data\": {\"bar\": [{\"error_x\": {\"color\": \"#2a3f5f\"}, \"error_y\": {\"color\": \"#2a3f5f\"}, \"marker\": {\"line\": {\"color\": \"#E5ECF6\", \"width\": 0.5}}, \"type\": \"bar\"}], \"barpolar\": [{\"marker\": {\"line\": {\"color\": \"#E5ECF6\", \"width\": 0.5}}, \"type\": \"barpolar\"}], \"carpet\": [{\"aaxis\": {\"endlinecolor\": \"#2a3f5f\", \"gridcolor\": \"white\", \"linecolor\": \"white\", \"minorgridcolor\": \"white\", \"startlinecolor\": \"#2a3f5f\"}, \"baxis\": {\"endlinecolor\": \"#2a3f5f\", \"gridcolor\": \"white\", \"linecolor\": \"white\", \"minorgridcolor\": \"white\", \"startlinecolor\": \"#2a3f5f\"}, \"type\": \"carpet\"}], \"choropleth\": [{\"colorbar\": {\"outlinewidth\": 0, \"ticks\": \"\"}, \"type\": \"choropleth\"}], \"contour\": [{\"colorbar\": {\"outlinewidth\": 0, \"ticks\": \"\"}, \"colorscale\": [[0.0, \"#0d0887\"], [0.1111111111111111, \"#46039f\"], [0.2222222222222222, \"#7201a8\"], [0.3333333333333333, \"#9c179e\"], [0.4444444444444444, \"#bd3786\"], [0.5555555555555556, \"#d8576b\"], [0.6666666666666666, \"#ed7953\"], [0.7777777777777778, \"#fb9f3a\"], [0.8888888888888888, \"#fdca26\"], [1.0, \"#f0f921\"]], \"type\": \"contour\"}], \"contourcarpet\": [{\"colorbar\": {\"outlinewidth\": 0, \"ticks\": \"\"}, \"type\": \"contourcarpet\"}], \"heatmap\": [{\"colorbar\": {\"outlinewidth\": 0, \"ticks\": \"\"}, \"colorscale\": [[0.0, \"#0d0887\"], [0.1111111111111111, \"#46039f\"], [0.2222222222222222, \"#7201a8\"], [0.3333333333333333, \"#9c179e\"], [0.4444444444444444, \"#bd3786\"], [0.5555555555555556, \"#d8576b\"], [0.6666666666666666, \"#ed7953\"], [0.7777777777777778, \"#fb9f3a\"], [0.8888888888888888, \"#fdca26\"], [1.0, \"#f0f921\"]], \"type\": \"heatmap\"}], \"heatmapgl\": [{\"colorbar\": {\"outlinewidth\": 0, \"ticks\": \"\"}, \"colorscale\": [[0.0, \"#0d0887\"], [0.1111111111111111, \"#46039f\"], [0.2222222222222222, \"#7201a8\"], [0.3333333333333333, \"#9c179e\"], [0.4444444444444444, \"#bd3786\"], [0.5555555555555556, \"#d8576b\"], [0.6666666666666666, \"#ed7953\"], [0.7777777777777778, \"#fb9f3a\"], [0.8888888888888888, \"#fdca26\"], [1.0, \"#f0f921\"]], \"type\": \"heatmapgl\"}], \"histogram\": [{\"marker\": {\"colorbar\": {\"outlinewidth\": 0, \"ticks\": \"\"}}, \"type\": \"histogram\"}], \"histogram2d\": [{\"colorbar\": {\"outlinewidth\": 0, \"ticks\": \"\"}, \"colorscale\": [[0.0, \"#0d0887\"], [0.1111111111111111, \"#46039f\"], [0.2222222222222222, \"#7201a8\"], [0.3333333333333333, \"#9c179e\"], [0.4444444444444444, \"#bd3786\"], [0.5555555555555556, \"#d8576b\"], [0.6666666666666666, \"#ed7953\"], [0.7777777777777778, \"#fb9f3a\"], [0.8888888888888888, \"#fdca26\"], [1.0, \"#f0f921\"]], \"type\": \"histogram2d\"}], \"histogram2dcontour\": [{\"colorbar\": {\"outlinewidth\": 0, \"ticks\": \"\"}, \"colorscale\": [[0.0, \"#0d0887\"], [0.1111111111111111, \"#46039f\"], [0.2222222222222222, \"#7201a8\"], [0.3333333333333333, \"#9c179e\"], [0.4444444444444444, \"#bd3786\"], [0.5555555555555556, \"#d8576b\"], [0.6666666666666666, \"#ed7953\"], [0.7777777777777778, \"#fb9f3a\"], [0.8888888888888888, \"#fdca26\"], [1.0, \"#f0f921\"]], \"type\": \"histogram2dcontour\"}], \"mesh3d\": [{\"colorbar\": {\"outlinewidth\": 0, \"ticks\": \"\"}, \"type\": \"mesh3d\"}], \"parcoords\": [{\"line\": {\"colorbar\": {\"outlinewidth\": 0, \"ticks\": \"\"}}, \"type\": \"parcoords\"}], \"pie\": [{\"automargin\": true, \"type\": \"pie\"}], \"scatter\": [{\"marker\": {\"colorbar\": {\"outlinewidth\": 0, \"ticks\": \"\"}}, \"type\": \"scatter\"}], \"scatter3d\": [{\"line\": {\"colorbar\": {\"outlinewidth\": 0, \"ticks\": \"\"}}, \"marker\": {\"colorbar\": {\"outlinewidth\": 0, \"ticks\": \"\"}}, \"type\": \"scatter3d\"}], \"scattercarpet\": [{\"marker\": {\"colorbar\": {\"outlinewidth\": 0, \"ticks\": \"\"}}, \"type\": \"scattercarpet\"}], \"scattergeo\": [{\"marker\": {\"colorbar\": {\"outlinewidth\": 0, \"ticks\": \"\"}}, \"type\": \"scattergeo\"}], \"scattergl\": [{\"marker\": {\"colorbar\": {\"outlinewidth\": 0, \"ticks\": \"\"}}, \"type\": \"scattergl\"}], \"scattermapbox\": [{\"marker\": {\"colorbar\": {\"outlinewidth\": 0, \"ticks\": \"\"}}, \"type\": \"scattermapbox\"}], \"scatterpolar\": [{\"marker\": {\"colorbar\": {\"outlinewidth\": 0, \"ticks\": \"\"}}, \"type\": \"scatterpolar\"}], \"scatterpolargl\": [{\"marker\": {\"colorbar\": {\"outlinewidth\": 0, \"ticks\": \"\"}}, \"type\": \"scatterpolargl\"}], \"scatterternary\": [{\"marker\": {\"colorbar\": {\"outlinewidth\": 0, \"ticks\": \"\"}}, \"type\": \"scatterternary\"}], \"surface\": [{\"colorbar\": {\"outlinewidth\": 0, \"ticks\": \"\"}, \"colorscale\": [[0.0, \"#0d0887\"], [0.1111111111111111, \"#46039f\"], [0.2222222222222222, \"#7201a8\"], [0.3333333333333333, \"#9c179e\"], [0.4444444444444444, \"#bd3786\"], [0.5555555555555556, \"#d8576b\"], [0.6666666666666666, \"#ed7953\"], [0.7777777777777778, \"#fb9f3a\"], [0.8888888888888888, \"#fdca26\"], [1.0, \"#f0f921\"]], \"type\": \"surface\"}], \"table\": [{\"cells\": {\"fill\": {\"color\": \"#EBF0F8\"}, \"line\": {\"color\": \"white\"}}, \"header\": {\"fill\": {\"color\": \"#C8D4E3\"}, \"line\": {\"color\": \"white\"}}, \"type\": \"table\"}]}, \"layout\": {\"annotationdefaults\": {\"arrowcolor\": \"#2a3f5f\", \"arrowhead\": 0, \"arrowwidth\": 1}, \"autotypenumbers\": \"strict\", \"coloraxis\": {\"colorbar\": {\"outlinewidth\": 0, \"ticks\": \"\"}}, \"colorscale\": {\"diverging\": [[0, \"#8e0152\"], [0.1, \"#c51b7d\"], [0.2, \"#de77ae\"], [0.3, \"#f1b6da\"], [0.4, \"#fde0ef\"], [0.5, \"#f7f7f7\"], [0.6, \"#e6f5d0\"], [0.7, \"#b8e186\"], [0.8, \"#7fbc41\"], [0.9, \"#4d9221\"], [1, \"#276419\"]], \"sequential\": [[0.0, \"#0d0887\"], [0.1111111111111111, \"#46039f\"], [0.2222222222222222, \"#7201a8\"], [0.3333333333333333, \"#9c179e\"], [0.4444444444444444, \"#bd3786\"], [0.5555555555555556, \"#d8576b\"], [0.6666666666666666, \"#ed7953\"], [0.7777777777777778, \"#fb9f3a\"], [0.8888888888888888, \"#fdca26\"], [1.0, \"#f0f921\"]], \"sequentialminus\": [[0.0, \"#0d0887\"], [0.1111111111111111, \"#46039f\"], [0.2222222222222222, \"#7201a8\"], [0.3333333333333333, \"#9c179e\"], [0.4444444444444444, \"#bd3786\"], [0.5555555555555556, \"#d8576b\"], [0.6666666666666666, \"#ed7953\"], [0.7777777777777778, \"#fb9f3a\"], [0.8888888888888888, \"#fdca26\"], [1.0, \"#f0f921\"]]}, \"colorway\": [\"#636efa\", \"#EF553B\", \"#00cc96\", \"#ab63fa\", \"#FFA15A\", \"#19d3f3\", \"#FF6692\", \"#B6E880\", \"#FF97FF\", \"#FECB52\"], \"font\": {\"color\": \"#2a3f5f\"}, \"geo\": {\"bgcolor\": \"white\", \"lakecolor\": \"white\", \"landcolor\": \"#E5ECF6\", \"showlakes\": true, \"showland\": true, \"subunitcolor\": \"white\"}, \"hoverlabel\": {\"align\": \"left\"}, \"hovermode\": \"closest\", \"mapbox\": {\"style\": \"light\"}, \"paper_bgcolor\": \"white\", \"plot_bgcolor\": \"#E5ECF6\", \"polar\": {\"angularaxis\": {\"gridcolor\": \"white\", \"linecolor\": \"white\", \"ticks\": \"\"}, \"bgcolor\": \"#E5ECF6\", \"radialaxis\": {\"gridcolor\": \"white\", \"linecolor\": \"white\", \"ticks\": \"\"}}, \"scene\": {\"xaxis\": {\"backgroundcolor\": \"#E5ECF6\", \"gridcolor\": \"white\", \"gridwidth\": 2, \"linecolor\": \"white\", \"showbackground\": true, \"ticks\": \"\", \"zerolinecolor\": \"white\"}, \"yaxis\": {\"backgroundcolor\": \"#E5ECF6\", \"gridcolor\": \"white\", \"gridwidth\": 2, \"linecolor\": \"white\", \"showbackground\": true, \"ticks\": \"\", \"zerolinecolor\": \"white\"}, \"zaxis\": {\"backgroundcolor\": \"#E5ECF6\", \"gridcolor\": \"white\", \"gridwidth\": 2, \"linecolor\": \"white\", \"showbackground\": true, \"ticks\": \"\", \"zerolinecolor\": \"white\"}}, \"shapedefaults\": {\"line\": {\"color\": \"#2a3f5f\"}}, \"ternary\": {\"aaxis\": {\"gridcolor\": \"white\", \"linecolor\": \"white\", \"ticks\": \"\"}, \"baxis\": {\"gridcolor\": \"white\", \"linecolor\": \"white\", \"ticks\": \"\"}, \"bgcolor\": \"#E5ECF6\", \"caxis\": {\"gridcolor\": \"white\", \"linecolor\": \"white\", \"ticks\": \"\"}}, \"title\": {\"x\": 0.05}, \"xaxis\": {\"automargin\": true, \"gridcolor\": \"white\", \"linecolor\": \"white\", \"ticks\": \"\", \"title\": {\"standoff\": 15}, \"zerolinecolor\": \"white\", \"zerolinewidth\": 2}, \"yaxis\": {\"automargin\": true, \"gridcolor\": \"white\", \"linecolor\": \"white\", \"ticks\": \"\", \"title\": {\"standoff\": 15}, \"zerolinecolor\": \"white\", \"zerolinewidth\": 2}}}},                        {\"responsive\": true}                    ).then(function(){\n",
       "                            \n",
       "var gd = document.getElementById('c0d9506d-8f5e-4c9b-8208-7283541da6ce');\n",
       "var x = new MutationObserver(function (mutations, observer) {{\n",
       "        var display = window.getComputedStyle(gd).display;\n",
       "        if (!display || display === 'none') {{\n",
       "            console.log([gd, 'removed!']);\n",
       "            Plotly.purge(gd);\n",
       "            observer.disconnect();\n",
       "        }}\n",
       "}});\n",
       "\n",
       "// Listen for the removal of the full notebook cells\n",
       "var notebookContainer = gd.closest('#notebook-container');\n",
       "if (notebookContainer) {{\n",
       "    x.observe(notebookContainer, {childList: true});\n",
       "}}\n",
       "\n",
       "// Listen for the clearing of the current output cell\n",
       "var outputEl = gd.closest('.output');\n",
       "if (outputEl) {{\n",
       "    x.observe(outputEl, {childList: true});\n",
       "}}\n",
       "\n",
       "                        })                };                });            </script>        </div>"
      ]
     },
     "metadata": {},
     "output_type": "display_data"
    }
   ],
   "source": [
    "fig = px.scatter_mapbox(\n",
    "    data, \n",
    "    lat=\"Latitude (average)\", \n",
    "    lon=\"Longitude (average)\", \n",
    "    color=\"iso_alpha\", \n",
    "    size='lifeExp_mean', \n",
    "    zoom=2, \n",
    "    height = 500,\n",
    "    hover_name ='country', \n",
    "    mapbox_style='carto-positron')\n",
    "\n",
    "fig.show()"
   ]
  },
  {
   "cell_type": "code",
   "execution_count": 88,
   "metadata": {
    "scrolled": true
   },
   "outputs": [
    {
     "data": {
      "text/html": [
       "<div>\n",
       "<style scoped>\n",
       "    .dataframe tbody tr th:only-of-type {\n",
       "        vertical-align: middle;\n",
       "    }\n",
       "\n",
       "    .dataframe tbody tr th {\n",
       "        vertical-align: top;\n",
       "    }\n",
       "\n",
       "    .dataframe thead th {\n",
       "        text-align: right;\n",
       "    }\n",
       "</style>\n",
       "<table border=\"1\" class=\"dataframe\">\n",
       "  <thead>\n",
       "    <tr style=\"text-align: right;\">\n",
       "      <th></th>\n",
       "      <th>country</th>\n",
       "      <th>continent</th>\n",
       "      <th>year</th>\n",
       "      <th>lifeExp</th>\n",
       "      <th>pop</th>\n",
       "      <th>gdpPercap</th>\n",
       "      <th>iso_alpha</th>\n",
       "      <th>iso_num</th>\n",
       "    </tr>\n",
       "  </thead>\n",
       "  <tbody>\n",
       "    <tr>\n",
       "      <th>0</th>\n",
       "      <td>Afghanistan</td>\n",
       "      <td>Asia</td>\n",
       "      <td>1952</td>\n",
       "      <td>28.801</td>\n",
       "      <td>8425333</td>\n",
       "      <td>779.445314</td>\n",
       "      <td>AFG</td>\n",
       "      <td>4</td>\n",
       "    </tr>\n",
       "    <tr>\n",
       "      <th>1</th>\n",
       "      <td>Afghanistan</td>\n",
       "      <td>Asia</td>\n",
       "      <td>1957</td>\n",
       "      <td>30.332</td>\n",
       "      <td>9240934</td>\n",
       "      <td>820.853030</td>\n",
       "      <td>AFG</td>\n",
       "      <td>4</td>\n",
       "    </tr>\n",
       "    <tr>\n",
       "      <th>2</th>\n",
       "      <td>Afghanistan</td>\n",
       "      <td>Asia</td>\n",
       "      <td>1962</td>\n",
       "      <td>31.997</td>\n",
       "      <td>10267083</td>\n",
       "      <td>853.100710</td>\n",
       "      <td>AFG</td>\n",
       "      <td>4</td>\n",
       "    </tr>\n",
       "    <tr>\n",
       "      <th>3</th>\n",
       "      <td>Afghanistan</td>\n",
       "      <td>Asia</td>\n",
       "      <td>1967</td>\n",
       "      <td>34.020</td>\n",
       "      <td>11537966</td>\n",
       "      <td>836.197138</td>\n",
       "      <td>AFG</td>\n",
       "      <td>4</td>\n",
       "    </tr>\n",
       "    <tr>\n",
       "      <th>4</th>\n",
       "      <td>Afghanistan</td>\n",
       "      <td>Asia</td>\n",
       "      <td>1972</td>\n",
       "      <td>36.088</td>\n",
       "      <td>13079460</td>\n",
       "      <td>739.981106</td>\n",
       "      <td>AFG</td>\n",
       "      <td>4</td>\n",
       "    </tr>\n",
       "  </tbody>\n",
       "</table>\n",
       "</div>"
      ],
      "text/plain": [
       "       country continent  year  lifeExp       pop   gdpPercap iso_alpha  \\\n",
       "0  Afghanistan      Asia  1952   28.801   8425333  779.445314       AFG   \n",
       "1  Afghanistan      Asia  1957   30.332   9240934  820.853030       AFG   \n",
       "2  Afghanistan      Asia  1962   31.997  10267083  853.100710       AFG   \n",
       "3  Afghanistan      Asia  1967   34.020  11537966  836.197138       AFG   \n",
       "4  Afghanistan      Asia  1972   36.088  13079460  739.981106       AFG   \n",
       "\n",
       "   iso_num  \n",
       "0        4  \n",
       "1        4  \n",
       "2        4  \n",
       "3        4  \n",
       "4        4  "
      ]
     },
     "execution_count": 88,
     "metadata": {},
     "output_type": "execute_result"
    }
   ],
   "source": [
    "df.head()"
   ]
  },
  {
   "cell_type": "markdown",
   "metadata": {},
   "source": [
    "### Question #2"
   ]
  },
  {
   "cell_type": "markdown",
   "metadata": {},
   "source": [
    "2. Deviation in GDP of each country in Europe and South America.\n"
   ]
  },
  {
   "cell_type": "code",
   "execution_count": 89,
   "metadata": {
    "scrolled": true
   },
   "outputs": [
    {
     "data": {
      "text/html": [
       "<div>\n",
       "<style scoped>\n",
       "    .dataframe tbody tr th:only-of-type {\n",
       "        vertical-align: middle;\n",
       "    }\n",
       "\n",
       "    .dataframe tbody tr th {\n",
       "        vertical-align: top;\n",
       "    }\n",
       "\n",
       "    .dataframe thead th {\n",
       "        text-align: right;\n",
       "    }\n",
       "</style>\n",
       "<table border=\"1\" class=\"dataframe\">\n",
       "  <thead>\n",
       "    <tr style=\"text-align: right;\">\n",
       "      <th></th>\n",
       "      <th>No</th>\n",
       "      <th>Country or Area</th>\n",
       "      <th>ISO-alpha3 Code</th>\n",
       "      <th>M49 Code</th>\n",
       "      <th>Region 1</th>\n",
       "      <th>Region 2</th>\n",
       "      <th>Continent</th>\n",
       "    </tr>\n",
       "  </thead>\n",
       "  <tbody>\n",
       "    <tr>\n",
       "      <th>0</th>\n",
       "      <td>1</td>\n",
       "      <td>Afghanistan</td>\n",
       "      <td>AFG</td>\n",
       "      <td>4</td>\n",
       "      <td>Southern Asia</td>\n",
       "      <td>NaN</td>\n",
       "      <td>Asia</td>\n",
       "    </tr>\n",
       "    <tr>\n",
       "      <th>1</th>\n",
       "      <td>2</td>\n",
       "      <td>Åland Islands</td>\n",
       "      <td>ALA</td>\n",
       "      <td>248</td>\n",
       "      <td>Northern Europe</td>\n",
       "      <td>NaN</td>\n",
       "      <td>Europe</td>\n",
       "    </tr>\n",
       "    <tr>\n",
       "      <th>2</th>\n",
       "      <td>3</td>\n",
       "      <td>Albania</td>\n",
       "      <td>ALB</td>\n",
       "      <td>8</td>\n",
       "      <td>Southern Europe</td>\n",
       "      <td>NaN</td>\n",
       "      <td>Europe</td>\n",
       "    </tr>\n",
       "    <tr>\n",
       "      <th>3</th>\n",
       "      <td>4</td>\n",
       "      <td>Algeria</td>\n",
       "      <td>DZA</td>\n",
       "      <td>12</td>\n",
       "      <td>Northern Africa</td>\n",
       "      <td>NaN</td>\n",
       "      <td>Africa</td>\n",
       "    </tr>\n",
       "    <tr>\n",
       "      <th>4</th>\n",
       "      <td>5</td>\n",
       "      <td>American Samoa</td>\n",
       "      <td>ASM</td>\n",
       "      <td>16</td>\n",
       "      <td>Polynesia</td>\n",
       "      <td>NaN</td>\n",
       "      <td>Oceania</td>\n",
       "    </tr>\n",
       "  </tbody>\n",
       "</table>\n",
       "</div>"
      ],
      "text/plain": [
       "   No Country or Area ISO-alpha3 Code  M49 Code         Region 1 Region 2  \\\n",
       "0   1     Afghanistan             AFG         4    Southern Asia      NaN   \n",
       "1   2   Åland Islands             ALA       248  Northern Europe      NaN   \n",
       "2   3         Albania             ALB         8  Southern Europe      NaN   \n",
       "3   4         Algeria             DZA        12  Northern Africa      NaN   \n",
       "4   5  American Samoa             ASM        16        Polynesia      NaN   \n",
       "\n",
       "  Continent  \n",
       "0      Asia  \n",
       "1    Europe  \n",
       "2    Europe  \n",
       "3    Africa  \n",
       "4   Oceania  "
      ]
     },
     "execution_count": 89,
     "metadata": {},
     "output_type": "execute_result"
    }
   ],
   "source": [
    "continent_link = 'http://statisticstimes.com/geography/countries-by-continents.php'\n",
    "cont_countries = pd.read_html(continent_link, match='Countries or Areas')[0]\n",
    "cont_countries.head()"
   ]
  },
  {
   "cell_type": "code",
   "execution_count": 90,
   "metadata": {},
   "outputs": [],
   "source": [
    "cont_countries = cont_countries[['ISO-alpha3 Code','Continent']].rename(columns={'ISO-alpha3 Code':'iso_alpha'})"
   ]
  },
  {
   "cell_type": "code",
   "execution_count": 91,
   "metadata": {},
   "outputs": [],
   "source": [
    "deviation = df[((df['continent']=='Europe') | (df['continent']=='Americas'))].groupby(['continent','country','iso_alpha'])['gdpPercap'].std().reset_index()\n",
    "    \n",
    "deviation = pd.merge(deviation, cont_countries, how='left', on='iso_alpha')\n",
    "deviation = deviation[(deviation['continent']=='Europe') | (deviation['Continent']=='South America')]"
   ]
  },
  {
   "cell_type": "code",
   "execution_count": 92,
   "metadata": {},
   "outputs": [
    {
     "data": {
      "text/plain": [
       "Index(['Unnamed: 0', 'Country', 'Alpha-2 code', 'iso_alpha', 'Numeric code',\n",
       "       'Latitude (average)', 'Longitude (average)'],\n",
       "      dtype='object')"
      ]
     },
     "execution_count": 92,
     "metadata": {},
     "output_type": "execute_result"
    }
   ],
   "source": [
    "gps.columns"
   ]
  },
  {
   "cell_type": "code",
   "execution_count": 93,
   "metadata": {},
   "outputs": [
    {
     "data": {
      "text/plain": [
       "Index(['country', 'continent', 'year', 'lifeExp', 'pop', 'gdpPercap',\n",
       "       'iso_alpha', 'iso_num'],\n",
       "      dtype='object')"
      ]
     },
     "execution_count": 93,
     "metadata": {},
     "output_type": "execute_result"
    }
   ],
   "source": [
    "df.columns"
   ]
  },
  {
   "cell_type": "code",
   "execution_count": 94,
   "metadata": {
    "scrolled": false
   },
   "outputs": [],
   "source": [
    "deviation_gps = pd.merge(deviation, gps, how='left', on='iso_alpha')"
   ]
  },
  {
   "cell_type": "code",
   "execution_count": 95,
   "metadata": {},
   "outputs": [
    {
     "data": {
      "text/html": [
       "<div>\n",
       "<style scoped>\n",
       "    .dataframe tbody tr th:only-of-type {\n",
       "        vertical-align: middle;\n",
       "    }\n",
       "\n",
       "    .dataframe tbody tr th {\n",
       "        vertical-align: top;\n",
       "    }\n",
       "\n",
       "    .dataframe thead th {\n",
       "        text-align: right;\n",
       "    }\n",
       "</style>\n",
       "<table border=\"1\" class=\"dataframe\">\n",
       "  <thead>\n",
       "    <tr style=\"text-align: right;\">\n",
       "      <th></th>\n",
       "      <th>continent</th>\n",
       "      <th>country</th>\n",
       "      <th>iso_alpha</th>\n",
       "      <th>gdpPercap</th>\n",
       "      <th>Continent</th>\n",
       "      <th>Unnamed: 0</th>\n",
       "      <th>Country</th>\n",
       "      <th>Alpha-2 code</th>\n",
       "      <th>Numeric code</th>\n",
       "      <th>Latitude (average)</th>\n",
       "      <th>Longitude (average)</th>\n",
       "    </tr>\n",
       "  </thead>\n",
       "  <tbody>\n",
       "    <tr>\n",
       "      <th>0</th>\n",
       "      <td>Americas</td>\n",
       "      <td>Argentina</td>\n",
       "      <td>ARG</td>\n",
       "      <td>1862.583151</td>\n",
       "      <td>South America</td>\n",
       "      <td>NaN</td>\n",
       "      <td>Argentina</td>\n",
       "      <td>AR</td>\n",
       "      <td>32</td>\n",
       "      <td>-34.0</td>\n",
       "      <td>-64.0</td>\n",
       "    </tr>\n",
       "    <tr>\n",
       "      <th>1</th>\n",
       "      <td>Americas</td>\n",
       "      <td>Bolivia</td>\n",
       "      <td>BOL</td>\n",
       "      <td>524.748706</td>\n",
       "      <td>South America</td>\n",
       "      <td>NaN</td>\n",
       "      <td>Bolivia, Plurinational State of</td>\n",
       "      <td>BO</td>\n",
       "      <td>68</td>\n",
       "      <td>-17.0</td>\n",
       "      <td>-65.0</td>\n",
       "    </tr>\n",
       "    <tr>\n",
       "      <th>2</th>\n",
       "      <td>Americas</td>\n",
       "      <td>Bolivia</td>\n",
       "      <td>BOL</td>\n",
       "      <td>524.748706</td>\n",
       "      <td>South America</td>\n",
       "      <td>NaN</td>\n",
       "      <td>Bolivia</td>\n",
       "      <td>BO</td>\n",
       "      <td>68</td>\n",
       "      <td>-17.0</td>\n",
       "      <td>-65.0</td>\n",
       "    </tr>\n",
       "    <tr>\n",
       "      <th>3</th>\n",
       "      <td>Americas</td>\n",
       "      <td>Brazil</td>\n",
       "      <td>BRA</td>\n",
       "      <td>2436.453754</td>\n",
       "      <td>South America</td>\n",
       "      <td>NaN</td>\n",
       "      <td>Brazil</td>\n",
       "      <td>BR</td>\n",
       "      <td>76</td>\n",
       "      <td>-10.0</td>\n",
       "      <td>-55.0</td>\n",
       "    </tr>\n",
       "    <tr>\n",
       "      <th>4</th>\n",
       "      <td>Americas</td>\n",
       "      <td>Chile</td>\n",
       "      <td>CHL</td>\n",
       "      <td>3026.194023</td>\n",
       "      <td>South America</td>\n",
       "      <td>NaN</td>\n",
       "      <td>Chile</td>\n",
       "      <td>CL</td>\n",
       "      <td>152</td>\n",
       "      <td>-30.0</td>\n",
       "      <td>-71.0</td>\n",
       "    </tr>\n",
       "  </tbody>\n",
       "</table>\n",
       "</div>"
      ],
      "text/plain": [
       "  continent    country iso_alpha    gdpPercap      Continent  Unnamed: 0  \\\n",
       "0  Americas  Argentina       ARG  1862.583151  South America         NaN   \n",
       "1  Americas    Bolivia       BOL   524.748706  South America         NaN   \n",
       "2  Americas    Bolivia       BOL   524.748706  South America         NaN   \n",
       "3  Americas     Brazil       BRA  2436.453754  South America         NaN   \n",
       "4  Americas      Chile       CHL  3026.194023  South America         NaN   \n",
       "\n",
       "                           Country Alpha-2 code  Numeric code  \\\n",
       "0                        Argentina           AR            32   \n",
       "1  Bolivia, Plurinational State of           BO            68   \n",
       "2                          Bolivia           BO            68   \n",
       "3                           Brazil           BR            76   \n",
       "4                            Chile           CL           152   \n",
       "\n",
       "   Latitude (average)  Longitude (average)  \n",
       "0               -34.0                -64.0  \n",
       "1               -17.0                -65.0  \n",
       "2               -17.0                -65.0  \n",
       "3               -10.0                -55.0  \n",
       "4               -30.0                -71.0  "
      ]
     },
     "execution_count": 95,
     "metadata": {},
     "output_type": "execute_result"
    }
   ],
   "source": [
    "deviation_gps.head()\n"
   ]
  },
  {
   "cell_type": "code",
   "execution_count": 96,
   "metadata": {
    "scrolled": false
   },
   "outputs": [
    {
     "data": {
      "application/vnd.plotly.v1+json": {
       "config": {
        "plotlyServerURL": "https://plot.ly"
       },
       "data": [
        {
         "hovertemplate": "<b>%{hovertext}</b><br><br>iso_alpha=ARG<br>gdpPercap=%{marker.size}<br>Latitude (average)=%{lat}<br>Longitude (average)=%{lon}<extra></extra>",
         "hovertext": [
          "Argentina"
         ],
         "lat": [
          -34
         ],
         "legendgroup": "ARG",
         "lon": [
          -64
         ],
         "marker": {
          "color": "#636efa",
          "size": [
           1862.5831513991852
          ],
          "sizemode": "area",
          "sizeref": 14.91327471675944
         },
         "mode": "markers",
         "name": "ARG",
         "showlegend": true,
         "subplot": "mapbox",
         "type": "scattermapbox"
        },
        {
         "hovertemplate": "<b>%{hovertext}</b><br><br>iso_alpha=BOL<br>gdpPercap=%{marker.size}<br>Latitude (average)=%{lat}<br>Longitude (average)=%{lon}<extra></extra>",
         "hovertext": [
          "Bolivia",
          "Bolivia"
         ],
         "lat": [
          -17,
          -17
         ],
         "legendgroup": "BOL",
         "lon": [
          -65,
          -65
         ],
         "marker": {
          "color": "#EF553B",
          "size": [
           524.7487056551422,
           524.7487056551422
          ],
          "sizemode": "area",
          "sizeref": 14.91327471675944
         },
         "mode": "markers",
         "name": "BOL",
         "showlegend": true,
         "subplot": "mapbox",
         "type": "scattermapbox"
        },
        {
         "hovertemplate": "<b>%{hovertext}</b><br><br>iso_alpha=BRA<br>gdpPercap=%{marker.size}<br>Latitude (average)=%{lat}<br>Longitude (average)=%{lon}<extra></extra>",
         "hovertext": [
          "Brazil"
         ],
         "lat": [
          -10
         ],
         "legendgroup": "BRA",
         "lon": [
          -55
         ],
         "marker": {
          "color": "#00cc96",
          "size": [
           2436.4537541482923
          ],
          "sizemode": "area",
          "sizeref": 14.91327471675944
         },
         "mode": "markers",
         "name": "BRA",
         "showlegend": true,
         "subplot": "mapbox",
         "type": "scattermapbox"
        },
        {
         "hovertemplate": "<b>%{hovertext}</b><br><br>iso_alpha=CHL<br>gdpPercap=%{marker.size}<br>Latitude (average)=%{lat}<br>Longitude (average)=%{lon}<extra></extra>",
         "hovertext": [
          "Chile"
         ],
         "lat": [
          -30
         ],
         "legendgroup": "CHL",
         "lon": [
          -71
         ],
         "marker": {
          "color": "#ab63fa",
          "size": [
           3026.1940231231747
          ],
          "sizemode": "area",
          "sizeref": 14.91327471675944
         },
         "mode": "markers",
         "name": "CHL",
         "showlegend": true,
         "subplot": "mapbox",
         "type": "scattermapbox"
        },
        {
         "hovertemplate": "<b>%{hovertext}</b><br><br>iso_alpha=COL<br>gdpPercap=%{marker.size}<br>Latitude (average)=%{lat}<br>Longitude (average)=%{lon}<extra></extra>",
         "hovertext": [
          "Colombia"
         ],
         "lat": [
          4
         ],
         "legendgroup": "COL",
         "lon": [
          -72
         ],
         "marker": {
          "color": "#FFA15A",
          "size": [
           1652.9314656406464
          ],
          "sizemode": "area",
          "sizeref": 14.91327471675944
         },
         "mode": "markers",
         "name": "COL",
         "showlegend": true,
         "subplot": "mapbox",
         "type": "scattermapbox"
        },
        {
         "hovertemplate": "<b>%{hovertext}</b><br><br>iso_alpha=ECU<br>gdpPercap=%{marker.size}<br>Latitude (average)=%{lat}<br>Longitude (average)=%{lon}<extra></extra>",
         "hovertext": [
          "Ecuador"
         ],
         "lat": [
          -2
         ],
         "legendgroup": "ECU",
         "lon": [
          -77.5
         ],
         "marker": {
          "color": "#19d3f3",
          "size": [
           1435.1522819702238
          ],
          "sizemode": "area",
          "sizeref": 14.91327471675944
         },
         "mode": "markers",
         "name": "ECU",
         "showlegend": true,
         "subplot": "mapbox",
         "type": "scattermapbox"
        },
        {
         "hovertemplate": "<b>%{hovertext}</b><br><br>iso_alpha=PRY<br>gdpPercap=%{marker.size}<br>Latitude (average)=%{lat}<br>Longitude (average)=%{lon}<extra></extra>",
         "hovertext": [
          "Paraguay"
         ],
         "lat": [
          -23
         ],
         "legendgroup": "PRY",
         "lon": [
          -58
         ],
         "marker": {
          "color": "#FF6692",
          "size": [
           971.5430298861991
          ],
          "sizemode": "area",
          "sizeref": 14.91327471675944
         },
         "mode": "markers",
         "name": "PRY",
         "showlegend": true,
         "subplot": "mapbox",
         "type": "scattermapbox"
        },
        {
         "hovertemplate": "<b>%{hovertext}</b><br><br>iso_alpha=PER<br>gdpPercap=%{marker.size}<br>Latitude (average)=%{lat}<br>Longitude (average)=%{lon}<extra></extra>",
         "hovertext": [
          "Peru"
         ],
         "lat": [
          -10
         ],
         "legendgroup": "PER",
         "lon": [
          -76
         ],
         "marker": {
          "color": "#B6E880",
          "size": [
           1056.6601194143711
          ],
          "sizemode": "area",
          "sizeref": 14.91327471675944
         },
         "mode": "markers",
         "name": "PER",
         "showlegend": true,
         "subplot": "mapbox",
         "type": "scattermapbox"
        },
        {
         "hovertemplate": "<b>%{hovertext}</b><br><br>iso_alpha=URY<br>gdpPercap=%{marker.size}<br>Latitude (average)=%{lat}<br>Longitude (average)=%{lon}<extra></extra>",
         "hovertext": [
          "Uruguay"
         ],
         "lat": [
          -33
         ],
         "legendgroup": "URY",
         "lon": [
          -56
         ],
         "marker": {
          "color": "#FF97FF",
          "size": [
           1612.2592634495063
          ],
          "sizemode": "area",
          "sizeref": 14.91327471675944
         },
         "mode": "markers",
         "name": "URY",
         "showlegend": true,
         "subplot": "mapbox",
         "type": "scattermapbox"
        },
        {
         "hovertemplate": "<b>%{hovertext}</b><br><br>iso_alpha=VEN<br>gdpPercap=%{marker.size}<br>Latitude (average)=%{lat}<br>Longitude (average)=%{lon}<extra></extra>",
         "hovertext": [
          "Venezuela",
          "Venezuela"
         ],
         "lat": [
          8,
          8
         ],
         "legendgroup": "VEN",
         "lon": [
          -66,
          -66
         ],
         "marker": {
          "color": "#FECB52",
          "size": [
           1476.3908630419053,
           1476.3908630419053
          ],
          "sizemode": "area",
          "sizeref": 14.91327471675944
         },
         "mode": "markers",
         "name": "VEN",
         "showlegend": true,
         "subplot": "mapbox",
         "type": "scattermapbox"
        },
        {
         "hovertemplate": "<b>%{hovertext}</b><br><br>iso_alpha=ALB<br>gdpPercap=%{marker.size}<br>Latitude (average)=%{lat}<br>Longitude (average)=%{lon}<extra></extra>",
         "hovertext": [
          "Albania"
         ],
         "lat": [
          41
         ],
         "legendgroup": "ALB",
         "lon": [
          20
         ],
         "marker": {
          "color": "#636efa",
          "size": [
           1192.3515128271426
          ],
          "sizemode": "area",
          "sizeref": 14.91327471675944
         },
         "mode": "markers",
         "name": "ALB",
         "showlegend": true,
         "subplot": "mapbox",
         "type": "scattermapbox"
        },
        {
         "hovertemplate": "<b>%{hovertext}</b><br><br>iso_alpha=AUT<br>gdpPercap=%{marker.size}<br>Latitude (average)=%{lat}<br>Longitude (average)=%{lon}<extra></extra>",
         "hovertext": [
          "Austria"
         ],
         "lat": [
          47.3333
         ],
         "legendgroup": "AUT",
         "lon": [
          13.3333
         ],
         "marker": {
          "color": "#EF553B",
          "size": [
           9655.281487936998
          ],
          "sizemode": "area",
          "sizeref": 14.91327471675944
         },
         "mode": "markers",
         "name": "AUT",
         "showlegend": true,
         "subplot": "mapbox",
         "type": "scattermapbox"
        },
        {
         "hovertemplate": "<b>%{hovertext}</b><br><br>iso_alpha=BEL<br>gdpPercap=%{marker.size}<br>Latitude (average)=%{lat}<br>Longitude (average)=%{lon}<extra></extra>",
         "hovertext": [
          "Belgium"
         ],
         "lat": [
          50.8333
         ],
         "legendgroup": "BEL",
         "lon": [
          4
         ],
         "marker": {
          "color": "#00cc96",
          "size": [
           8391.186269123447
          ],
          "sizemode": "area",
          "sizeref": 14.91327471675944
         },
         "mode": "markers",
         "name": "BEL",
         "showlegend": true,
         "subplot": "mapbox",
         "type": "scattermapbox"
        },
        {
         "hovertemplate": "<b>%{hovertext}</b><br><br>iso_alpha=BIH<br>gdpPercap=%{marker.size}<br>Latitude (average)=%{lat}<br>Longitude (average)=%{lon}<extra></extra>",
         "hovertext": [
          "Bosnia and Herzegovina"
         ],
         "lat": [
          44
         ],
         "legendgroup": "BIH",
         "lon": [
          18
         ],
         "marker": {
          "color": "#ab63fa",
          "size": [
           1950.5223467714338
          ],
          "sizemode": "area",
          "sizeref": 14.91327471675944
         },
         "mode": "markers",
         "name": "BIH",
         "showlegend": true,
         "subplot": "mapbox",
         "type": "scattermapbox"
        },
        {
         "hovertemplate": "<b>%{hovertext}</b><br><br>iso_alpha=BGR<br>gdpPercap=%{marker.size}<br>Latitude (average)=%{lat}<br>Longitude (average)=%{lon}<extra></extra>",
         "hovertext": [
          "Bulgaria"
         ],
         "lat": [
          43
         ],
         "legendgroup": "BGR",
         "lon": [
          25
         ],
         "marker": {
          "color": "#FFA15A",
          "size": [
           2351.963618965281
          ],
          "sizemode": "area",
          "sizeref": 14.91327471675944
         },
         "mode": "markers",
         "name": "BGR",
         "showlegend": true,
         "subplot": "mapbox",
         "type": "scattermapbox"
        },
        {
         "hovertemplate": "<b>%{hovertext}</b><br><br>iso_alpha=HRV<br>gdpPercap=%{marker.size}<br>Latitude (average)=%{lat}<br>Longitude (average)=%{lon}<extra></extra>",
         "hovertext": [
          "Croatia"
         ],
         "lat": [
          45.1667
         ],
         "legendgroup": "HRV",
         "lon": [
          15.5
         ],
         "marker": {
          "color": "#19d3f3",
          "size": [
           3784.4086630384404
          ],
          "sizemode": "area",
          "sizeref": 14.91327471675944
         },
         "mode": "markers",
         "name": "HRV",
         "showlegend": true,
         "subplot": "mapbox",
         "type": "scattermapbox"
        },
        {
         "hovertemplate": "<b>%{hovertext}</b><br><br>iso_alpha=CZE<br>gdpPercap=%{marker.size}<br>Latitude (average)=%{lat}<br>Longitude (average)=%{lon}<extra></extra>",
         "hovertext": [
          "Czech Republic"
         ],
         "lat": [
          49.75
         ],
         "legendgroup": "CZE",
         "lon": [
          15.5
         ],
         "marker": {
          "color": "#FF6692",
          "size": [
           4361.646746815699
          ],
          "sizemode": "area",
          "sizeref": 14.91327471675944
         },
         "mode": "markers",
         "name": "CZE",
         "showlegend": true,
         "subplot": "mapbox",
         "type": "scattermapbox"
        },
        {
         "hovertemplate": "<b>%{hovertext}</b><br><br>iso_alpha=DNK<br>gdpPercap=%{marker.size}<br>Latitude (average)=%{lat}<br>Longitude (average)=%{lon}<extra></extra>",
         "hovertext": [
          "Denmark"
         ],
         "lat": [
          56
         ],
         "legendgroup": "DNK",
         "lon": [
          10
         ],
         "marker": {
          "color": "#B6E880",
          "size": [
           8305.077866370926
          ],
          "sizemode": "area",
          "sizeref": 14.91327471675944
         },
         "mode": "markers",
         "name": "DNK",
         "showlegend": true,
         "subplot": "mapbox",
         "type": "scattermapbox"
        },
        {
         "hovertemplate": "<b>%{hovertext}</b><br><br>iso_alpha=FIN<br>gdpPercap=%{marker.size}<br>Latitude (average)=%{lat}<br>Longitude (average)=%{lon}<extra></extra>",
         "hovertext": [
          "Finland"
         ],
         "lat": [
          64
         ],
         "legendgroup": "FIN",
         "lon": [
          26
         ],
         "marker": {
          "color": "#FF97FF",
          "size": [
           8360.17067395112
          ],
          "sizemode": "area",
          "sizeref": 14.91327471675944
         },
         "mode": "markers",
         "name": "FIN",
         "showlegend": true,
         "subplot": "mapbox",
         "type": "scattermapbox"
        },
        {
         "hovertemplate": "<b>%{hovertext}</b><br><br>iso_alpha=FRA<br>gdpPercap=%{marker.size}<br>Latitude (average)=%{lat}<br>Longitude (average)=%{lon}<extra></extra>",
         "hovertext": [
          "France"
         ],
         "lat": [
          46
         ],
         "legendgroup": "FRA",
         "lon": [
          2
         ],
         "marker": {
          "color": "#FECB52",
          "size": [
           7903.234226966455
          ],
          "sizemode": "area",
          "sizeref": 14.91327471675944
         },
         "mode": "markers",
         "name": "FRA",
         "showlegend": true,
         "subplot": "mapbox",
         "type": "scattermapbox"
        },
        {
         "hovertemplate": "<b>%{hovertext}</b><br><br>iso_alpha=DEU<br>gdpPercap=%{marker.size}<br>Latitude (average)=%{lat}<br>Longitude (average)=%{lon}<extra></extra>",
         "hovertext": [
          "Germany"
         ],
         "lat": [
          51
         ],
         "legendgroup": "DEU",
         "lon": [
          9
         ],
         "marker": {
          "color": "#636efa",
          "size": [
           8076.261912882131
          ],
          "sizemode": "area",
          "sizeref": 14.91327471675944
         },
         "mode": "markers",
         "name": "DEU",
         "showlegend": true,
         "subplot": "mapbox",
         "type": "scattermapbox"
        },
        {
         "hovertemplate": "<b>%{hovertext}</b><br><br>iso_alpha=GRC<br>gdpPercap=%{marker.size}<br>Latitude (average)=%{lat}<br>Longitude (average)=%{lon}<extra></extra>",
         "hovertext": [
          "Greece"
         ],
         "lat": [
          39
         ],
         "legendgroup": "GRC",
         "lon": [
          22
         ],
         "marker": {
          "color": "#EF553B",
          "size": [
           7289.928845391456
          ],
          "sizemode": "area",
          "sizeref": 14.91327471675944
         },
         "mode": "markers",
         "name": "GRC",
         "showlegend": true,
         "subplot": "mapbox",
         "type": "scattermapbox"
        },
        {
         "hovertemplate": "<b>%{hovertext}</b><br><br>iso_alpha=HUN<br>gdpPercap=%{marker.size}<br>Latitude (average)=%{lat}<br>Longitude (average)=%{lon}<extra></extra>",
         "hovertext": [
          "Hungary"
         ],
         "lat": [
          47
         ],
         "legendgroup": "HUN",
         "lon": [
          20
         ],
         "marker": {
          "color": "#00cc96",
          "size": [
           3620.1819840212697
          ],
          "sizemode": "area",
          "sizeref": 14.91327471675944
         },
         "mode": "markers",
         "name": "HUN",
         "showlegend": true,
         "subplot": "mapbox",
         "type": "scattermapbox"
        },
        {
         "hovertemplate": "<b>%{hovertext}</b><br><br>iso_alpha=ISL<br>gdpPercap=%{marker.size}<br>Latitude (average)=%{lat}<br>Longitude (average)=%{lon}<extra></extra>",
         "hovertext": [
          "Iceland"
         ],
         "lat": [
          65
         ],
         "legendgroup": "ISL",
         "lon": [
          -18
         ],
         "marker": {
          "color": "#ab63fa",
          "size": [
           9373.245892793891
          ],
          "sizemode": "area",
          "sizeref": 14.91327471675944
         },
         "mode": "markers",
         "name": "ISL",
         "showlegend": true,
         "subplot": "mapbox",
         "type": "scattermapbox"
        },
        {
         "hovertemplate": "<b>%{hovertext}</b><br><br>iso_alpha=IRL<br>gdpPercap=%{marker.size}<br>Latitude (average)=%{lat}<br>Longitude (average)=%{lon}<extra></extra>",
         "hovertext": [
          "Ireland"
         ],
         "lat": [
          53
         ],
         "legendgroup": "IRL",
         "lon": [
          -8
         ],
         "marker": {
          "color": "#FFA15A",
          "size": [
           11573.311021961543
          ],
          "sizemode": "area",
          "sizeref": 14.91327471675944
         },
         "mode": "markers",
         "name": "IRL",
         "showlegend": true,
         "subplot": "mapbox",
         "type": "scattermapbox"
        },
        {
         "hovertemplate": "<b>%{hovertext}</b><br><br>iso_alpha=ITA<br>gdpPercap=%{marker.size}<br>Latitude (average)=%{lat}<br>Longitude (average)=%{lon}<extra></extra>",
         "hovertext": [
          "Italy"
         ],
         "lat": [
          42.8333
         ],
         "legendgroup": "ITA",
         "lon": [
          12.8333
         ],
         "marker": {
          "color": "#19d3f3",
          "size": [
           8273.523174155274
          ],
          "sizemode": "area",
          "sizeref": 14.91327471675944
         },
         "mode": "markers",
         "name": "ITA",
         "showlegend": true,
         "subplot": "mapbox",
         "type": "scattermapbox"
        },
        {
         "hovertemplate": "<b>%{hovertext}</b><br><br>iso_alpha=MNE<br>gdpPercap=%{marker.size}<br>Latitude (average)=%{lat}<br>Longitude (average)=%{lon}<extra></extra>",
         "hovertext": [
          "Montenegro"
         ],
         "lat": [
          42
         ],
         "legendgroup": "MNE",
         "lon": [
          19
         ],
         "marker": {
          "color": "#FF6692",
          "size": [
           2848.9552003110725
          ],
          "sizemode": "area",
          "sizeref": 14.91327471675944
         },
         "mode": "markers",
         "name": "MNE",
         "showlegend": true,
         "subplot": "mapbox",
         "type": "scattermapbox"
        },
        {
         "hovertemplate": "<b>%{hovertext}</b><br><br>iso_alpha=NLD<br>gdpPercap=%{marker.size}<br>Latitude (average)=%{lat}<br>Longitude (average)=%{lon}<extra></extra>",
         "hovertext": [
          "Netherlands"
         ],
         "lat": [
          52.5
         ],
         "legendgroup": "NLD",
         "lon": [
          5.75
         ],
         "marker": {
          "color": "#B6E880",
          "size": [
           8918.866410855815
          ],
          "sizemode": "area",
          "sizeref": 14.91327471675944
         },
         "mode": "markers",
         "name": "NLD",
         "showlegend": true,
         "subplot": "mapbox",
         "type": "scattermapbox"
        },
        {
         "hovertemplate": "<b>%{hovertext}</b><br><br>iso_alpha=NOR<br>gdpPercap=%{marker.size}<br>Latitude (average)=%{lat}<br>Longitude (average)=%{lon}<extra></extra>",
         "hovertext": [
          "Norway"
         ],
         "lat": [
          62
         ],
         "legendgroup": "NOR",
         "lon": [
          10
         ],
         "marker": {
          "color": "#FF97FF",
          "size": [
           13421.947245083496
          ],
          "sizemode": "area",
          "sizeref": 14.91327471675944
         },
         "mode": "markers",
         "name": "NOR",
         "showlegend": true,
         "subplot": "mapbox",
         "type": "scattermapbox"
        },
        {
         "hovertemplate": "<b>%{hovertext}</b><br><br>iso_alpha=POL<br>gdpPercap=%{marker.size}<br>Latitude (average)=%{lat}<br>Longitude (average)=%{lon}<extra></extra>",
         "hovertext": [
          "Poland"
         ],
         "lat": [
          52
         ],
         "legendgroup": "POL",
         "lon": [
          20
         ],
         "marker": {
          "color": "#FECB52",
          "size": [
           3198.3512045852826
          ],
          "sizemode": "area",
          "sizeref": 14.91327471675944
         },
         "mode": "markers",
         "name": "POL",
         "showlegend": true,
         "subplot": "mapbox",
         "type": "scattermapbox"
        },
        {
         "hovertemplate": "<b>%{hovertext}</b><br><br>iso_alpha=PRT<br>gdpPercap=%{marker.size}<br>Latitude (average)=%{lat}<br>Longitude (average)=%{lon}<extra></extra>",
         "hovertext": [
          "Portugal"
         ],
         "lat": [
          39.5
         ],
         "legendgroup": "PRT",
         "lon": [
          -8
         ],
         "marker": {
          "color": "#636efa",
          "size": [
           6222.544893656536
          ],
          "sizemode": "area",
          "sizeref": 14.91327471675944
         },
         "mode": "markers",
         "name": "PRT",
         "showlegend": true,
         "subplot": "mapbox",
         "type": "scattermapbox"
        },
        {
         "hovertemplate": "<b>%{hovertext}</b><br><br>iso_alpha=ROU<br>gdpPercap=%{marker.size}<br>Latitude (average)=%{lat}<br>Longitude (average)=%{lon}<extra></extra>",
         "hovertext": [
          "Romania"
         ],
         "lat": [
          46
         ],
         "legendgroup": "ROU",
         "lon": [
          25
         ],
         "marker": {
          "color": "#EF553B",
          "size": [
           2425.9735414266147
          ],
          "sizemode": "area",
          "sizeref": 14.91327471675944
         },
         "mode": "markers",
         "name": "ROU",
         "showlegend": true,
         "subplot": "mapbox",
         "type": "scattermapbox"
        },
        {
         "hovertemplate": "<b>%{hovertext}</b><br><br>iso_alpha=SRB<br>gdpPercap=%{marker.size}<br>Latitude (average)=%{lat}<br>Longitude (average)=%{lon}<extra></extra>",
         "hovertext": [
          "Serbia"
         ],
         "lat": [
          44
         ],
         "legendgroup": "SRB",
         "lon": [
          21
         ],
         "marker": {
          "color": "#00cc96",
          "size": [
           3829.9068362833264
          ],
          "sizemode": "area",
          "sizeref": 14.91327471675944
         },
         "mode": "markers",
         "name": "SRB",
         "showlegend": true,
         "subplot": "mapbox",
         "type": "scattermapbox"
        },
        {
         "hovertemplate": "<b>%{hovertext}</b><br><br>iso_alpha=SVK<br>gdpPercap=%{marker.size}<br>Latitude (average)=%{lat}<br>Longitude (average)=%{lon}<extra></extra>",
         "hovertext": [
          "Slovak Republic"
         ],
         "lat": [
          48.6667
         ],
         "legendgroup": "SVK",
         "lon": [
          19.5
         ],
         "marker": {
          "color": "#ab63fa",
          "size": [
           3650.2308262197657
          ],
          "sizemode": "area",
          "sizeref": 14.91327471675944
         },
         "mode": "markers",
         "name": "SVK",
         "showlegend": true,
         "subplot": "mapbox",
         "type": "scattermapbox"
        },
        {
         "hovertemplate": "<b>%{hovertext}</b><br><br>iso_alpha=SVN<br>gdpPercap=%{marker.size}<br>Latitude (average)=%{lat}<br>Longitude (average)=%{lon}<extra></extra>",
         "hovertext": [
          "Slovenia"
         ],
         "lat": [
          46
         ],
         "legendgroup": "SVN",
         "lon": [
          15
         ],
         "marker": {
          "color": "#FFA15A",
          "size": [
           6470.288209477645
          ],
          "sizemode": "area",
          "sizeref": 14.91327471675944
         },
         "mode": "markers",
         "name": "SVN",
         "showlegend": true,
         "subplot": "mapbox",
         "type": "scattermapbox"
        },
        {
         "hovertemplate": "<b>%{hovertext}</b><br><br>iso_alpha=ESP<br>gdpPercap=%{marker.size}<br>Latitude (average)=%{lat}<br>Longitude (average)=%{lon}<extra></extra>",
         "hovertext": [
          "Spain"
         ],
         "lat": [
          40
         ],
         "legendgroup": "ESP",
         "lon": [
          -4
         ],
         "marker": {
          "color": "#19d3f3",
          "size": [
           8046.634571300094
          ],
          "sizemode": "area",
          "sizeref": 14.91327471675944
         },
         "mode": "markers",
         "name": "ESP",
         "showlegend": true,
         "subplot": "mapbox",
         "type": "scattermapbox"
        },
        {
         "hovertemplate": "<b>%{hovertext}</b><br><br>iso_alpha=SWE<br>gdpPercap=%{marker.size}<br>Latitude (average)=%{lat}<br>Longitude (average)=%{lon}<extra></extra>",
         "hovertext": [
          "Sweden"
         ],
         "lat": [
          62
         ],
         "legendgroup": "SWE",
         "lon": [
          15
         ],
         "marker": {
          "color": "#FF6692",
          "size": [
           7723.247842796874
          ],
          "sizemode": "area",
          "sizeref": 14.91327471675944
         },
         "mode": "markers",
         "name": "SWE",
         "showlegend": true,
         "subplot": "mapbox",
         "type": "scattermapbox"
        },
        {
         "hovertemplate": "<b>%{hovertext}</b><br><br>iso_alpha=CHE<br>gdpPercap=%{marker.size}<br>Latitude (average)=%{lat}<br>Longitude (average)=%{lon}<extra></extra>",
         "hovertext": [
          "Switzerland"
         ],
         "lat": [
          47
         ],
         "legendgroup": "CHE",
         "lon": [
          8
         ],
         "marker": {
          "color": "#B6E880",
          "size": [
           6886.463308080273
          ],
          "sizemode": "area",
          "sizeref": 14.91327471675944
         },
         "mode": "markers",
         "name": "CHE",
         "showlegend": true,
         "subplot": "mapbox",
         "type": "scattermapbox"
        },
        {
         "hovertemplate": "<b>%{hovertext}</b><br><br>iso_alpha=TUR<br>gdpPercap=%{marker.size}<br>Latitude (average)=%{lat}<br>Longitude (average)=%{lon}<extra></extra>",
         "hovertext": [
          "Turkey"
         ],
         "lat": [
          39
         ],
         "legendgroup": "TUR",
         "lon": [
          35
         ],
         "marker": {
          "color": "#FF97FF",
          "size": [
           2049.665101880844
          ],
          "sizemode": "area",
          "sizeref": 14.91327471675944
         },
         "mode": "markers",
         "name": "TUR",
         "showlegend": true,
         "subplot": "mapbox",
         "type": "scattermapbox"
        },
        {
         "hovertemplate": "<b>%{hovertext}</b><br><br>iso_alpha=GBR<br>gdpPercap=%{marker.size}<br>Latitude (average)=%{lat}<br>Longitude (average)=%{lon}<extra></extra>",
         "hovertext": [
          "United Kingdom"
         ],
         "lat": [
          54
         ],
         "legendgroup": "GBR",
         "lon": [
          -2
         ],
         "marker": {
          "color": "#FECB52",
          "size": [
           7388.189398602921
          ],
          "sizemode": "area",
          "sizeref": 14.91327471675944
         },
         "mode": "markers",
         "name": "GBR",
         "showlegend": true,
         "subplot": "mapbox",
         "type": "scattermapbox"
        }
       ],
       "layout": {
        "height": 1000,
        "legend": {
         "itemsizing": "constant",
         "title": {
          "text": "iso_alpha"
         },
         "tracegroupgap": 0
        },
        "mapbox": {
         "center": {
          "lat": 31.03769761904762,
          "lon": -10.121033333333333
         },
         "domain": {
          "x": [
           0,
           1
          ],
          "y": [
           0,
           1
          ]
         },
         "style": "open-street-map",
         "zoom": 2
        },
        "template": {
         "data": {
          "bar": [
           {
            "error_x": {
             "color": "#2a3f5f"
            },
            "error_y": {
             "color": "#2a3f5f"
            },
            "marker": {
             "line": {
              "color": "#E5ECF6",
              "width": 0.5
             }
            },
            "type": "bar"
           }
          ],
          "barpolar": [
           {
            "marker": {
             "line": {
              "color": "#E5ECF6",
              "width": 0.5
             }
            },
            "type": "barpolar"
           }
          ],
          "carpet": [
           {
            "aaxis": {
             "endlinecolor": "#2a3f5f",
             "gridcolor": "white",
             "linecolor": "white",
             "minorgridcolor": "white",
             "startlinecolor": "#2a3f5f"
            },
            "baxis": {
             "endlinecolor": "#2a3f5f",
             "gridcolor": "white",
             "linecolor": "white",
             "minorgridcolor": "white",
             "startlinecolor": "#2a3f5f"
            },
            "type": "carpet"
           }
          ],
          "choropleth": [
           {
            "colorbar": {
             "outlinewidth": 0,
             "ticks": ""
            },
            "type": "choropleth"
           }
          ],
          "contour": [
           {
            "colorbar": {
             "outlinewidth": 0,
             "ticks": ""
            },
            "colorscale": [
             [
              0,
              "#0d0887"
             ],
             [
              0.1111111111111111,
              "#46039f"
             ],
             [
              0.2222222222222222,
              "#7201a8"
             ],
             [
              0.3333333333333333,
              "#9c179e"
             ],
             [
              0.4444444444444444,
              "#bd3786"
             ],
             [
              0.5555555555555556,
              "#d8576b"
             ],
             [
              0.6666666666666666,
              "#ed7953"
             ],
             [
              0.7777777777777778,
              "#fb9f3a"
             ],
             [
              0.8888888888888888,
              "#fdca26"
             ],
             [
              1,
              "#f0f921"
             ]
            ],
            "type": "contour"
           }
          ],
          "contourcarpet": [
           {
            "colorbar": {
             "outlinewidth": 0,
             "ticks": ""
            },
            "type": "contourcarpet"
           }
          ],
          "heatmap": [
           {
            "colorbar": {
             "outlinewidth": 0,
             "ticks": ""
            },
            "colorscale": [
             [
              0,
              "#0d0887"
             ],
             [
              0.1111111111111111,
              "#46039f"
             ],
             [
              0.2222222222222222,
              "#7201a8"
             ],
             [
              0.3333333333333333,
              "#9c179e"
             ],
             [
              0.4444444444444444,
              "#bd3786"
             ],
             [
              0.5555555555555556,
              "#d8576b"
             ],
             [
              0.6666666666666666,
              "#ed7953"
             ],
             [
              0.7777777777777778,
              "#fb9f3a"
             ],
             [
              0.8888888888888888,
              "#fdca26"
             ],
             [
              1,
              "#f0f921"
             ]
            ],
            "type": "heatmap"
           }
          ],
          "heatmapgl": [
           {
            "colorbar": {
             "outlinewidth": 0,
             "ticks": ""
            },
            "colorscale": [
             [
              0,
              "#0d0887"
             ],
             [
              0.1111111111111111,
              "#46039f"
             ],
             [
              0.2222222222222222,
              "#7201a8"
             ],
             [
              0.3333333333333333,
              "#9c179e"
             ],
             [
              0.4444444444444444,
              "#bd3786"
             ],
             [
              0.5555555555555556,
              "#d8576b"
             ],
             [
              0.6666666666666666,
              "#ed7953"
             ],
             [
              0.7777777777777778,
              "#fb9f3a"
             ],
             [
              0.8888888888888888,
              "#fdca26"
             ],
             [
              1,
              "#f0f921"
             ]
            ],
            "type": "heatmapgl"
           }
          ],
          "histogram": [
           {
            "marker": {
             "colorbar": {
              "outlinewidth": 0,
              "ticks": ""
             }
            },
            "type": "histogram"
           }
          ],
          "histogram2d": [
           {
            "colorbar": {
             "outlinewidth": 0,
             "ticks": ""
            },
            "colorscale": [
             [
              0,
              "#0d0887"
             ],
             [
              0.1111111111111111,
              "#46039f"
             ],
             [
              0.2222222222222222,
              "#7201a8"
             ],
             [
              0.3333333333333333,
              "#9c179e"
             ],
             [
              0.4444444444444444,
              "#bd3786"
             ],
             [
              0.5555555555555556,
              "#d8576b"
             ],
             [
              0.6666666666666666,
              "#ed7953"
             ],
             [
              0.7777777777777778,
              "#fb9f3a"
             ],
             [
              0.8888888888888888,
              "#fdca26"
             ],
             [
              1,
              "#f0f921"
             ]
            ],
            "type": "histogram2d"
           }
          ],
          "histogram2dcontour": [
           {
            "colorbar": {
             "outlinewidth": 0,
             "ticks": ""
            },
            "colorscale": [
             [
              0,
              "#0d0887"
             ],
             [
              0.1111111111111111,
              "#46039f"
             ],
             [
              0.2222222222222222,
              "#7201a8"
             ],
             [
              0.3333333333333333,
              "#9c179e"
             ],
             [
              0.4444444444444444,
              "#bd3786"
             ],
             [
              0.5555555555555556,
              "#d8576b"
             ],
             [
              0.6666666666666666,
              "#ed7953"
             ],
             [
              0.7777777777777778,
              "#fb9f3a"
             ],
             [
              0.8888888888888888,
              "#fdca26"
             ],
             [
              1,
              "#f0f921"
             ]
            ],
            "type": "histogram2dcontour"
           }
          ],
          "mesh3d": [
           {
            "colorbar": {
             "outlinewidth": 0,
             "ticks": ""
            },
            "type": "mesh3d"
           }
          ],
          "parcoords": [
           {
            "line": {
             "colorbar": {
              "outlinewidth": 0,
              "ticks": ""
             }
            },
            "type": "parcoords"
           }
          ],
          "pie": [
           {
            "automargin": true,
            "type": "pie"
           }
          ],
          "scatter": [
           {
            "marker": {
             "colorbar": {
              "outlinewidth": 0,
              "ticks": ""
             }
            },
            "type": "scatter"
           }
          ],
          "scatter3d": [
           {
            "line": {
             "colorbar": {
              "outlinewidth": 0,
              "ticks": ""
             }
            },
            "marker": {
             "colorbar": {
              "outlinewidth": 0,
              "ticks": ""
             }
            },
            "type": "scatter3d"
           }
          ],
          "scattercarpet": [
           {
            "marker": {
             "colorbar": {
              "outlinewidth": 0,
              "ticks": ""
             }
            },
            "type": "scattercarpet"
           }
          ],
          "scattergeo": [
           {
            "marker": {
             "colorbar": {
              "outlinewidth": 0,
              "ticks": ""
             }
            },
            "type": "scattergeo"
           }
          ],
          "scattergl": [
           {
            "marker": {
             "colorbar": {
              "outlinewidth": 0,
              "ticks": ""
             }
            },
            "type": "scattergl"
           }
          ],
          "scattermapbox": [
           {
            "marker": {
             "colorbar": {
              "outlinewidth": 0,
              "ticks": ""
             }
            },
            "type": "scattermapbox"
           }
          ],
          "scatterpolar": [
           {
            "marker": {
             "colorbar": {
              "outlinewidth": 0,
              "ticks": ""
             }
            },
            "type": "scatterpolar"
           }
          ],
          "scatterpolargl": [
           {
            "marker": {
             "colorbar": {
              "outlinewidth": 0,
              "ticks": ""
             }
            },
            "type": "scatterpolargl"
           }
          ],
          "scatterternary": [
           {
            "marker": {
             "colorbar": {
              "outlinewidth": 0,
              "ticks": ""
             }
            },
            "type": "scatterternary"
           }
          ],
          "surface": [
           {
            "colorbar": {
             "outlinewidth": 0,
             "ticks": ""
            },
            "colorscale": [
             [
              0,
              "#0d0887"
             ],
             [
              0.1111111111111111,
              "#46039f"
             ],
             [
              0.2222222222222222,
              "#7201a8"
             ],
             [
              0.3333333333333333,
              "#9c179e"
             ],
             [
              0.4444444444444444,
              "#bd3786"
             ],
             [
              0.5555555555555556,
              "#d8576b"
             ],
             [
              0.6666666666666666,
              "#ed7953"
             ],
             [
              0.7777777777777778,
              "#fb9f3a"
             ],
             [
              0.8888888888888888,
              "#fdca26"
             ],
             [
              1,
              "#f0f921"
             ]
            ],
            "type": "surface"
           }
          ],
          "table": [
           {
            "cells": {
             "fill": {
              "color": "#EBF0F8"
             },
             "line": {
              "color": "white"
             }
            },
            "header": {
             "fill": {
              "color": "#C8D4E3"
             },
             "line": {
              "color": "white"
             }
            },
            "type": "table"
           }
          ]
         },
         "layout": {
          "annotationdefaults": {
           "arrowcolor": "#2a3f5f",
           "arrowhead": 0,
           "arrowwidth": 1
          },
          "autotypenumbers": "strict",
          "coloraxis": {
           "colorbar": {
            "outlinewidth": 0,
            "ticks": ""
           }
          },
          "colorscale": {
           "diverging": [
            [
             0,
             "#8e0152"
            ],
            [
             0.1,
             "#c51b7d"
            ],
            [
             0.2,
             "#de77ae"
            ],
            [
             0.3,
             "#f1b6da"
            ],
            [
             0.4,
             "#fde0ef"
            ],
            [
             0.5,
             "#f7f7f7"
            ],
            [
             0.6,
             "#e6f5d0"
            ],
            [
             0.7,
             "#b8e186"
            ],
            [
             0.8,
             "#7fbc41"
            ],
            [
             0.9,
             "#4d9221"
            ],
            [
             1,
             "#276419"
            ]
           ],
           "sequential": [
            [
             0,
             "#0d0887"
            ],
            [
             0.1111111111111111,
             "#46039f"
            ],
            [
             0.2222222222222222,
             "#7201a8"
            ],
            [
             0.3333333333333333,
             "#9c179e"
            ],
            [
             0.4444444444444444,
             "#bd3786"
            ],
            [
             0.5555555555555556,
             "#d8576b"
            ],
            [
             0.6666666666666666,
             "#ed7953"
            ],
            [
             0.7777777777777778,
             "#fb9f3a"
            ],
            [
             0.8888888888888888,
             "#fdca26"
            ],
            [
             1,
             "#f0f921"
            ]
           ],
           "sequentialminus": [
            [
             0,
             "#0d0887"
            ],
            [
             0.1111111111111111,
             "#46039f"
            ],
            [
             0.2222222222222222,
             "#7201a8"
            ],
            [
             0.3333333333333333,
             "#9c179e"
            ],
            [
             0.4444444444444444,
             "#bd3786"
            ],
            [
             0.5555555555555556,
             "#d8576b"
            ],
            [
             0.6666666666666666,
             "#ed7953"
            ],
            [
             0.7777777777777778,
             "#fb9f3a"
            ],
            [
             0.8888888888888888,
             "#fdca26"
            ],
            [
             1,
             "#f0f921"
            ]
           ]
          },
          "colorway": [
           "#636efa",
           "#EF553B",
           "#00cc96",
           "#ab63fa",
           "#FFA15A",
           "#19d3f3",
           "#FF6692",
           "#B6E880",
           "#FF97FF",
           "#FECB52"
          ],
          "font": {
           "color": "#2a3f5f"
          },
          "geo": {
           "bgcolor": "white",
           "lakecolor": "white",
           "landcolor": "#E5ECF6",
           "showlakes": true,
           "showland": true,
           "subunitcolor": "white"
          },
          "hoverlabel": {
           "align": "left"
          },
          "hovermode": "closest",
          "mapbox": {
           "style": "light"
          },
          "paper_bgcolor": "white",
          "plot_bgcolor": "#E5ECF6",
          "polar": {
           "angularaxis": {
            "gridcolor": "white",
            "linecolor": "white",
            "ticks": ""
           },
           "bgcolor": "#E5ECF6",
           "radialaxis": {
            "gridcolor": "white",
            "linecolor": "white",
            "ticks": ""
           }
          },
          "scene": {
           "xaxis": {
            "backgroundcolor": "#E5ECF6",
            "gridcolor": "white",
            "gridwidth": 2,
            "linecolor": "white",
            "showbackground": true,
            "ticks": "",
            "zerolinecolor": "white"
           },
           "yaxis": {
            "backgroundcolor": "#E5ECF6",
            "gridcolor": "white",
            "gridwidth": 2,
            "linecolor": "white",
            "showbackground": true,
            "ticks": "",
            "zerolinecolor": "white"
           },
           "zaxis": {
            "backgroundcolor": "#E5ECF6",
            "gridcolor": "white",
            "gridwidth": 2,
            "linecolor": "white",
            "showbackground": true,
            "ticks": "",
            "zerolinecolor": "white"
           }
          },
          "shapedefaults": {
           "line": {
            "color": "#2a3f5f"
           }
          },
          "ternary": {
           "aaxis": {
            "gridcolor": "white",
            "linecolor": "white",
            "ticks": ""
           },
           "baxis": {
            "gridcolor": "white",
            "linecolor": "white",
            "ticks": ""
           },
           "bgcolor": "#E5ECF6",
           "caxis": {
            "gridcolor": "white",
            "linecolor": "white",
            "ticks": ""
           }
          },
          "title": {
           "x": 0.05
          },
          "xaxis": {
           "automargin": true,
           "gridcolor": "white",
           "linecolor": "white",
           "ticks": "",
           "title": {
            "standoff": 15
           },
           "zerolinecolor": "white",
           "zerolinewidth": 2
          },
          "yaxis": {
           "automargin": true,
           "gridcolor": "white",
           "linecolor": "white",
           "ticks": "",
           "title": {
            "standoff": 15
           },
           "zerolinecolor": "white",
           "zerolinewidth": 2
          }
         }
        },
        "title": {
         "text": "Deviation of European and South America GDP per Capita"
        }
       }
      },
      "text/html": [
       "<div>                            <div id=\"7f4201e2-2bb2-4019-bde5-3b632af80051\" class=\"plotly-graph-div\" style=\"height:1000px; width:100%;\"></div>            <script type=\"text/javascript\">                require([\"plotly\"], function(Plotly) {                    window.PLOTLYENV=window.PLOTLYENV || {};                                    if (document.getElementById(\"7f4201e2-2bb2-4019-bde5-3b632af80051\")) {                    Plotly.newPlot(                        \"7f4201e2-2bb2-4019-bde5-3b632af80051\",                        [{\"hovertemplate\": \"<b>%{hovertext}</b><br><br>iso_alpha=ARG<br>gdpPercap=%{marker.size}<br>Latitude (average)=%{lat}<br>Longitude (average)=%{lon}<extra></extra>\", \"hovertext\": [\"Argentina\"], \"lat\": [-34.0], \"legendgroup\": \"ARG\", \"lon\": [-64.0], \"marker\": {\"color\": \"#636efa\", \"size\": [1862.5831513991852], \"sizemode\": \"area\", \"sizeref\": 14.91327471675944}, \"mode\": \"markers\", \"name\": \"ARG\", \"showlegend\": true, \"subplot\": \"mapbox\", \"type\": \"scattermapbox\"}, {\"hovertemplate\": \"<b>%{hovertext}</b><br><br>iso_alpha=BOL<br>gdpPercap=%{marker.size}<br>Latitude (average)=%{lat}<br>Longitude (average)=%{lon}<extra></extra>\", \"hovertext\": [\"Bolivia\", \"Bolivia\"], \"lat\": [-17.0, -17.0], \"legendgroup\": \"BOL\", \"lon\": [-65.0, -65.0], \"marker\": {\"color\": \"#EF553B\", \"size\": [524.7487056551422, 524.7487056551422], \"sizemode\": \"area\", \"sizeref\": 14.91327471675944}, \"mode\": \"markers\", \"name\": \"BOL\", \"showlegend\": true, \"subplot\": \"mapbox\", \"type\": \"scattermapbox\"}, {\"hovertemplate\": \"<b>%{hovertext}</b><br><br>iso_alpha=BRA<br>gdpPercap=%{marker.size}<br>Latitude (average)=%{lat}<br>Longitude (average)=%{lon}<extra></extra>\", \"hovertext\": [\"Brazil\"], \"lat\": [-10.0], \"legendgroup\": \"BRA\", \"lon\": [-55.0], \"marker\": {\"color\": \"#00cc96\", \"size\": [2436.4537541482923], \"sizemode\": \"area\", \"sizeref\": 14.91327471675944}, \"mode\": \"markers\", \"name\": \"BRA\", \"showlegend\": true, \"subplot\": \"mapbox\", \"type\": \"scattermapbox\"}, {\"hovertemplate\": \"<b>%{hovertext}</b><br><br>iso_alpha=CHL<br>gdpPercap=%{marker.size}<br>Latitude (average)=%{lat}<br>Longitude (average)=%{lon}<extra></extra>\", \"hovertext\": [\"Chile\"], \"lat\": [-30.0], \"legendgroup\": \"CHL\", \"lon\": [-71.0], \"marker\": {\"color\": \"#ab63fa\", \"size\": [3026.1940231231747], \"sizemode\": \"area\", \"sizeref\": 14.91327471675944}, \"mode\": \"markers\", \"name\": \"CHL\", \"showlegend\": true, \"subplot\": \"mapbox\", \"type\": \"scattermapbox\"}, {\"hovertemplate\": \"<b>%{hovertext}</b><br><br>iso_alpha=COL<br>gdpPercap=%{marker.size}<br>Latitude (average)=%{lat}<br>Longitude (average)=%{lon}<extra></extra>\", \"hovertext\": [\"Colombia\"], \"lat\": [4.0], \"legendgroup\": \"COL\", \"lon\": [-72.0], \"marker\": {\"color\": \"#FFA15A\", \"size\": [1652.9314656406464], \"sizemode\": \"area\", \"sizeref\": 14.91327471675944}, \"mode\": \"markers\", \"name\": \"COL\", \"showlegend\": true, \"subplot\": \"mapbox\", \"type\": \"scattermapbox\"}, {\"hovertemplate\": \"<b>%{hovertext}</b><br><br>iso_alpha=ECU<br>gdpPercap=%{marker.size}<br>Latitude (average)=%{lat}<br>Longitude (average)=%{lon}<extra></extra>\", \"hovertext\": [\"Ecuador\"], \"lat\": [-2.0], \"legendgroup\": \"ECU\", \"lon\": [-77.5], \"marker\": {\"color\": \"#19d3f3\", \"size\": [1435.1522819702238], \"sizemode\": \"area\", \"sizeref\": 14.91327471675944}, \"mode\": \"markers\", \"name\": \"ECU\", \"showlegend\": true, \"subplot\": \"mapbox\", \"type\": \"scattermapbox\"}, {\"hovertemplate\": \"<b>%{hovertext}</b><br><br>iso_alpha=PRY<br>gdpPercap=%{marker.size}<br>Latitude (average)=%{lat}<br>Longitude (average)=%{lon}<extra></extra>\", \"hovertext\": [\"Paraguay\"], \"lat\": [-23.0], \"legendgroup\": \"PRY\", \"lon\": [-58.0], \"marker\": {\"color\": \"#FF6692\", \"size\": [971.5430298861991], \"sizemode\": \"area\", \"sizeref\": 14.91327471675944}, \"mode\": \"markers\", \"name\": \"PRY\", \"showlegend\": true, \"subplot\": \"mapbox\", \"type\": \"scattermapbox\"}, {\"hovertemplate\": \"<b>%{hovertext}</b><br><br>iso_alpha=PER<br>gdpPercap=%{marker.size}<br>Latitude (average)=%{lat}<br>Longitude (average)=%{lon}<extra></extra>\", \"hovertext\": [\"Peru\"], \"lat\": [-10.0], \"legendgroup\": \"PER\", \"lon\": [-76.0], \"marker\": {\"color\": \"#B6E880\", \"size\": [1056.6601194143711], \"sizemode\": \"area\", \"sizeref\": 14.91327471675944}, \"mode\": \"markers\", \"name\": \"PER\", \"showlegend\": true, \"subplot\": \"mapbox\", \"type\": \"scattermapbox\"}, {\"hovertemplate\": \"<b>%{hovertext}</b><br><br>iso_alpha=URY<br>gdpPercap=%{marker.size}<br>Latitude (average)=%{lat}<br>Longitude (average)=%{lon}<extra></extra>\", \"hovertext\": [\"Uruguay\"], \"lat\": [-33.0], \"legendgroup\": \"URY\", \"lon\": [-56.0], \"marker\": {\"color\": \"#FF97FF\", \"size\": [1612.2592634495063], \"sizemode\": \"area\", \"sizeref\": 14.91327471675944}, \"mode\": \"markers\", \"name\": \"URY\", \"showlegend\": true, \"subplot\": \"mapbox\", \"type\": \"scattermapbox\"}, {\"hovertemplate\": \"<b>%{hovertext}</b><br><br>iso_alpha=VEN<br>gdpPercap=%{marker.size}<br>Latitude (average)=%{lat}<br>Longitude (average)=%{lon}<extra></extra>\", \"hovertext\": [\"Venezuela\", \"Venezuela\"], \"lat\": [8.0, 8.0], \"legendgroup\": \"VEN\", \"lon\": [-66.0, -66.0], \"marker\": {\"color\": \"#FECB52\", \"size\": [1476.3908630419053, 1476.3908630419053], \"sizemode\": \"area\", \"sizeref\": 14.91327471675944}, \"mode\": \"markers\", \"name\": \"VEN\", \"showlegend\": true, \"subplot\": \"mapbox\", \"type\": \"scattermapbox\"}, {\"hovertemplate\": \"<b>%{hovertext}</b><br><br>iso_alpha=ALB<br>gdpPercap=%{marker.size}<br>Latitude (average)=%{lat}<br>Longitude (average)=%{lon}<extra></extra>\", \"hovertext\": [\"Albania\"], \"lat\": [41.0], \"legendgroup\": \"ALB\", \"lon\": [20.0], \"marker\": {\"color\": \"#636efa\", \"size\": [1192.3515128271426], \"sizemode\": \"area\", \"sizeref\": 14.91327471675944}, \"mode\": \"markers\", \"name\": \"ALB\", \"showlegend\": true, \"subplot\": \"mapbox\", \"type\": \"scattermapbox\"}, {\"hovertemplate\": \"<b>%{hovertext}</b><br><br>iso_alpha=AUT<br>gdpPercap=%{marker.size}<br>Latitude (average)=%{lat}<br>Longitude (average)=%{lon}<extra></extra>\", \"hovertext\": [\"Austria\"], \"lat\": [47.3333], \"legendgroup\": \"AUT\", \"lon\": [13.3333], \"marker\": {\"color\": \"#EF553B\", \"size\": [9655.281487936998], \"sizemode\": \"area\", \"sizeref\": 14.91327471675944}, \"mode\": \"markers\", \"name\": \"AUT\", \"showlegend\": true, \"subplot\": \"mapbox\", \"type\": \"scattermapbox\"}, {\"hovertemplate\": \"<b>%{hovertext}</b><br><br>iso_alpha=BEL<br>gdpPercap=%{marker.size}<br>Latitude (average)=%{lat}<br>Longitude (average)=%{lon}<extra></extra>\", \"hovertext\": [\"Belgium\"], \"lat\": [50.8333], \"legendgroup\": \"BEL\", \"lon\": [4.0], \"marker\": {\"color\": \"#00cc96\", \"size\": [8391.186269123447], \"sizemode\": \"area\", \"sizeref\": 14.91327471675944}, \"mode\": \"markers\", \"name\": \"BEL\", \"showlegend\": true, \"subplot\": \"mapbox\", \"type\": \"scattermapbox\"}, {\"hovertemplate\": \"<b>%{hovertext}</b><br><br>iso_alpha=BIH<br>gdpPercap=%{marker.size}<br>Latitude (average)=%{lat}<br>Longitude (average)=%{lon}<extra></extra>\", \"hovertext\": [\"Bosnia and Herzegovina\"], \"lat\": [44.0], \"legendgroup\": \"BIH\", \"lon\": [18.0], \"marker\": {\"color\": \"#ab63fa\", \"size\": [1950.5223467714338], \"sizemode\": \"area\", \"sizeref\": 14.91327471675944}, \"mode\": \"markers\", \"name\": \"BIH\", \"showlegend\": true, \"subplot\": \"mapbox\", \"type\": \"scattermapbox\"}, {\"hovertemplate\": \"<b>%{hovertext}</b><br><br>iso_alpha=BGR<br>gdpPercap=%{marker.size}<br>Latitude (average)=%{lat}<br>Longitude (average)=%{lon}<extra></extra>\", \"hovertext\": [\"Bulgaria\"], \"lat\": [43.0], \"legendgroup\": \"BGR\", \"lon\": [25.0], \"marker\": {\"color\": \"#FFA15A\", \"size\": [2351.963618965281], \"sizemode\": \"area\", \"sizeref\": 14.91327471675944}, \"mode\": \"markers\", \"name\": \"BGR\", \"showlegend\": true, \"subplot\": \"mapbox\", \"type\": \"scattermapbox\"}, {\"hovertemplate\": \"<b>%{hovertext}</b><br><br>iso_alpha=HRV<br>gdpPercap=%{marker.size}<br>Latitude (average)=%{lat}<br>Longitude (average)=%{lon}<extra></extra>\", \"hovertext\": [\"Croatia\"], \"lat\": [45.1667], \"legendgroup\": \"HRV\", \"lon\": [15.5], \"marker\": {\"color\": \"#19d3f3\", \"size\": [3784.4086630384404], \"sizemode\": \"area\", \"sizeref\": 14.91327471675944}, \"mode\": \"markers\", \"name\": \"HRV\", \"showlegend\": true, \"subplot\": \"mapbox\", \"type\": \"scattermapbox\"}, {\"hovertemplate\": \"<b>%{hovertext}</b><br><br>iso_alpha=CZE<br>gdpPercap=%{marker.size}<br>Latitude (average)=%{lat}<br>Longitude (average)=%{lon}<extra></extra>\", \"hovertext\": [\"Czech Republic\"], \"lat\": [49.75], \"legendgroup\": \"CZE\", \"lon\": [15.5], \"marker\": {\"color\": \"#FF6692\", \"size\": [4361.646746815699], \"sizemode\": \"area\", \"sizeref\": 14.91327471675944}, \"mode\": \"markers\", \"name\": \"CZE\", \"showlegend\": true, \"subplot\": \"mapbox\", \"type\": \"scattermapbox\"}, {\"hovertemplate\": \"<b>%{hovertext}</b><br><br>iso_alpha=DNK<br>gdpPercap=%{marker.size}<br>Latitude (average)=%{lat}<br>Longitude (average)=%{lon}<extra></extra>\", \"hovertext\": [\"Denmark\"], \"lat\": [56.0], \"legendgroup\": \"DNK\", \"lon\": [10.0], \"marker\": {\"color\": \"#B6E880\", \"size\": [8305.077866370926], \"sizemode\": \"area\", \"sizeref\": 14.91327471675944}, \"mode\": \"markers\", \"name\": \"DNK\", \"showlegend\": true, \"subplot\": \"mapbox\", \"type\": \"scattermapbox\"}, {\"hovertemplate\": \"<b>%{hovertext}</b><br><br>iso_alpha=FIN<br>gdpPercap=%{marker.size}<br>Latitude (average)=%{lat}<br>Longitude (average)=%{lon}<extra></extra>\", \"hovertext\": [\"Finland\"], \"lat\": [64.0], \"legendgroup\": \"FIN\", \"lon\": [26.0], \"marker\": {\"color\": \"#FF97FF\", \"size\": [8360.17067395112], \"sizemode\": \"area\", \"sizeref\": 14.91327471675944}, \"mode\": \"markers\", \"name\": \"FIN\", \"showlegend\": true, \"subplot\": \"mapbox\", \"type\": \"scattermapbox\"}, {\"hovertemplate\": \"<b>%{hovertext}</b><br><br>iso_alpha=FRA<br>gdpPercap=%{marker.size}<br>Latitude (average)=%{lat}<br>Longitude (average)=%{lon}<extra></extra>\", \"hovertext\": [\"France\"], \"lat\": [46.0], \"legendgroup\": \"FRA\", \"lon\": [2.0], \"marker\": {\"color\": \"#FECB52\", \"size\": [7903.234226966455], \"sizemode\": \"area\", \"sizeref\": 14.91327471675944}, \"mode\": \"markers\", \"name\": \"FRA\", \"showlegend\": true, \"subplot\": \"mapbox\", \"type\": \"scattermapbox\"}, {\"hovertemplate\": \"<b>%{hovertext}</b><br><br>iso_alpha=DEU<br>gdpPercap=%{marker.size}<br>Latitude (average)=%{lat}<br>Longitude (average)=%{lon}<extra></extra>\", \"hovertext\": [\"Germany\"], \"lat\": [51.0], \"legendgroup\": \"DEU\", \"lon\": [9.0], \"marker\": {\"color\": \"#636efa\", \"size\": [8076.261912882131], \"sizemode\": \"area\", \"sizeref\": 14.91327471675944}, \"mode\": \"markers\", \"name\": \"DEU\", \"showlegend\": true, \"subplot\": \"mapbox\", \"type\": \"scattermapbox\"}, {\"hovertemplate\": \"<b>%{hovertext}</b><br><br>iso_alpha=GRC<br>gdpPercap=%{marker.size}<br>Latitude (average)=%{lat}<br>Longitude (average)=%{lon}<extra></extra>\", \"hovertext\": [\"Greece\"], \"lat\": [39.0], \"legendgroup\": \"GRC\", \"lon\": [22.0], \"marker\": {\"color\": \"#EF553B\", \"size\": [7289.928845391456], \"sizemode\": \"area\", \"sizeref\": 14.91327471675944}, \"mode\": \"markers\", \"name\": \"GRC\", \"showlegend\": true, \"subplot\": \"mapbox\", \"type\": \"scattermapbox\"}, {\"hovertemplate\": \"<b>%{hovertext}</b><br><br>iso_alpha=HUN<br>gdpPercap=%{marker.size}<br>Latitude (average)=%{lat}<br>Longitude (average)=%{lon}<extra></extra>\", \"hovertext\": [\"Hungary\"], \"lat\": [47.0], \"legendgroup\": \"HUN\", \"lon\": [20.0], \"marker\": {\"color\": \"#00cc96\", \"size\": [3620.1819840212697], \"sizemode\": \"area\", \"sizeref\": 14.91327471675944}, \"mode\": \"markers\", \"name\": \"HUN\", \"showlegend\": true, \"subplot\": \"mapbox\", \"type\": \"scattermapbox\"}, {\"hovertemplate\": \"<b>%{hovertext}</b><br><br>iso_alpha=ISL<br>gdpPercap=%{marker.size}<br>Latitude (average)=%{lat}<br>Longitude (average)=%{lon}<extra></extra>\", \"hovertext\": [\"Iceland\"], \"lat\": [65.0], \"legendgroup\": \"ISL\", \"lon\": [-18.0], \"marker\": {\"color\": \"#ab63fa\", \"size\": [9373.245892793891], \"sizemode\": \"area\", \"sizeref\": 14.91327471675944}, \"mode\": \"markers\", \"name\": \"ISL\", \"showlegend\": true, \"subplot\": \"mapbox\", \"type\": \"scattermapbox\"}, {\"hovertemplate\": \"<b>%{hovertext}</b><br><br>iso_alpha=IRL<br>gdpPercap=%{marker.size}<br>Latitude (average)=%{lat}<br>Longitude (average)=%{lon}<extra></extra>\", \"hovertext\": [\"Ireland\"], \"lat\": [53.0], \"legendgroup\": \"IRL\", \"lon\": [-8.0], \"marker\": {\"color\": \"#FFA15A\", \"size\": [11573.311021961543], \"sizemode\": \"area\", \"sizeref\": 14.91327471675944}, \"mode\": \"markers\", \"name\": \"IRL\", \"showlegend\": true, \"subplot\": \"mapbox\", \"type\": \"scattermapbox\"}, {\"hovertemplate\": \"<b>%{hovertext}</b><br><br>iso_alpha=ITA<br>gdpPercap=%{marker.size}<br>Latitude (average)=%{lat}<br>Longitude (average)=%{lon}<extra></extra>\", \"hovertext\": [\"Italy\"], \"lat\": [42.8333], \"legendgroup\": \"ITA\", \"lon\": [12.8333], \"marker\": {\"color\": \"#19d3f3\", \"size\": [8273.523174155274], \"sizemode\": \"area\", \"sizeref\": 14.91327471675944}, \"mode\": \"markers\", \"name\": \"ITA\", \"showlegend\": true, \"subplot\": \"mapbox\", \"type\": \"scattermapbox\"}, {\"hovertemplate\": \"<b>%{hovertext}</b><br><br>iso_alpha=MNE<br>gdpPercap=%{marker.size}<br>Latitude (average)=%{lat}<br>Longitude (average)=%{lon}<extra></extra>\", \"hovertext\": [\"Montenegro\"], \"lat\": [42.0], \"legendgroup\": \"MNE\", \"lon\": [19.0], \"marker\": {\"color\": \"#FF6692\", \"size\": [2848.9552003110725], \"sizemode\": \"area\", \"sizeref\": 14.91327471675944}, \"mode\": \"markers\", \"name\": \"MNE\", \"showlegend\": true, \"subplot\": \"mapbox\", \"type\": \"scattermapbox\"}, {\"hovertemplate\": \"<b>%{hovertext}</b><br><br>iso_alpha=NLD<br>gdpPercap=%{marker.size}<br>Latitude (average)=%{lat}<br>Longitude (average)=%{lon}<extra></extra>\", \"hovertext\": [\"Netherlands\"], \"lat\": [52.5], \"legendgroup\": \"NLD\", \"lon\": [5.75], \"marker\": {\"color\": \"#B6E880\", \"size\": [8918.866410855815], \"sizemode\": \"area\", \"sizeref\": 14.91327471675944}, \"mode\": \"markers\", \"name\": \"NLD\", \"showlegend\": true, \"subplot\": \"mapbox\", \"type\": \"scattermapbox\"}, {\"hovertemplate\": \"<b>%{hovertext}</b><br><br>iso_alpha=NOR<br>gdpPercap=%{marker.size}<br>Latitude (average)=%{lat}<br>Longitude (average)=%{lon}<extra></extra>\", \"hovertext\": [\"Norway\"], \"lat\": [62.0], \"legendgroup\": \"NOR\", \"lon\": [10.0], \"marker\": {\"color\": \"#FF97FF\", \"size\": [13421.947245083496], \"sizemode\": \"area\", \"sizeref\": 14.91327471675944}, \"mode\": \"markers\", \"name\": \"NOR\", \"showlegend\": true, \"subplot\": \"mapbox\", \"type\": \"scattermapbox\"}, {\"hovertemplate\": \"<b>%{hovertext}</b><br><br>iso_alpha=POL<br>gdpPercap=%{marker.size}<br>Latitude (average)=%{lat}<br>Longitude (average)=%{lon}<extra></extra>\", \"hovertext\": [\"Poland\"], \"lat\": [52.0], \"legendgroup\": \"POL\", \"lon\": [20.0], \"marker\": {\"color\": \"#FECB52\", \"size\": [3198.3512045852826], \"sizemode\": \"area\", \"sizeref\": 14.91327471675944}, \"mode\": \"markers\", \"name\": \"POL\", \"showlegend\": true, \"subplot\": \"mapbox\", \"type\": \"scattermapbox\"}, {\"hovertemplate\": \"<b>%{hovertext}</b><br><br>iso_alpha=PRT<br>gdpPercap=%{marker.size}<br>Latitude (average)=%{lat}<br>Longitude (average)=%{lon}<extra></extra>\", \"hovertext\": [\"Portugal\"], \"lat\": [39.5], \"legendgroup\": \"PRT\", \"lon\": [-8.0], \"marker\": {\"color\": \"#636efa\", \"size\": [6222.544893656536], \"sizemode\": \"area\", \"sizeref\": 14.91327471675944}, \"mode\": \"markers\", \"name\": \"PRT\", \"showlegend\": true, \"subplot\": \"mapbox\", \"type\": \"scattermapbox\"}, {\"hovertemplate\": \"<b>%{hovertext}</b><br><br>iso_alpha=ROU<br>gdpPercap=%{marker.size}<br>Latitude (average)=%{lat}<br>Longitude (average)=%{lon}<extra></extra>\", \"hovertext\": [\"Romania\"], \"lat\": [46.0], \"legendgroup\": \"ROU\", \"lon\": [25.0], \"marker\": {\"color\": \"#EF553B\", \"size\": [2425.9735414266147], \"sizemode\": \"area\", \"sizeref\": 14.91327471675944}, \"mode\": \"markers\", \"name\": \"ROU\", \"showlegend\": true, \"subplot\": \"mapbox\", \"type\": \"scattermapbox\"}, {\"hovertemplate\": \"<b>%{hovertext}</b><br><br>iso_alpha=SRB<br>gdpPercap=%{marker.size}<br>Latitude (average)=%{lat}<br>Longitude (average)=%{lon}<extra></extra>\", \"hovertext\": [\"Serbia\"], \"lat\": [44.0], \"legendgroup\": \"SRB\", \"lon\": [21.0], \"marker\": {\"color\": \"#00cc96\", \"size\": [3829.9068362833264], \"sizemode\": \"area\", \"sizeref\": 14.91327471675944}, \"mode\": \"markers\", \"name\": \"SRB\", \"showlegend\": true, \"subplot\": \"mapbox\", \"type\": \"scattermapbox\"}, {\"hovertemplate\": \"<b>%{hovertext}</b><br><br>iso_alpha=SVK<br>gdpPercap=%{marker.size}<br>Latitude (average)=%{lat}<br>Longitude (average)=%{lon}<extra></extra>\", \"hovertext\": [\"Slovak Republic\"], \"lat\": [48.6667], \"legendgroup\": \"SVK\", \"lon\": [19.5], \"marker\": {\"color\": \"#ab63fa\", \"size\": [3650.2308262197657], \"sizemode\": \"area\", \"sizeref\": 14.91327471675944}, \"mode\": \"markers\", \"name\": \"SVK\", \"showlegend\": true, \"subplot\": \"mapbox\", \"type\": \"scattermapbox\"}, {\"hovertemplate\": \"<b>%{hovertext}</b><br><br>iso_alpha=SVN<br>gdpPercap=%{marker.size}<br>Latitude (average)=%{lat}<br>Longitude (average)=%{lon}<extra></extra>\", \"hovertext\": [\"Slovenia\"], \"lat\": [46.0], \"legendgroup\": \"SVN\", \"lon\": [15.0], \"marker\": {\"color\": \"#FFA15A\", \"size\": [6470.288209477645], \"sizemode\": \"area\", \"sizeref\": 14.91327471675944}, \"mode\": \"markers\", \"name\": \"SVN\", \"showlegend\": true, \"subplot\": \"mapbox\", \"type\": \"scattermapbox\"}, {\"hovertemplate\": \"<b>%{hovertext}</b><br><br>iso_alpha=ESP<br>gdpPercap=%{marker.size}<br>Latitude (average)=%{lat}<br>Longitude (average)=%{lon}<extra></extra>\", \"hovertext\": [\"Spain\"], \"lat\": [40.0], \"legendgroup\": \"ESP\", \"lon\": [-4.0], \"marker\": {\"color\": \"#19d3f3\", \"size\": [8046.634571300094], \"sizemode\": \"area\", \"sizeref\": 14.91327471675944}, \"mode\": \"markers\", \"name\": \"ESP\", \"showlegend\": true, \"subplot\": \"mapbox\", \"type\": \"scattermapbox\"}, {\"hovertemplate\": \"<b>%{hovertext}</b><br><br>iso_alpha=SWE<br>gdpPercap=%{marker.size}<br>Latitude (average)=%{lat}<br>Longitude (average)=%{lon}<extra></extra>\", \"hovertext\": [\"Sweden\"], \"lat\": [62.0], \"legendgroup\": \"SWE\", \"lon\": [15.0], \"marker\": {\"color\": \"#FF6692\", \"size\": [7723.247842796874], \"sizemode\": \"area\", \"sizeref\": 14.91327471675944}, \"mode\": \"markers\", \"name\": \"SWE\", \"showlegend\": true, \"subplot\": \"mapbox\", \"type\": \"scattermapbox\"}, {\"hovertemplate\": \"<b>%{hovertext}</b><br><br>iso_alpha=CHE<br>gdpPercap=%{marker.size}<br>Latitude (average)=%{lat}<br>Longitude (average)=%{lon}<extra></extra>\", \"hovertext\": [\"Switzerland\"], \"lat\": [47.0], \"legendgroup\": \"CHE\", \"lon\": [8.0], \"marker\": {\"color\": \"#B6E880\", \"size\": [6886.463308080273], \"sizemode\": \"area\", \"sizeref\": 14.91327471675944}, \"mode\": \"markers\", \"name\": \"CHE\", \"showlegend\": true, \"subplot\": \"mapbox\", \"type\": \"scattermapbox\"}, {\"hovertemplate\": \"<b>%{hovertext}</b><br><br>iso_alpha=TUR<br>gdpPercap=%{marker.size}<br>Latitude (average)=%{lat}<br>Longitude (average)=%{lon}<extra></extra>\", \"hovertext\": [\"Turkey\"], \"lat\": [39.0], \"legendgroup\": \"TUR\", \"lon\": [35.0], \"marker\": {\"color\": \"#FF97FF\", \"size\": [2049.665101880844], \"sizemode\": \"area\", \"sizeref\": 14.91327471675944}, \"mode\": \"markers\", \"name\": \"TUR\", \"showlegend\": true, \"subplot\": \"mapbox\", \"type\": \"scattermapbox\"}, {\"hovertemplate\": \"<b>%{hovertext}</b><br><br>iso_alpha=GBR<br>gdpPercap=%{marker.size}<br>Latitude (average)=%{lat}<br>Longitude (average)=%{lon}<extra></extra>\", \"hovertext\": [\"United Kingdom\"], \"lat\": [54.0], \"legendgroup\": \"GBR\", \"lon\": [-2.0], \"marker\": {\"color\": \"#FECB52\", \"size\": [7388.189398602921], \"sizemode\": \"area\", \"sizeref\": 14.91327471675944}, \"mode\": \"markers\", \"name\": \"GBR\", \"showlegend\": true, \"subplot\": \"mapbox\", \"type\": \"scattermapbox\"}],                        {\"height\": 1000, \"legend\": {\"itemsizing\": \"constant\", \"title\": {\"text\": \"iso_alpha\"}, \"tracegroupgap\": 0}, \"mapbox\": {\"center\": {\"lat\": 31.03769761904762, \"lon\": -10.121033333333333}, \"domain\": {\"x\": [0.0, 1.0], \"y\": [0.0, 1.0]}, \"style\": \"open-street-map\", \"zoom\": 2}, \"template\": {\"data\": {\"bar\": [{\"error_x\": {\"color\": \"#2a3f5f\"}, \"error_y\": {\"color\": \"#2a3f5f\"}, \"marker\": {\"line\": {\"color\": \"#E5ECF6\", \"width\": 0.5}}, \"type\": \"bar\"}], \"barpolar\": [{\"marker\": {\"line\": {\"color\": \"#E5ECF6\", \"width\": 0.5}}, \"type\": \"barpolar\"}], \"carpet\": [{\"aaxis\": {\"endlinecolor\": \"#2a3f5f\", \"gridcolor\": \"white\", \"linecolor\": \"white\", \"minorgridcolor\": \"white\", \"startlinecolor\": \"#2a3f5f\"}, \"baxis\": {\"endlinecolor\": \"#2a3f5f\", \"gridcolor\": \"white\", \"linecolor\": \"white\", \"minorgridcolor\": \"white\", \"startlinecolor\": \"#2a3f5f\"}, \"type\": \"carpet\"}], \"choropleth\": [{\"colorbar\": {\"outlinewidth\": 0, \"ticks\": \"\"}, \"type\": \"choropleth\"}], \"contour\": [{\"colorbar\": {\"outlinewidth\": 0, \"ticks\": \"\"}, \"colorscale\": [[0.0, \"#0d0887\"], [0.1111111111111111, \"#46039f\"], [0.2222222222222222, \"#7201a8\"], [0.3333333333333333, \"#9c179e\"], [0.4444444444444444, \"#bd3786\"], [0.5555555555555556, \"#d8576b\"], [0.6666666666666666, \"#ed7953\"], [0.7777777777777778, \"#fb9f3a\"], [0.8888888888888888, \"#fdca26\"], [1.0, \"#f0f921\"]], \"type\": \"contour\"}], \"contourcarpet\": [{\"colorbar\": {\"outlinewidth\": 0, \"ticks\": \"\"}, \"type\": \"contourcarpet\"}], \"heatmap\": [{\"colorbar\": {\"outlinewidth\": 0, \"ticks\": \"\"}, \"colorscale\": [[0.0, \"#0d0887\"], [0.1111111111111111, \"#46039f\"], [0.2222222222222222, \"#7201a8\"], [0.3333333333333333, \"#9c179e\"], [0.4444444444444444, \"#bd3786\"], [0.5555555555555556, \"#d8576b\"], [0.6666666666666666, \"#ed7953\"], [0.7777777777777778, \"#fb9f3a\"], [0.8888888888888888, \"#fdca26\"], [1.0, \"#f0f921\"]], \"type\": \"heatmap\"}], \"heatmapgl\": [{\"colorbar\": {\"outlinewidth\": 0, \"ticks\": \"\"}, \"colorscale\": [[0.0, \"#0d0887\"], [0.1111111111111111, \"#46039f\"], [0.2222222222222222, \"#7201a8\"], [0.3333333333333333, \"#9c179e\"], [0.4444444444444444, \"#bd3786\"], [0.5555555555555556, \"#d8576b\"], [0.6666666666666666, \"#ed7953\"], [0.7777777777777778, \"#fb9f3a\"], [0.8888888888888888, \"#fdca26\"], [1.0, \"#f0f921\"]], \"type\": \"heatmapgl\"}], \"histogram\": [{\"marker\": {\"colorbar\": {\"outlinewidth\": 0, \"ticks\": \"\"}}, \"type\": \"histogram\"}], \"histogram2d\": [{\"colorbar\": {\"outlinewidth\": 0, \"ticks\": \"\"}, \"colorscale\": [[0.0, \"#0d0887\"], [0.1111111111111111, \"#46039f\"], [0.2222222222222222, \"#7201a8\"], [0.3333333333333333, \"#9c179e\"], [0.4444444444444444, \"#bd3786\"], [0.5555555555555556, \"#d8576b\"], [0.6666666666666666, \"#ed7953\"], [0.7777777777777778, \"#fb9f3a\"], [0.8888888888888888, \"#fdca26\"], [1.0, \"#f0f921\"]], \"type\": \"histogram2d\"}], \"histogram2dcontour\": [{\"colorbar\": {\"outlinewidth\": 0, \"ticks\": \"\"}, \"colorscale\": [[0.0, \"#0d0887\"], [0.1111111111111111, \"#46039f\"], [0.2222222222222222, \"#7201a8\"], [0.3333333333333333, \"#9c179e\"], [0.4444444444444444, \"#bd3786\"], [0.5555555555555556, \"#d8576b\"], [0.6666666666666666, \"#ed7953\"], [0.7777777777777778, \"#fb9f3a\"], [0.8888888888888888, \"#fdca26\"], [1.0, \"#f0f921\"]], \"type\": \"histogram2dcontour\"}], \"mesh3d\": [{\"colorbar\": {\"outlinewidth\": 0, \"ticks\": \"\"}, \"type\": \"mesh3d\"}], \"parcoords\": [{\"line\": {\"colorbar\": {\"outlinewidth\": 0, \"ticks\": \"\"}}, \"type\": \"parcoords\"}], \"pie\": [{\"automargin\": true, \"type\": \"pie\"}], \"scatter\": [{\"marker\": {\"colorbar\": {\"outlinewidth\": 0, \"ticks\": \"\"}}, \"type\": \"scatter\"}], \"scatter3d\": [{\"line\": {\"colorbar\": {\"outlinewidth\": 0, \"ticks\": \"\"}}, \"marker\": {\"colorbar\": {\"outlinewidth\": 0, \"ticks\": \"\"}}, \"type\": \"scatter3d\"}], \"scattercarpet\": [{\"marker\": {\"colorbar\": {\"outlinewidth\": 0, \"ticks\": \"\"}}, \"type\": \"scattercarpet\"}], \"scattergeo\": [{\"marker\": {\"colorbar\": {\"outlinewidth\": 0, \"ticks\": \"\"}}, \"type\": \"scattergeo\"}], \"scattergl\": [{\"marker\": {\"colorbar\": {\"outlinewidth\": 0, \"ticks\": \"\"}}, \"type\": \"scattergl\"}], \"scattermapbox\": [{\"marker\": {\"colorbar\": {\"outlinewidth\": 0, \"ticks\": \"\"}}, \"type\": \"scattermapbox\"}], \"scatterpolar\": [{\"marker\": {\"colorbar\": {\"outlinewidth\": 0, \"ticks\": \"\"}}, \"type\": \"scatterpolar\"}], \"scatterpolargl\": [{\"marker\": {\"colorbar\": {\"outlinewidth\": 0, \"ticks\": \"\"}}, \"type\": \"scatterpolargl\"}], \"scatterternary\": [{\"marker\": {\"colorbar\": {\"outlinewidth\": 0, \"ticks\": \"\"}}, \"type\": \"scatterternary\"}], \"surface\": [{\"colorbar\": {\"outlinewidth\": 0, \"ticks\": \"\"}, \"colorscale\": [[0.0, \"#0d0887\"], [0.1111111111111111, \"#46039f\"], [0.2222222222222222, \"#7201a8\"], [0.3333333333333333, \"#9c179e\"], [0.4444444444444444, \"#bd3786\"], [0.5555555555555556, \"#d8576b\"], [0.6666666666666666, \"#ed7953\"], [0.7777777777777778, \"#fb9f3a\"], [0.8888888888888888, \"#fdca26\"], [1.0, \"#f0f921\"]], \"type\": \"surface\"}], \"table\": [{\"cells\": {\"fill\": {\"color\": \"#EBF0F8\"}, \"line\": {\"color\": \"white\"}}, \"header\": {\"fill\": {\"color\": \"#C8D4E3\"}, \"line\": {\"color\": \"white\"}}, \"type\": \"table\"}]}, \"layout\": {\"annotationdefaults\": {\"arrowcolor\": \"#2a3f5f\", \"arrowhead\": 0, \"arrowwidth\": 1}, \"autotypenumbers\": \"strict\", \"coloraxis\": {\"colorbar\": {\"outlinewidth\": 0, \"ticks\": \"\"}}, \"colorscale\": {\"diverging\": [[0, \"#8e0152\"], [0.1, \"#c51b7d\"], [0.2, \"#de77ae\"], [0.3, \"#f1b6da\"], [0.4, \"#fde0ef\"], [0.5, \"#f7f7f7\"], [0.6, \"#e6f5d0\"], [0.7, \"#b8e186\"], [0.8, \"#7fbc41\"], [0.9, \"#4d9221\"], [1, \"#276419\"]], \"sequential\": [[0.0, \"#0d0887\"], [0.1111111111111111, \"#46039f\"], [0.2222222222222222, \"#7201a8\"], [0.3333333333333333, \"#9c179e\"], [0.4444444444444444, \"#bd3786\"], [0.5555555555555556, \"#d8576b\"], [0.6666666666666666, \"#ed7953\"], [0.7777777777777778, \"#fb9f3a\"], [0.8888888888888888, \"#fdca26\"], [1.0, \"#f0f921\"]], \"sequentialminus\": [[0.0, \"#0d0887\"], [0.1111111111111111, \"#46039f\"], [0.2222222222222222, \"#7201a8\"], [0.3333333333333333, \"#9c179e\"], [0.4444444444444444, \"#bd3786\"], [0.5555555555555556, \"#d8576b\"], [0.6666666666666666, \"#ed7953\"], [0.7777777777777778, \"#fb9f3a\"], [0.8888888888888888, \"#fdca26\"], [1.0, \"#f0f921\"]]}, \"colorway\": [\"#636efa\", \"#EF553B\", \"#00cc96\", \"#ab63fa\", \"#FFA15A\", \"#19d3f3\", \"#FF6692\", \"#B6E880\", \"#FF97FF\", \"#FECB52\"], \"font\": {\"color\": \"#2a3f5f\"}, \"geo\": {\"bgcolor\": \"white\", \"lakecolor\": \"white\", \"landcolor\": \"#E5ECF6\", \"showlakes\": true, \"showland\": true, \"subunitcolor\": \"white\"}, \"hoverlabel\": {\"align\": \"left\"}, \"hovermode\": \"closest\", \"mapbox\": {\"style\": \"light\"}, \"paper_bgcolor\": \"white\", \"plot_bgcolor\": \"#E5ECF6\", \"polar\": {\"angularaxis\": {\"gridcolor\": \"white\", \"linecolor\": \"white\", \"ticks\": \"\"}, \"bgcolor\": \"#E5ECF6\", \"radialaxis\": {\"gridcolor\": \"white\", \"linecolor\": \"white\", \"ticks\": \"\"}}, \"scene\": {\"xaxis\": {\"backgroundcolor\": \"#E5ECF6\", \"gridcolor\": \"white\", \"gridwidth\": 2, \"linecolor\": \"white\", \"showbackground\": true, \"ticks\": \"\", \"zerolinecolor\": \"white\"}, \"yaxis\": {\"backgroundcolor\": \"#E5ECF6\", \"gridcolor\": \"white\", \"gridwidth\": 2, \"linecolor\": \"white\", \"showbackground\": true, \"ticks\": \"\", \"zerolinecolor\": \"white\"}, \"zaxis\": {\"backgroundcolor\": \"#E5ECF6\", \"gridcolor\": \"white\", \"gridwidth\": 2, \"linecolor\": \"white\", \"showbackground\": true, \"ticks\": \"\", \"zerolinecolor\": \"white\"}}, \"shapedefaults\": {\"line\": {\"color\": \"#2a3f5f\"}}, \"ternary\": {\"aaxis\": {\"gridcolor\": \"white\", \"linecolor\": \"white\", \"ticks\": \"\"}, \"baxis\": {\"gridcolor\": \"white\", \"linecolor\": \"white\", \"ticks\": \"\"}, \"bgcolor\": \"#E5ECF6\", \"caxis\": {\"gridcolor\": \"white\", \"linecolor\": \"white\", \"ticks\": \"\"}}, \"title\": {\"x\": 0.05}, \"xaxis\": {\"automargin\": true, \"gridcolor\": \"white\", \"linecolor\": \"white\", \"ticks\": \"\", \"title\": {\"standoff\": 15}, \"zerolinecolor\": \"white\", \"zerolinewidth\": 2}, \"yaxis\": {\"automargin\": true, \"gridcolor\": \"white\", \"linecolor\": \"white\", \"ticks\": \"\", \"title\": {\"standoff\": 15}, \"zerolinecolor\": \"white\", \"zerolinewidth\": 2}}}, \"title\": {\"text\": \"Deviation of European and South America GDP per Capita\"}},                        {\"responsive\": true}                    ).then(function(){\n",
       "                            \n",
       "var gd = document.getElementById('7f4201e2-2bb2-4019-bde5-3b632af80051');\n",
       "var x = new MutationObserver(function (mutations, observer) {{\n",
       "        var display = window.getComputedStyle(gd).display;\n",
       "        if (!display || display === 'none') {{\n",
       "            console.log([gd, 'removed!']);\n",
       "            Plotly.purge(gd);\n",
       "            observer.disconnect();\n",
       "        }}\n",
       "}});\n",
       "\n",
       "// Listen for the removal of the full notebook cells\n",
       "var notebookContainer = gd.closest('#notebook-container');\n",
       "if (notebookContainer) {{\n",
       "    x.observe(notebookContainer, {childList: true});\n",
       "}}\n",
       "\n",
       "// Listen for the clearing of the current output cell\n",
       "var outputEl = gd.closest('.output');\n",
       "if (outputEl) {{\n",
       "    x.observe(outputEl, {childList: true});\n",
       "}}\n",
       "\n",
       "                        })                };                });            </script>        </div>"
      ]
     },
     "metadata": {},
     "output_type": "display_data"
    }
   ],
   "source": [
    "fig = px.scatter_mapbox(\n",
    "    deviation_gps, \n",
    "    lat=\"Latitude (average)\", \n",
    "    lon=\"Longitude (average)\", \n",
    "    color=\"iso_alpha\", \n",
    "    size='gdpPercap',\n",
    "    size_max = 30,\n",
    "    zoom=2, \n",
    "    hover_name ='country', \n",
    "    mapbox_style='open-street-map',\n",
    "    height = 1000,\n",
    "    title = 'Deviation of European and South America GDP per Capita'\n",
    ")\n",
    "fig.show()"
   ]
  },
  {
   "cell_type": "markdown",
   "metadata": {},
   "source": [
    "### Question #3\n",
    "3. The change in population of each African country in the last 3 decades."
   ]
  },
  {
   "cell_type": "code",
   "execution_count": 97,
   "metadata": {
    "scrolled": true
   },
   "outputs": [
    {
     "name": "stdout",
     "output_type": "stream",
     "text": [
      "<class 'pandas.core.frame.DataFrame'>\n",
      "RangeIndex: 1704 entries, 0 to 1703\n",
      "Data columns (total 8 columns):\n",
      " #   Column     Non-Null Count  Dtype  \n",
      "---  ------     --------------  -----  \n",
      " 0   country    1704 non-null   object \n",
      " 1   continent  1704 non-null   object \n",
      " 2   year       1704 non-null   int64  \n",
      " 3   lifeExp    1704 non-null   float64\n",
      " 4   pop        1704 non-null   int64  \n",
      " 5   gdpPercap  1704 non-null   float64\n",
      " 6   iso_alpha  1704 non-null   object \n",
      " 7   iso_num    1704 non-null   int64  \n",
      "dtypes: float64(2), int64(3), object(3)\n",
      "memory usage: 106.6+ KB\n"
     ]
    }
   ],
   "source": [
    "df.info()"
   ]
  },
  {
   "cell_type": "code",
   "execution_count": 98,
   "metadata": {},
   "outputs": [
    {
     "data": {
      "text/plain": [
       "2007"
      ]
     },
     "execution_count": 98,
     "metadata": {},
     "output_type": "execute_result"
    }
   ],
   "source": [
    "last_3decades_min = df['year'].max()-30\n",
    "max_year = df['year'].max()\n",
    "\n",
    "last_3decades_min\n",
    "max_year"
   ]
  },
  {
   "cell_type": "code",
   "execution_count": 99,
   "metadata": {
    "scrolled": true
   },
   "outputs": [],
   "source": [
    "pop_min = df[(df['continent'] == 'Africa') & (df['year'] >= last_3decades_min)].groupby(['country','iso_alpha']).min('year').reset_index()\n",
    "pop_max = df[(df['continent'] == 'Africa') & (df['year'] >= last_3decades_min)].groupby(['country','iso_alpha']).max('year').reset_index()"
   ]
  },
  {
   "cell_type": "code",
   "execution_count": 100,
   "metadata": {},
   "outputs": [
    {
     "data": {
      "text/html": [
       "<div>\n",
       "<style scoped>\n",
       "    .dataframe tbody tr th:only-of-type {\n",
       "        vertical-align: middle;\n",
       "    }\n",
       "\n",
       "    .dataframe tbody tr th {\n",
       "        vertical-align: top;\n",
       "    }\n",
       "\n",
       "    .dataframe thead th {\n",
       "        text-align: right;\n",
       "    }\n",
       "</style>\n",
       "<table border=\"1\" class=\"dataframe\">\n",
       "  <thead>\n",
       "    <tr style=\"text-align: right;\">\n",
       "      <th></th>\n",
       "      <th>country</th>\n",
       "      <th>iso_alpha</th>\n",
       "      <th>year</th>\n",
       "      <th>lifeExp</th>\n",
       "      <th>pop</th>\n",
       "      <th>gdpPercap</th>\n",
       "      <th>iso_num</th>\n",
       "      <th>increase</th>\n",
       "    </tr>\n",
       "  </thead>\n",
       "  <tbody>\n",
       "    <tr>\n",
       "      <th>0</th>\n",
       "      <td>Algeria</td>\n",
       "      <td>DZA</td>\n",
       "      <td>2007</td>\n",
       "      <td>72.301</td>\n",
       "      <td>33333216</td>\n",
       "      <td>6223.367465</td>\n",
       "      <td>12</td>\n",
       "      <td>94.331003</td>\n",
       "    </tr>\n",
       "    <tr>\n",
       "      <th>1</th>\n",
       "      <td>Angola</td>\n",
       "      <td>AGO</td>\n",
       "      <td>2007</td>\n",
       "      <td>42.731</td>\n",
       "      <td>12420476</td>\n",
       "      <td>4797.231267</td>\n",
       "      <td>24</td>\n",
       "      <td>101.543583</td>\n",
       "    </tr>\n",
       "    <tr>\n",
       "      <th>2</th>\n",
       "      <td>Benin</td>\n",
       "      <td>BEN</td>\n",
       "      <td>2007</td>\n",
       "      <td>56.728</td>\n",
       "      <td>8078314</td>\n",
       "      <td>1441.284873</td>\n",
       "      <td>204</td>\n",
       "      <td>154.975796</td>\n",
       "    </tr>\n",
       "    <tr>\n",
       "      <th>3</th>\n",
       "      <td>Botswana</td>\n",
       "      <td>BWA</td>\n",
       "      <td>2007</td>\n",
       "      <td>63.622</td>\n",
       "      <td>1639131</td>\n",
       "      <td>12569.851770</td>\n",
       "      <td>72</td>\n",
       "      <td>109.749166</td>\n",
       "    </tr>\n",
       "    <tr>\n",
       "      <th>4</th>\n",
       "      <td>Burkina Faso</td>\n",
       "      <td>BFA</td>\n",
       "      <td>2007</td>\n",
       "      <td>52.295</td>\n",
       "      <td>14326203</td>\n",
       "      <td>1217.032994</td>\n",
       "      <td>854</td>\n",
       "      <td>143.246846</td>\n",
       "    </tr>\n",
       "  </tbody>\n",
       "</table>\n",
       "</div>"
      ],
      "text/plain": [
       "        country iso_alpha  year  lifeExp       pop     gdpPercap  iso_num  \\\n",
       "0       Algeria       DZA  2007   72.301  33333216   6223.367465       12   \n",
       "1        Angola       AGO  2007   42.731  12420476   4797.231267       24   \n",
       "2         Benin       BEN  2007   56.728   8078314   1441.284873      204   \n",
       "3      Botswana       BWA  2007   63.622   1639131  12569.851770       72   \n",
       "4  Burkina Faso       BFA  2007   52.295  14326203   1217.032994      854   \n",
       "\n",
       "     increase  \n",
       "0   94.331003  \n",
       "1  101.543583  \n",
       "2  154.975796  \n",
       "3  109.749166  \n",
       "4  143.246846  "
      ]
     },
     "execution_count": 100,
     "metadata": {},
     "output_type": "execute_result"
    }
   ],
   "source": [
    "pop_max['increase'] = (pop_max['pop']-pop_min['pop'])/pop_min['pop']*100\n",
    "pop_max.head()"
   ]
  },
  {
   "cell_type": "code",
   "execution_count": 101,
   "metadata": {},
   "outputs": [],
   "source": [
    "pop_max = pop_max.merge(gps, how = 'left', on = 'iso_alpha')"
   ]
  },
  {
   "cell_type": "code",
   "execution_count": 102,
   "metadata": {
    "scrolled": false
   },
   "outputs": [
    {
     "data": {
      "application/vnd.plotly.v1+json": {
       "config": {
        "plotlyServerURL": "https://plot.ly"
       },
       "data": [
        {
         "hovertemplate": "<b>%{hovertext}</b><br><br>iso_alpha=DZA<br>increase=%{marker.size}<br>Latitude (average)=%{lat}<br>Longitude (average)=%{lon}<extra></extra>",
         "hovertext": [
          "Algeria"
         ],
         "lat": [
          28
         ],
         "legendgroup": "DZA",
         "lon": [
          3
         ],
         "marker": {
          "color": "#636efa",
          "size": [
           94.33100267454813
          ],
          "sizemode": "area",
          "sizeref": 0.20675345645372892
         },
         "mode": "markers",
         "name": "DZA",
         "showlegend": true,
         "subplot": "mapbox",
         "type": "scattermapbox"
        },
        {
         "hovertemplate": "<b>%{hovertext}</b><br><br>iso_alpha=AGO<br>increase=%{marker.size}<br>Latitude (average)=%{lat}<br>Longitude (average)=%{lon}<extra></extra>",
         "hovertext": [
          "Angola"
         ],
         "lat": [
          -12.5
         ],
         "legendgroup": "AGO",
         "lon": [
          18.5
         ],
         "marker": {
          "color": "#EF553B",
          "size": [
           101.54358294084955
          ],
          "sizemode": "area",
          "sizeref": 0.20675345645372892
         },
         "mode": "markers",
         "name": "AGO",
         "showlegend": true,
         "subplot": "mapbox",
         "type": "scattermapbox"
        },
        {
         "hovertemplate": "<b>%{hovertext}</b><br><br>iso_alpha=BEN<br>increase=%{marker.size}<br>Latitude (average)=%{lat}<br>Longitude (average)=%{lon}<extra></extra>",
         "hovertext": [
          "Benin"
         ],
         "lat": [
          9.5
         ],
         "legendgroup": "BEN",
         "lon": [
          2.25
         ],
         "marker": {
          "color": "#00cc96",
          "size": [
           154.97579591619015
          ],
          "sizemode": "area",
          "sizeref": 0.20675345645372892
         },
         "mode": "markers",
         "name": "BEN",
         "showlegend": true,
         "subplot": "mapbox",
         "type": "scattermapbox"
        },
        {
         "hovertemplate": "<b>%{hovertext}</b><br><br>iso_alpha=BWA<br>increase=%{marker.size}<br>Latitude (average)=%{lat}<br>Longitude (average)=%{lon}<extra></extra>",
         "hovertext": [
          "Botswana"
         ],
         "lat": [
          -22
         ],
         "legendgroup": "BWA",
         "lon": [
          24
         ],
         "marker": {
          "color": "#ab63fa",
          "size": [
           109.7491656770812
          ],
          "sizemode": "area",
          "sizeref": 0.20675345645372892
         },
         "mode": "markers",
         "name": "BWA",
         "showlegend": true,
         "subplot": "mapbox",
         "type": "scattermapbox"
        },
        {
         "hovertemplate": "<b>%{hovertext}</b><br><br>iso_alpha=BFA<br>increase=%{marker.size}<br>Latitude (average)=%{lat}<br>Longitude (average)=%{lon}<extra></extra>",
         "hovertext": [
          "Burkina Faso"
         ],
         "lat": [
          13
         ],
         "legendgroup": "BFA",
         "lon": [
          -2
         ],
         "marker": {
          "color": "#FFA15A",
          "size": [
           143.24684603674223
          ],
          "sizemode": "area",
          "sizeref": 0.20675345645372892
         },
         "mode": "markers",
         "name": "BFA",
         "showlegend": true,
         "subplot": "mapbox",
         "type": "scattermapbox"
        },
        {
         "hovertemplate": "<b>%{hovertext}</b><br><br>iso_alpha=BDI<br>increase=%{marker.size}<br>Latitude (average)=%{lat}<br>Longitude (average)=%{lon}<extra></extra>",
         "hovertext": [
          "Burundi"
         ],
         "lat": [
          -3.5
         ],
         "legendgroup": "BDI",
         "lon": [
          30
         ],
         "marker": {
          "color": "#19d3f3",
          "size": [
           118.82099355442747
          ],
          "sizemode": "area",
          "sizeref": 0.20675345645372892
         },
         "mode": "markers",
         "name": "BDI",
         "showlegend": true,
         "subplot": "mapbox",
         "type": "scattermapbox"
        },
        {
         "hovertemplate": "<b>%{hovertext}</b><br><br>iso_alpha=CMR<br>increase=%{marker.size}<br>Latitude (average)=%{lat}<br>Longitude (average)=%{lon}<extra></extra>",
         "hovertext": [
          "Cameroon"
         ],
         "lat": [
          6
         ],
         "legendgroup": "CMR",
         "lon": [
          12
         ],
         "marker": {
          "color": "#FF6692",
          "size": [
           122.31900917917578
          ],
          "sizemode": "area",
          "sizeref": 0.20675345645372892
         },
         "mode": "markers",
         "name": "CMR",
         "showlegend": true,
         "subplot": "mapbox",
         "type": "scattermapbox"
        },
        {
         "hovertemplate": "<b>%{hovertext}</b><br><br>iso_alpha=CAF<br>increase=%{marker.size}<br>Latitude (average)=%{lat}<br>Longitude (average)=%{lon}<extra></extra>",
         "hovertext": [
          "Central African Republic"
         ],
         "lat": [
          7
         ],
         "legendgroup": "CAF",
         "lon": [
          21
         ],
         "marker": {
          "color": "#B6E880",
          "size": [
           101.56731177795217
          ],
          "sizemode": "area",
          "sizeref": 0.20675345645372892
         },
         "mode": "markers",
         "name": "CAF",
         "showlegend": true,
         "subplot": "mapbox",
         "type": "scattermapbox"
        },
        {
         "hovertemplate": "<b>%{hovertext}</b><br><br>iso_alpha=TCD<br>increase=%{marker.size}<br>Latitude (average)=%{lat}<br>Longitude (average)=%{lon}<extra></extra>",
         "hovertext": [
          "Chad"
         ],
         "lat": [
          15
         ],
         "legendgroup": "TCD",
         "lon": [
          19
         ],
         "marker": {
          "color": "#FF97FF",
          "size": [
           133.32270649414573
          ],
          "sizemode": "area",
          "sizeref": 0.20675345645372892
         },
         "mode": "markers",
         "name": "TCD",
         "showlegend": true,
         "subplot": "mapbox",
         "type": "scattermapbox"
        },
        {
         "hovertemplate": "<b>%{hovertext}</b><br><br>iso_alpha=COM<br>increase=%{marker.size}<br>Latitude (average)=%{lat}<br>Longitude (average)=%{lon}<extra></extra>",
         "hovertext": [
          "Comoros"
         ],
         "lat": [
          -12.1667
         ],
         "legendgroup": "COM",
         "lon": [
          44.25
         ],
         "marker": {
          "color": "#FECB52",
          "size": [
           133.30128404962934
          ],
          "sizemode": "area",
          "sizeref": 0.20675345645372892
         },
         "mode": "markers",
         "name": "COM",
         "showlegend": true,
         "subplot": "mapbox",
         "type": "scattermapbox"
        },
        {
         "hovertemplate": "<b>%{hovertext}</b><br><br>iso_alpha=COD<br>increase=%{marker.size}<br>Latitude (average)=%{lat}<br>Longitude (average)=%{lon}<extra></extra>",
         "hovertext": [
          "Congo, Dem. Rep."
         ],
         "lat": [
          0
         ],
         "legendgroup": "COD",
         "lon": [
          25
         ],
         "marker": {
          "color": "#636efa",
          "size": [
           143.97521305002442
          ],
          "sizemode": "area",
          "sizeref": 0.20675345645372892
         },
         "mode": "markers",
         "name": "COD",
         "showlegend": true,
         "subplot": "mapbox",
         "type": "scattermapbox"
        },
        {
         "hovertemplate": "<b>%{hovertext}</b><br><br>iso_alpha=COG<br>increase=%{marker.size}<br>Latitude (average)=%{lat}<br>Longitude (average)=%{lon}<extra></extra>",
         "hovertext": [
          "Congo, Rep."
         ],
         "lat": [
          -1
         ],
         "legendgroup": "COG",
         "lon": [
          15
         ],
         "marker": {
          "color": "#EF553B",
          "size": [
           147.31172999975922
          ],
          "sizemode": "area",
          "sizeref": 0.20675345645372892
         },
         "mode": "markers",
         "name": "COG",
         "showlegend": true,
         "subplot": "mapbox",
         "type": "scattermapbox"
        },
        {
         "hovertemplate": "<b>%{hovertext}</b><br><br>iso_alpha=CIV<br>increase=%{marker.size}<br>Latitude (average)=%{lat}<br>Longitude (average)=%{lon}<extra></extra>",
         "hovertext": [
          "Cote d'Ivoire",
          "Cote d'Ivoire"
         ],
         "lat": [
          8,
          8
         ],
         "legendgroup": "CIV",
         "lon": [
          -5,
          -5
         ],
         "marker": {
          "color": "#00cc96",
          "size": [
           141.4803982104072,
           141.4803982104072
          ],
          "sizemode": "area",
          "sizeref": 0.20675345645372892
         },
         "mode": "markers",
         "name": "CIV",
         "showlegend": true,
         "subplot": "mapbox",
         "type": "scattermapbox"
        },
        {
         "hovertemplate": "<b>%{hovertext}</b><br><br>iso_alpha=DJI<br>increase=%{marker.size}<br>Latitude (average)=%{lat}<br>Longitude (average)=%{lon}<extra></extra>",
         "hovertext": [
          "Djibouti"
         ],
         "lat": [
          11.5
         ],
         "legendgroup": "DJI",
         "lon": [
          43
         ],
         "marker": {
          "color": "#ab63fa",
          "size": [
           117.04723342107795
          ],
          "sizemode": "area",
          "sizeref": 0.20675345645372892
         },
         "mode": "markers",
         "name": "DJI",
         "showlegend": true,
         "subplot": "mapbox",
         "type": "scattermapbox"
        },
        {
         "hovertemplate": "<b>%{hovertext}</b><br><br>iso_alpha=EGY<br>increase=%{marker.size}<br>Latitude (average)=%{lat}<br>Longitude (average)=%{lon}<extra></extra>",
         "hovertext": [
          "Egypt"
         ],
         "lat": [
          27
         ],
         "legendgroup": "EGY",
         "lon": [
          30
         ],
         "marker": {
          "color": "#FFA15A",
          "size": [
           106.95345123305535
          ],
          "sizemode": "area",
          "sizeref": 0.20675345645372892
         },
         "mode": "markers",
         "name": "EGY",
         "showlegend": true,
         "subplot": "mapbox",
         "type": "scattermapbox"
        },
        {
         "hovertemplate": "<b>%{hovertext}</b><br><br>iso_alpha=GNQ<br>increase=%{marker.size}<br>Latitude (average)=%{lat}<br>Longitude (average)=%{lon}<extra></extra>",
         "hovertext": [
          "Equatorial Guinea"
         ],
         "lat": [
          2
         ],
         "legendgroup": "GNQ",
         "lon": [
          10
         ],
         "marker": {
          "color": "#19d3f3",
          "size": [
           186.07811080835603
          ],
          "sizemode": "area",
          "sizeref": 0.20675345645372892
         },
         "mode": "markers",
         "name": "GNQ",
         "showlegend": true,
         "subplot": "mapbox",
         "type": "scattermapbox"
        },
        {
         "hovertemplate": "<b>%{hovertext}</b><br><br>iso_alpha=ERI<br>increase=%{marker.size}<br>Latitude (average)=%{lat}<br>Longitude (average)=%{lon}<extra></extra>",
         "hovertext": [
          "Eritrea"
         ],
         "lat": [
          15
         ],
         "legendgroup": "ERI",
         "lon": [
          39
         ],
         "marker": {
          "color": "#FF6692",
          "size": [
           95.2759286838316
          ],
          "sizemode": "area",
          "sizeref": 0.20675345645372892
         },
         "mode": "markers",
         "name": "ERI",
         "showlegend": true,
         "subplot": "mapbox",
         "type": "scattermapbox"
        },
        {
         "hovertemplate": "<b>%{hovertext}</b><br><br>iso_alpha=ETH<br>increase=%{marker.size}<br>Latitude (average)=%{lat}<br>Longitude (average)=%{lon}<extra></extra>",
         "hovertext": [
          "Ethiopia"
         ],
         "lat": [
          8
         ],
         "legendgroup": "ETH",
         "lon": [
          38
         ],
         "marker": {
          "color": "#B6E880",
          "size": [
           121.01892439782205
          ],
          "sizemode": "area",
          "sizeref": 0.20675345645372892
         },
         "mode": "markers",
         "name": "ETH",
         "showlegend": true,
         "subplot": "mapbox",
         "type": "scattermapbox"
        },
        {
         "hovertemplate": "<b>%{hovertext}</b><br><br>iso_alpha=GAB<br>increase=%{marker.size}<br>Latitude (average)=%{lat}<br>Longitude (average)=%{lon}<extra></extra>",
         "hovertext": [
          "Gabon"
         ],
         "lat": [
          -1
         ],
         "legendgroup": "GAB",
         "lon": [
          11.75
         ],
         "marker": {
          "color": "#FF97FF",
          "size": [
           105.96474637122061
          ],
          "sizemode": "area",
          "sizeref": 0.20675345645372892
         },
         "mode": "markers",
         "name": "GAB",
         "showlegend": true,
         "subplot": "mapbox",
         "type": "scattermapbox"
        },
        {
         "hovertemplate": "<b>%{hovertext}</b><br><br>iso_alpha=GMB<br>increase=%{marker.size}<br>Latitude (average)=%{lat}<br>Longitude (average)=%{lon}<extra></extra>",
         "hovertext": [
          "Gambia"
         ],
         "lat": [
          13.4667
         ],
         "legendgroup": "GMB",
         "lon": [
          -16.5667
         ],
         "marker": {
          "color": "#FECB52",
          "size": [
           177.56553789903893
          ],
          "sizemode": "area",
          "sizeref": 0.20675345645372892
         },
         "mode": "markers",
         "name": "GMB",
         "showlegend": true,
         "subplot": "mapbox",
         "type": "scattermapbox"
        },
        {
         "hovertemplate": "<b>%{hovertext}</b><br><br>iso_alpha=GHA<br>increase=%{marker.size}<br>Latitude (average)=%{lat}<br>Longitude (average)=%{lon}<extra></extra>",
         "hovertext": [
          "Ghana"
         ],
         "lat": [
          8
         ],
         "legendgroup": "GHA",
         "lon": [
          -2
         ],
         "marker": {
          "color": "#636efa",
          "size": [
           117.05386354058558
          ],
          "sizemode": "area",
          "sizeref": 0.20675345645372892
         },
         "mode": "markers",
         "name": "GHA",
         "showlegend": true,
         "subplot": "mapbox",
         "type": "scattermapbox"
        },
        {
         "hovertemplate": "<b>%{hovertext}</b><br><br>iso_alpha=GIN<br>increase=%{marker.size}<br>Latitude (average)=%{lat}<br>Longitude (average)=%{lon}<extra></extra>",
         "hovertext": [
          "Guinea"
         ],
         "lat": [
          11
         ],
         "legendgroup": "GIN",
         "lon": [
          -10
         ],
         "marker": {
          "color": "#EF553B",
          "size": [
           135.33836792108684
          ],
          "sizemode": "area",
          "sizeref": 0.20675345645372892
         },
         "mode": "markers",
         "name": "GIN",
         "showlegend": true,
         "subplot": "mapbox",
         "type": "scattermapbox"
        },
        {
         "hovertemplate": "<b>%{hovertext}</b><br><br>iso_alpha=GNB<br>increase=%{marker.size}<br>Latitude (average)=%{lat}<br>Longitude (average)=%{lon}<extra></extra>",
         "hovertext": [
          "Guinea-Bissau"
         ],
         "lat": [
          12
         ],
         "legendgroup": "GNB",
         "lon": [
          -15
         ],
         "marker": {
          "color": "#00cc96",
          "size": [
           97.5289441620551
          ],
          "sizemode": "area",
          "sizeref": 0.20675345645372892
         },
         "mode": "markers",
         "name": "GNB",
         "showlegend": true,
         "subplot": "mapbox",
         "type": "scattermapbox"
        },
        {
         "hovertemplate": "<b>%{hovertext}</b><br><br>iso_alpha=KEN<br>increase=%{marker.size}<br>Latitude (average)=%{lat}<br>Longitude (average)=%{lon}<extra></extra>",
         "hovertext": [
          "Kenya"
         ],
         "lat": [
          1
         ],
         "legendgroup": "KEN",
         "lon": [
          38
         ],
         "marker": {
          "color": "#ab63fa",
          "size": [
           145.5805852030054
          ],
          "sizemode": "area",
          "sizeref": 0.20675345645372892
         },
         "mode": "markers",
         "name": "KEN",
         "showlegend": true,
         "subplot": "mapbox",
         "type": "scattermapbox"
        },
        {
         "hovertemplate": "<b>%{hovertext}</b><br><br>iso_alpha=LSO<br>increase=%{marker.size}<br>Latitude (average)=%{lat}<br>Longitude (average)=%{lon}<extra></extra>",
         "hovertext": [
          "Lesotho"
         ],
         "lat": [
          -29.5
         ],
         "legendgroup": "LSO",
         "lon": [
          28.5
         ],
         "marker": {
          "color": "#FFA15A",
          "size": [
           63.5423691435402
          ],
          "sizemode": "area",
          "sizeref": 0.20675345645372892
         },
         "mode": "markers",
         "name": "LSO",
         "showlegend": true,
         "subplot": "mapbox",
         "type": "scattermapbox"
        },
        {
         "hovertemplate": "<b>%{hovertext}</b><br><br>iso_alpha=LBR<br>increase=%{marker.size}<br>Latitude (average)=%{lat}<br>Longitude (average)=%{lon}<extra></extra>",
         "hovertext": [
          "Liberia"
         ],
         "lat": [
          6.5
         ],
         "legendgroup": "LBR",
         "lon": [
          -9.5
         ],
         "marker": {
          "color": "#19d3f3",
          "size": [
           87.48004979992568
          ],
          "sizemode": "area",
          "sizeref": 0.20675345645372892
         },
         "mode": "markers",
         "name": "LBR",
         "showlegend": true,
         "subplot": "mapbox",
         "type": "scattermapbox"
        },
        {
         "hovertemplate": "<b>%{hovertext}</b><br><br>iso_alpha=LBY<br>increase=%{marker.size}<br>Latitude (average)=%{lat}<br>Longitude (average)=%{lon}<extra></extra>",
         "hovertext": [
          "Libya",
          "Libya"
         ],
         "lat": [
          25,
          25
         ],
         "legendgroup": "LBY",
         "lon": [
          17,
          17
         ],
         "marker": {
          "color": "#FF6692",
          "size": [
           121.79997450200844,
           121.79997450200844
          ],
          "sizemode": "area",
          "sizeref": 0.20675345645372892
         },
         "mode": "markers",
         "name": "LBY",
         "showlegend": true,
         "subplot": "mapbox",
         "type": "scattermapbox"
        },
        {
         "hovertemplate": "<b>%{hovertext}</b><br><br>iso_alpha=MDG<br>increase=%{marker.size}<br>Latitude (average)=%{lat}<br>Longitude (average)=%{lon}<extra></extra>",
         "hovertext": [
          "Madagascar"
         ],
         "lat": [
          -20
         ],
         "legendgroup": "MDG",
         "lon": [
          47
         ],
         "marker": {
          "color": "#B6E880",
          "size": [
           139.3812492459879
          ],
          "sizemode": "area",
          "sizeref": 0.20675345645372892
         },
         "mode": "markers",
         "name": "MDG",
         "showlegend": true,
         "subplot": "mapbox",
         "type": "scattermapbox"
        },
        {
         "hovertemplate": "<b>%{hovertext}</b><br><br>iso_alpha=MWI<br>increase=%{marker.size}<br>Latitude (average)=%{lat}<br>Longitude (average)=%{lon}<extra></extra>",
         "hovertext": [
          "Malawi"
         ],
         "lat": [
          -13.5
         ],
         "legendgroup": "MWI",
         "lon": [
          34
         ],
         "marker": {
          "color": "#FF97FF",
          "size": [
           136.41116601971956
          ],
          "sizemode": "area",
          "sizeref": 0.20675345645372892
         },
         "mode": "markers",
         "name": "MWI",
         "showlegend": true,
         "subplot": "mapbox",
         "type": "scattermapbox"
        },
        {
         "hovertemplate": "<b>%{hovertext}</b><br><br>iso_alpha=MLI<br>increase=%{marker.size}<br>Latitude (average)=%{lat}<br>Longitude (average)=%{lon}<extra></extra>",
         "hovertext": [
          "Mali"
         ],
         "lat": [
          17
         ],
         "legendgroup": "MLI",
         "lon": [
          -4
         ],
         "marker": {
          "color": "#FECB52",
          "size": [
           85.34266100955243
          ],
          "sizemode": "area",
          "sizeref": 0.20675345645372892
         },
         "mode": "markers",
         "name": "MLI",
         "showlegend": true,
         "subplot": "mapbox",
         "type": "scattermapbox"
        },
        {
         "hovertemplate": "<b>%{hovertext}</b><br><br>iso_alpha=MRT<br>increase=%{marker.size}<br>Latitude (average)=%{lat}<br>Longitude (average)=%{lon}<extra></extra>",
         "hovertext": [
          "Mauritania"
         ],
         "lat": [
          20
         ],
         "legendgroup": "MRT",
         "lon": [
          -12
         ],
         "marker": {
          "color": "#636efa",
          "size": [
           124.4863004294674
          ],
          "sizemode": "area",
          "sizeref": 0.20675345645372892
         },
         "mode": "markers",
         "name": "MRT",
         "showlegend": true,
         "subplot": "mapbox",
         "type": "scattermapbox"
        },
        {
         "hovertemplate": "<b>%{hovertext}</b><br><br>iso_alpha=MUS<br>increase=%{marker.size}<br>Latitude (average)=%{lat}<br>Longitude (average)=%{lon}<extra></extra>",
         "hovertext": [
          "Mauritius"
         ],
         "lat": [
          -20.2833
         ],
         "legendgroup": "MUS",
         "lon": [
          57.55
         ],
         "marker": {
          "color": "#EF553B",
          "size": [
           37.00413460748611
          ],
          "sizemode": "area",
          "sizeref": 0.20675345645372892
         },
         "mode": "markers",
         "name": "MUS",
         "showlegend": true,
         "subplot": "mapbox",
         "type": "scattermapbox"
        },
        {
         "hovertemplate": "<b>%{hovertext}</b><br><br>iso_alpha=MAR<br>increase=%{marker.size}<br>Latitude (average)=%{lat}<br>Longitude (average)=%{lon}<extra></extra>",
         "hovertext": [
          "Morocco"
         ],
         "lat": [
          32
         ],
         "legendgroup": "MAR",
         "lon": [
          -5
         ],
         "marker": {
          "color": "#00cc96",
          "size": [
           83.49341338867153
          ],
          "sizemode": "area",
          "sizeref": 0.20675345645372892
         },
         "mode": "markers",
         "name": "MAR",
         "showlegend": true,
         "subplot": "mapbox",
         "type": "scattermapbox"
        },
        {
         "hovertemplate": "<b>%{hovertext}</b><br><br>iso_alpha=MOZ<br>increase=%{marker.size}<br>Latitude (average)=%{lat}<br>Longitude (average)=%{lon}<extra></extra>",
         "hovertext": [
          "Mozambique"
         ],
         "lat": [
          -18.25
         ],
         "legendgroup": "MOZ",
         "lon": [
          35
         ],
         "marker": {
          "color": "#ab63fa",
          "size": [
           79.2945063690547
          ],
          "sizemode": "area",
          "sizeref": 0.20675345645372892
         },
         "mode": "markers",
         "name": "MOZ",
         "showlegend": true,
         "subplot": "mapbox",
         "type": "scattermapbox"
        },
        {
         "hovertemplate": "<b>%{hovertext}</b><br><br>iso_alpha=NAM<br>increase=%{marker.size}<br>Latitude (average)=%{lat}<br>Longitude (average)=%{lon}<extra></extra>",
         "hovertext": [
          "Namibia"
         ],
         "lat": [
          -22
         ],
         "legendgroup": "NAM",
         "lon": [
          17
         ],
         "marker": {
          "color": "#FFA15A",
          "size": [
           110.34035941725196
          ],
          "sizemode": "area",
          "sizeref": 0.20675345645372892
         },
         "mode": "markers",
         "name": "NAM",
         "showlegend": true,
         "subplot": "mapbox",
         "type": "scattermapbox"
        },
        {
         "hovertemplate": "<b>%{hovertext}</b><br><br>iso_alpha=NER<br>increase=%{marker.size}<br>Latitude (average)=%{lat}<br>Longitude (average)=%{lon}<extra></extra>",
         "hovertext": [
          "Niger"
         ],
         "lat": [
          16
         ],
         "legendgroup": "NER",
         "lon": [
          8
         ],
         "marker": {
          "color": "#19d3f3",
          "size": [
           126.9389270067366
          ],
          "sizemode": "area",
          "sizeref": 0.20675345645372892
         },
         "mode": "markers",
         "name": "NER",
         "showlegend": true,
         "subplot": "mapbox",
         "type": "scattermapbox"
        },
        {
         "hovertemplate": "<b>%{hovertext}</b><br><br>iso_alpha=NGA<br>increase=%{marker.size}<br>Latitude (average)=%{lat}<br>Longitude (average)=%{lon}<extra></extra>",
         "hovertext": [
          "Nigeria"
         ],
         "lat": [
          10
         ],
         "legendgroup": "NGA",
         "lon": [
          8
         ],
         "marker": {
          "color": "#FF6692",
          "size": [
           117.05989243740629
          ],
          "sizemode": "area",
          "sizeref": 0.20675345645372892
         },
         "mode": "markers",
         "name": "NGA",
         "showlegend": true,
         "subplot": "mapbox",
         "type": "scattermapbox"
        },
        {
         "hovertemplate": "<b>%{hovertext}</b><br><br>iso_alpha=REU<br>increase=%{marker.size}<br>Latitude (average)=%{lat}<br>Longitude (average)=%{lon}<extra></extra>",
         "hovertext": [
          "Reunion"
         ],
         "lat": [
          -21.1
         ],
         "legendgroup": "REU",
         "lon": [
          55.6
         ],
         "marker": {
          "color": "#B6E880",
          "size": [
           62.18291183612921
          ],
          "sizemode": "area",
          "sizeref": 0.20675345645372892
         },
         "mode": "markers",
         "name": "REU",
         "showlegend": true,
         "subplot": "mapbox",
         "type": "scattermapbox"
        },
        {
         "hovertemplate": "<b>%{hovertext}</b><br><br>iso_alpha=RWA<br>increase=%{marker.size}<br>Latitude (average)=%{lat}<br>Longitude (average)=%{lon}<extra></extra>",
         "hovertext": [
          "Rwanda"
         ],
         "lat": [
          -2
         ],
         "legendgroup": "RWA",
         "lon": [
          30
         ],
         "marker": {
          "color": "#FF97FF",
          "size": [
           90.26091930723854
          ],
          "sizemode": "area",
          "sizeref": 0.20675345645372892
         },
         "mode": "markers",
         "name": "RWA",
         "showlegend": true,
         "subplot": "mapbox",
         "type": "scattermapbox"
        },
        {
         "hovertemplate": "<b>%{hovertext}</b><br><br>iso_alpha=STP<br>increase=%{marker.size}<br>Latitude (average)=%{lat}<br>Longitude (average)=%{lon}<extra></extra>",
         "hovertext": [
          "Sao Tome and Principe"
         ],
         "lat": [
          1
         ],
         "legendgroup": "STP",
         "lon": [
          7
         ],
         "marker": {
          "color": "#FECB52",
          "size": [
           129.94031983040693
          ],
          "sizemode": "area",
          "sizeref": 0.20675345645372892
         },
         "mode": "markers",
         "name": "STP",
         "showlegend": true,
         "subplot": "mapbox",
         "type": "scattermapbox"
        },
        {
         "hovertemplate": "<b>%{hovertext}</b><br><br>iso_alpha=SEN<br>increase=%{marker.size}<br>Latitude (average)=%{lat}<br>Longitude (average)=%{lon}<extra></extra>",
         "hovertext": [
          "Senegal"
         ],
         "lat": [
          14
         ],
         "legendgroup": "SEN",
         "lon": [
          -14
         ],
         "marker": {
          "color": "#636efa",
          "size": [
           133.1843968328342
          ],
          "sizemode": "area",
          "sizeref": 0.20675345645372892
         },
         "mode": "markers",
         "name": "SEN",
         "showlegend": true,
         "subplot": "mapbox",
         "type": "scattermapbox"
        },
        {
         "hovertemplate": "<b>%{hovertext}</b><br><br>iso_alpha=SLE<br>increase=%{marker.size}<br>Latitude (average)=%{lat}<br>Longitude (average)=%{lon}<extra></extra>",
         "hovertext": [
          "Sierra Leone"
         ],
         "lat": [
          8.5
         ],
         "legendgroup": "SLE",
         "lon": [
          -11.5
         ],
         "marker": {
          "color": "#EF553B",
          "size": [
           95.63080228355149
          ],
          "sizemode": "area",
          "sizeref": 0.20675345645372892
         },
         "mode": "markers",
         "name": "SLE",
         "showlegend": true,
         "subplot": "mapbox",
         "type": "scattermapbox"
        },
        {
         "hovertemplate": "<b>%{hovertext}</b><br><br>iso_alpha=SOM<br>increase=%{marker.size}<br>Latitude (average)=%{lat}<br>Longitude (average)=%{lon}<extra></extra>",
         "hovertext": [
          "Somalia"
         ],
         "lat": [
          10
         ],
         "legendgroup": "SOM",
         "lon": [
          49
         ],
         "marker": {
          "color": "#00cc96",
          "size": [
           109.45044934544819
          ],
          "sizemode": "area",
          "sizeref": 0.20675345645372892
         },
         "mode": "markers",
         "name": "SOM",
         "showlegend": true,
         "subplot": "mapbox",
         "type": "scattermapbox"
        },
        {
         "hovertemplate": "<b>%{hovertext}</b><br><br>iso_alpha=ZAF<br>increase=%{marker.size}<br>Latitude (average)=%{lat}<br>Longitude (average)=%{lon}<extra></extra>",
         "hovertext": [
          "South Africa"
         ],
         "lat": [
          -29
         ],
         "legendgroup": "ZAF",
         "lon": [
          24
         ],
         "marker": {
          "color": "#ab63fa",
          "size": [
           63.78080859177974
          ],
          "sizemode": "area",
          "sizeref": 0.20675345645372892
         },
         "mode": "markers",
         "name": "ZAF",
         "showlegend": true,
         "subplot": "mapbox",
         "type": "scattermapbox"
        },
        {
         "hovertemplate": "<b>%{hovertext}</b><br><br>iso_alpha=SDN<br>increase=%{marker.size}<br>Latitude (average)=%{lat}<br>Longitude (average)=%{lon}<extra></extra>",
         "hovertext": [
          "Sudan"
         ],
         "lat": [
          15
         ],
         "legendgroup": "SDN",
         "lon": [
          30
         ],
         "marker": {
          "color": "#FFA15A",
          "size": [
           147.25497582985452
          ],
          "sizemode": "area",
          "sizeref": 0.20675345645372892
         },
         "mode": "markers",
         "name": "SDN",
         "showlegend": true,
         "subplot": "mapbox",
         "type": "scattermapbox"
        },
        {
         "hovertemplate": "<b>%{hovertext}</b><br><br>iso_alpha=SWZ<br>increase=%{marker.size}<br>Latitude (average)=%{lat}<br>Longitude (average)=%{lon}<extra></extra>",
         "hovertext": [
          "Swaziland"
         ],
         "lat": [
          -26.5
         ],
         "legendgroup": "SWZ",
         "lon": [
          31.5
         ],
         "marker": {
          "color": "#19d3f3",
          "size": [
           105.4796209820012
          ],
          "sizemode": "area",
          "sizeref": 0.20675345645372892
         },
         "mode": "markers",
         "name": "SWZ",
         "showlegend": true,
         "subplot": "mapbox",
         "type": "scattermapbox"
        },
        {
         "hovertemplate": "<b>%{hovertext}</b><br><br>iso_alpha=TZA<br>increase=%{marker.size}<br>Latitude (average)=%{lat}<br>Longitude (average)=%{lon}<extra></extra>",
         "hovertext": [
          "Tanzania"
         ],
         "lat": [
          -6
         ],
         "legendgroup": "TZA",
         "lon": [
          35
         ],
         "marker": {
          "color": "#FF6692",
          "size": [
           122.65387358056086
          ],
          "sizemode": "area",
          "sizeref": 0.20675345645372892
         },
         "mode": "markers",
         "name": "TZA",
         "showlegend": true,
         "subplot": "mapbox",
         "type": "scattermapbox"
        },
        {
         "hovertemplate": "<b>%{hovertext}</b><br><br>iso_alpha=TGO<br>increase=%{marker.size}<br>Latitude (average)=%{lat}<br>Longitude (average)=%{lon}<extra></extra>",
         "hovertext": [
          "Togo"
         ],
         "lat": [
          8
         ],
         "legendgroup": "TGO",
         "lon": [
          1.1667
         ],
         "marker": {
          "color": "#B6E880",
          "size": [
           146.9732069296217
          ],
          "sizemode": "area",
          "sizeref": 0.20675345645372892
         },
         "mode": "markers",
         "name": "TGO",
         "showlegend": true,
         "subplot": "mapbox",
         "type": "scattermapbox"
        },
        {
         "hovertemplate": "<b>%{hovertext}</b><br><br>iso_alpha=TUN<br>increase=%{marker.size}<br>Latitude (average)=%{lat}<br>Longitude (average)=%{lon}<extra></extra>",
         "hovertext": [
          "Tunisia"
         ],
         "lat": [
          34
         ],
         "legendgroup": "TUN",
         "lon": [
          9
         ],
         "marker": {
          "color": "#FF97FF",
          "size": [
           71.12495609953004
          ],
          "sizemode": "area",
          "sizeref": 0.20675345645372892
         },
         "mode": "markers",
         "name": "TUN",
         "showlegend": true,
         "subplot": "mapbox",
         "type": "scattermapbox"
        },
        {
         "hovertemplate": "<b>%{hovertext}</b><br><br>iso_alpha=UGA<br>increase=%{marker.size}<br>Latitude (average)=%{lat}<br>Longitude (average)=%{lon}<extra></extra>",
         "hovertext": [
          "Uganda"
         ],
         "lat": [
          1
         ],
         "legendgroup": "UGA",
         "lon": [
          32
         ],
         "marker": {
          "color": "#FECB52",
          "size": [
           154.59080214471277
          ],
          "sizemode": "area",
          "sizeref": 0.20675345645372892
         },
         "mode": "markers",
         "name": "UGA",
         "showlegend": true,
         "subplot": "mapbox",
         "type": "scattermapbox"
        },
        {
         "hovertemplate": "<b>%{hovertext}</b><br><br>iso_alpha=ZMB<br>increase=%{marker.size}<br>Latitude (average)=%{lat}<br>Longitude (average)=%{lon}<extra></extra>",
         "hovertext": [
          "Zambia"
         ],
         "lat": [
          -15
         ],
         "legendgroup": "ZMB",
         "lon": [
          30
         ],
         "marker": {
          "color": "#636efa",
          "size": [
           125.16864594415848
          ],
          "sizemode": "area",
          "sizeref": 0.20675345645372892
         },
         "mode": "markers",
         "name": "ZMB",
         "showlegend": true,
         "subplot": "mapbox",
         "type": "scattermapbox"
        },
        {
         "hovertemplate": "<b>%{hovertext}</b><br><br>iso_alpha=ZWE<br>increase=%{marker.size}<br>Latitude (average)=%{lat}<br>Longitude (average)=%{lon}<extra></extra>",
         "hovertext": [
          "Zimbabwe"
         ],
         "lat": [
          -20
         ],
         "legendgroup": "ZWE",
         "lon": [
          30
         ],
         "marker": {
          "color": "#EF553B",
          "size": [
           85.34996500357492
          ],
          "sizemode": "area",
          "sizeref": 0.20675345645372892
         },
         "mode": "markers",
         "name": "ZWE",
         "showlegend": true,
         "subplot": "mapbox",
         "type": "scattermapbox"
        }
       ],
       "layout": {
        "height": 1000,
        "legend": {
         "itemsizing": "constant",
         "title": {
          "text": "iso_alpha"
         },
         "tracegroupgap": 0
        },
        "mapbox": {
         "center": {
          "lat": 2.7993833333333336,
          "lon": 17.50925925925926
         },
         "domain": {
          "x": [
           0,
           1
          ],
          "y": [
           0,
           1
          ]
         },
         "style": "open-street-map",
         "zoom": 2
        },
        "template": {
         "data": {
          "bar": [
           {
            "error_x": {
             "color": "#2a3f5f"
            },
            "error_y": {
             "color": "#2a3f5f"
            },
            "marker": {
             "line": {
              "color": "#E5ECF6",
              "width": 0.5
             }
            },
            "type": "bar"
           }
          ],
          "barpolar": [
           {
            "marker": {
             "line": {
              "color": "#E5ECF6",
              "width": 0.5
             }
            },
            "type": "barpolar"
           }
          ],
          "carpet": [
           {
            "aaxis": {
             "endlinecolor": "#2a3f5f",
             "gridcolor": "white",
             "linecolor": "white",
             "minorgridcolor": "white",
             "startlinecolor": "#2a3f5f"
            },
            "baxis": {
             "endlinecolor": "#2a3f5f",
             "gridcolor": "white",
             "linecolor": "white",
             "minorgridcolor": "white",
             "startlinecolor": "#2a3f5f"
            },
            "type": "carpet"
           }
          ],
          "choropleth": [
           {
            "colorbar": {
             "outlinewidth": 0,
             "ticks": ""
            },
            "type": "choropleth"
           }
          ],
          "contour": [
           {
            "colorbar": {
             "outlinewidth": 0,
             "ticks": ""
            },
            "colorscale": [
             [
              0,
              "#0d0887"
             ],
             [
              0.1111111111111111,
              "#46039f"
             ],
             [
              0.2222222222222222,
              "#7201a8"
             ],
             [
              0.3333333333333333,
              "#9c179e"
             ],
             [
              0.4444444444444444,
              "#bd3786"
             ],
             [
              0.5555555555555556,
              "#d8576b"
             ],
             [
              0.6666666666666666,
              "#ed7953"
             ],
             [
              0.7777777777777778,
              "#fb9f3a"
             ],
             [
              0.8888888888888888,
              "#fdca26"
             ],
             [
              1,
              "#f0f921"
             ]
            ],
            "type": "contour"
           }
          ],
          "contourcarpet": [
           {
            "colorbar": {
             "outlinewidth": 0,
             "ticks": ""
            },
            "type": "contourcarpet"
           }
          ],
          "heatmap": [
           {
            "colorbar": {
             "outlinewidth": 0,
             "ticks": ""
            },
            "colorscale": [
             [
              0,
              "#0d0887"
             ],
             [
              0.1111111111111111,
              "#46039f"
             ],
             [
              0.2222222222222222,
              "#7201a8"
             ],
             [
              0.3333333333333333,
              "#9c179e"
             ],
             [
              0.4444444444444444,
              "#bd3786"
             ],
             [
              0.5555555555555556,
              "#d8576b"
             ],
             [
              0.6666666666666666,
              "#ed7953"
             ],
             [
              0.7777777777777778,
              "#fb9f3a"
             ],
             [
              0.8888888888888888,
              "#fdca26"
             ],
             [
              1,
              "#f0f921"
             ]
            ],
            "type": "heatmap"
           }
          ],
          "heatmapgl": [
           {
            "colorbar": {
             "outlinewidth": 0,
             "ticks": ""
            },
            "colorscale": [
             [
              0,
              "#0d0887"
             ],
             [
              0.1111111111111111,
              "#46039f"
             ],
             [
              0.2222222222222222,
              "#7201a8"
             ],
             [
              0.3333333333333333,
              "#9c179e"
             ],
             [
              0.4444444444444444,
              "#bd3786"
             ],
             [
              0.5555555555555556,
              "#d8576b"
             ],
             [
              0.6666666666666666,
              "#ed7953"
             ],
             [
              0.7777777777777778,
              "#fb9f3a"
             ],
             [
              0.8888888888888888,
              "#fdca26"
             ],
             [
              1,
              "#f0f921"
             ]
            ],
            "type": "heatmapgl"
           }
          ],
          "histogram": [
           {
            "marker": {
             "colorbar": {
              "outlinewidth": 0,
              "ticks": ""
             }
            },
            "type": "histogram"
           }
          ],
          "histogram2d": [
           {
            "colorbar": {
             "outlinewidth": 0,
             "ticks": ""
            },
            "colorscale": [
             [
              0,
              "#0d0887"
             ],
             [
              0.1111111111111111,
              "#46039f"
             ],
             [
              0.2222222222222222,
              "#7201a8"
             ],
             [
              0.3333333333333333,
              "#9c179e"
             ],
             [
              0.4444444444444444,
              "#bd3786"
             ],
             [
              0.5555555555555556,
              "#d8576b"
             ],
             [
              0.6666666666666666,
              "#ed7953"
             ],
             [
              0.7777777777777778,
              "#fb9f3a"
             ],
             [
              0.8888888888888888,
              "#fdca26"
             ],
             [
              1,
              "#f0f921"
             ]
            ],
            "type": "histogram2d"
           }
          ],
          "histogram2dcontour": [
           {
            "colorbar": {
             "outlinewidth": 0,
             "ticks": ""
            },
            "colorscale": [
             [
              0,
              "#0d0887"
             ],
             [
              0.1111111111111111,
              "#46039f"
             ],
             [
              0.2222222222222222,
              "#7201a8"
             ],
             [
              0.3333333333333333,
              "#9c179e"
             ],
             [
              0.4444444444444444,
              "#bd3786"
             ],
             [
              0.5555555555555556,
              "#d8576b"
             ],
             [
              0.6666666666666666,
              "#ed7953"
             ],
             [
              0.7777777777777778,
              "#fb9f3a"
             ],
             [
              0.8888888888888888,
              "#fdca26"
             ],
             [
              1,
              "#f0f921"
             ]
            ],
            "type": "histogram2dcontour"
           }
          ],
          "mesh3d": [
           {
            "colorbar": {
             "outlinewidth": 0,
             "ticks": ""
            },
            "type": "mesh3d"
           }
          ],
          "parcoords": [
           {
            "line": {
             "colorbar": {
              "outlinewidth": 0,
              "ticks": ""
             }
            },
            "type": "parcoords"
           }
          ],
          "pie": [
           {
            "automargin": true,
            "type": "pie"
           }
          ],
          "scatter": [
           {
            "marker": {
             "colorbar": {
              "outlinewidth": 0,
              "ticks": ""
             }
            },
            "type": "scatter"
           }
          ],
          "scatter3d": [
           {
            "line": {
             "colorbar": {
              "outlinewidth": 0,
              "ticks": ""
             }
            },
            "marker": {
             "colorbar": {
              "outlinewidth": 0,
              "ticks": ""
             }
            },
            "type": "scatter3d"
           }
          ],
          "scattercarpet": [
           {
            "marker": {
             "colorbar": {
              "outlinewidth": 0,
              "ticks": ""
             }
            },
            "type": "scattercarpet"
           }
          ],
          "scattergeo": [
           {
            "marker": {
             "colorbar": {
              "outlinewidth": 0,
              "ticks": ""
             }
            },
            "type": "scattergeo"
           }
          ],
          "scattergl": [
           {
            "marker": {
             "colorbar": {
              "outlinewidth": 0,
              "ticks": ""
             }
            },
            "type": "scattergl"
           }
          ],
          "scattermapbox": [
           {
            "marker": {
             "colorbar": {
              "outlinewidth": 0,
              "ticks": ""
             }
            },
            "type": "scattermapbox"
           }
          ],
          "scatterpolar": [
           {
            "marker": {
             "colorbar": {
              "outlinewidth": 0,
              "ticks": ""
             }
            },
            "type": "scatterpolar"
           }
          ],
          "scatterpolargl": [
           {
            "marker": {
             "colorbar": {
              "outlinewidth": 0,
              "ticks": ""
             }
            },
            "type": "scatterpolargl"
           }
          ],
          "scatterternary": [
           {
            "marker": {
             "colorbar": {
              "outlinewidth": 0,
              "ticks": ""
             }
            },
            "type": "scatterternary"
           }
          ],
          "surface": [
           {
            "colorbar": {
             "outlinewidth": 0,
             "ticks": ""
            },
            "colorscale": [
             [
              0,
              "#0d0887"
             ],
             [
              0.1111111111111111,
              "#46039f"
             ],
             [
              0.2222222222222222,
              "#7201a8"
             ],
             [
              0.3333333333333333,
              "#9c179e"
             ],
             [
              0.4444444444444444,
              "#bd3786"
             ],
             [
              0.5555555555555556,
              "#d8576b"
             ],
             [
              0.6666666666666666,
              "#ed7953"
             ],
             [
              0.7777777777777778,
              "#fb9f3a"
             ],
             [
              0.8888888888888888,
              "#fdca26"
             ],
             [
              1,
              "#f0f921"
             ]
            ],
            "type": "surface"
           }
          ],
          "table": [
           {
            "cells": {
             "fill": {
              "color": "#EBF0F8"
             },
             "line": {
              "color": "white"
             }
            },
            "header": {
             "fill": {
              "color": "#C8D4E3"
             },
             "line": {
              "color": "white"
             }
            },
            "type": "table"
           }
          ]
         },
         "layout": {
          "annotationdefaults": {
           "arrowcolor": "#2a3f5f",
           "arrowhead": 0,
           "arrowwidth": 1
          },
          "autotypenumbers": "strict",
          "coloraxis": {
           "colorbar": {
            "outlinewidth": 0,
            "ticks": ""
           }
          },
          "colorscale": {
           "diverging": [
            [
             0,
             "#8e0152"
            ],
            [
             0.1,
             "#c51b7d"
            ],
            [
             0.2,
             "#de77ae"
            ],
            [
             0.3,
             "#f1b6da"
            ],
            [
             0.4,
             "#fde0ef"
            ],
            [
             0.5,
             "#f7f7f7"
            ],
            [
             0.6,
             "#e6f5d0"
            ],
            [
             0.7,
             "#b8e186"
            ],
            [
             0.8,
             "#7fbc41"
            ],
            [
             0.9,
             "#4d9221"
            ],
            [
             1,
             "#276419"
            ]
           ],
           "sequential": [
            [
             0,
             "#0d0887"
            ],
            [
             0.1111111111111111,
             "#46039f"
            ],
            [
             0.2222222222222222,
             "#7201a8"
            ],
            [
             0.3333333333333333,
             "#9c179e"
            ],
            [
             0.4444444444444444,
             "#bd3786"
            ],
            [
             0.5555555555555556,
             "#d8576b"
            ],
            [
             0.6666666666666666,
             "#ed7953"
            ],
            [
             0.7777777777777778,
             "#fb9f3a"
            ],
            [
             0.8888888888888888,
             "#fdca26"
            ],
            [
             1,
             "#f0f921"
            ]
           ],
           "sequentialminus": [
            [
             0,
             "#0d0887"
            ],
            [
             0.1111111111111111,
             "#46039f"
            ],
            [
             0.2222222222222222,
             "#7201a8"
            ],
            [
             0.3333333333333333,
             "#9c179e"
            ],
            [
             0.4444444444444444,
             "#bd3786"
            ],
            [
             0.5555555555555556,
             "#d8576b"
            ],
            [
             0.6666666666666666,
             "#ed7953"
            ],
            [
             0.7777777777777778,
             "#fb9f3a"
            ],
            [
             0.8888888888888888,
             "#fdca26"
            ],
            [
             1,
             "#f0f921"
            ]
           ]
          },
          "colorway": [
           "#636efa",
           "#EF553B",
           "#00cc96",
           "#ab63fa",
           "#FFA15A",
           "#19d3f3",
           "#FF6692",
           "#B6E880",
           "#FF97FF",
           "#FECB52"
          ],
          "font": {
           "color": "#2a3f5f"
          },
          "geo": {
           "bgcolor": "white",
           "lakecolor": "white",
           "landcolor": "#E5ECF6",
           "showlakes": true,
           "showland": true,
           "subunitcolor": "white"
          },
          "hoverlabel": {
           "align": "left"
          },
          "hovermode": "closest",
          "mapbox": {
           "style": "light"
          },
          "paper_bgcolor": "white",
          "plot_bgcolor": "#E5ECF6",
          "polar": {
           "angularaxis": {
            "gridcolor": "white",
            "linecolor": "white",
            "ticks": ""
           },
           "bgcolor": "#E5ECF6",
           "radialaxis": {
            "gridcolor": "white",
            "linecolor": "white",
            "ticks": ""
           }
          },
          "scene": {
           "xaxis": {
            "backgroundcolor": "#E5ECF6",
            "gridcolor": "white",
            "gridwidth": 2,
            "linecolor": "white",
            "showbackground": true,
            "ticks": "",
            "zerolinecolor": "white"
           },
           "yaxis": {
            "backgroundcolor": "#E5ECF6",
            "gridcolor": "white",
            "gridwidth": 2,
            "linecolor": "white",
            "showbackground": true,
            "ticks": "",
            "zerolinecolor": "white"
           },
           "zaxis": {
            "backgroundcolor": "#E5ECF6",
            "gridcolor": "white",
            "gridwidth": 2,
            "linecolor": "white",
            "showbackground": true,
            "ticks": "",
            "zerolinecolor": "white"
           }
          },
          "shapedefaults": {
           "line": {
            "color": "#2a3f5f"
           }
          },
          "ternary": {
           "aaxis": {
            "gridcolor": "white",
            "linecolor": "white",
            "ticks": ""
           },
           "baxis": {
            "gridcolor": "white",
            "linecolor": "white",
            "ticks": ""
           },
           "bgcolor": "#E5ECF6",
           "caxis": {
            "gridcolor": "white",
            "linecolor": "white",
            "ticks": ""
           }
          },
          "title": {
           "x": 0.05
          },
          "xaxis": {
           "automargin": true,
           "gridcolor": "white",
           "linecolor": "white",
           "ticks": "",
           "title": {
            "standoff": 15
           },
           "zerolinecolor": "white",
           "zerolinewidth": 2
          },
          "yaxis": {
           "automargin": true,
           "gridcolor": "white",
           "linecolor": "white",
           "ticks": "",
           "title": {
            "standoff": 15
           },
           "zerolinecolor": "white",
           "zerolinewidth": 2
          }
         }
        },
        "title": {
         "text": "Change in population of African countries from 1977 to 2007."
        }
       }
      },
      "text/html": [
       "<div>                            <div id=\"08c44b4d-27f9-4158-8912-7c968f5e773b\" class=\"plotly-graph-div\" style=\"height:1000px; width:100%;\"></div>            <script type=\"text/javascript\">                require([\"plotly\"], function(Plotly) {                    window.PLOTLYENV=window.PLOTLYENV || {};                                    if (document.getElementById(\"08c44b4d-27f9-4158-8912-7c968f5e773b\")) {                    Plotly.newPlot(                        \"08c44b4d-27f9-4158-8912-7c968f5e773b\",                        [{\"hovertemplate\": \"<b>%{hovertext}</b><br><br>iso_alpha=DZA<br>increase=%{marker.size}<br>Latitude (average)=%{lat}<br>Longitude (average)=%{lon}<extra></extra>\", \"hovertext\": [\"Algeria\"], \"lat\": [28.0], \"legendgroup\": \"DZA\", \"lon\": [3.0], \"marker\": {\"color\": \"#636efa\", \"size\": [94.33100267454813], \"sizemode\": \"area\", \"sizeref\": 0.20675345645372892}, \"mode\": \"markers\", \"name\": \"DZA\", \"showlegend\": true, \"subplot\": \"mapbox\", \"type\": \"scattermapbox\"}, {\"hovertemplate\": \"<b>%{hovertext}</b><br><br>iso_alpha=AGO<br>increase=%{marker.size}<br>Latitude (average)=%{lat}<br>Longitude (average)=%{lon}<extra></extra>\", \"hovertext\": [\"Angola\"], \"lat\": [-12.5], \"legendgroup\": \"AGO\", \"lon\": [18.5], \"marker\": {\"color\": \"#EF553B\", \"size\": [101.54358294084955], \"sizemode\": \"area\", \"sizeref\": 0.20675345645372892}, \"mode\": \"markers\", \"name\": \"AGO\", \"showlegend\": true, \"subplot\": \"mapbox\", \"type\": \"scattermapbox\"}, {\"hovertemplate\": \"<b>%{hovertext}</b><br><br>iso_alpha=BEN<br>increase=%{marker.size}<br>Latitude (average)=%{lat}<br>Longitude (average)=%{lon}<extra></extra>\", \"hovertext\": [\"Benin\"], \"lat\": [9.5], \"legendgroup\": \"BEN\", \"lon\": [2.25], \"marker\": {\"color\": \"#00cc96\", \"size\": [154.97579591619015], \"sizemode\": \"area\", \"sizeref\": 0.20675345645372892}, \"mode\": \"markers\", \"name\": \"BEN\", \"showlegend\": true, \"subplot\": \"mapbox\", \"type\": \"scattermapbox\"}, {\"hovertemplate\": \"<b>%{hovertext}</b><br><br>iso_alpha=BWA<br>increase=%{marker.size}<br>Latitude (average)=%{lat}<br>Longitude (average)=%{lon}<extra></extra>\", \"hovertext\": [\"Botswana\"], \"lat\": [-22.0], \"legendgroup\": \"BWA\", \"lon\": [24.0], \"marker\": {\"color\": \"#ab63fa\", \"size\": [109.7491656770812], \"sizemode\": \"area\", \"sizeref\": 0.20675345645372892}, \"mode\": \"markers\", \"name\": \"BWA\", \"showlegend\": true, \"subplot\": \"mapbox\", \"type\": \"scattermapbox\"}, {\"hovertemplate\": \"<b>%{hovertext}</b><br><br>iso_alpha=BFA<br>increase=%{marker.size}<br>Latitude (average)=%{lat}<br>Longitude (average)=%{lon}<extra></extra>\", \"hovertext\": [\"Burkina Faso\"], \"lat\": [13.0], \"legendgroup\": \"BFA\", \"lon\": [-2.0], \"marker\": {\"color\": \"#FFA15A\", \"size\": [143.24684603674223], \"sizemode\": \"area\", \"sizeref\": 0.20675345645372892}, \"mode\": \"markers\", \"name\": \"BFA\", \"showlegend\": true, \"subplot\": \"mapbox\", \"type\": \"scattermapbox\"}, {\"hovertemplate\": \"<b>%{hovertext}</b><br><br>iso_alpha=BDI<br>increase=%{marker.size}<br>Latitude (average)=%{lat}<br>Longitude (average)=%{lon}<extra></extra>\", \"hovertext\": [\"Burundi\"], \"lat\": [-3.5], \"legendgroup\": \"BDI\", \"lon\": [30.0], \"marker\": {\"color\": \"#19d3f3\", \"size\": [118.82099355442747], \"sizemode\": \"area\", \"sizeref\": 0.20675345645372892}, \"mode\": \"markers\", \"name\": \"BDI\", \"showlegend\": true, \"subplot\": \"mapbox\", \"type\": \"scattermapbox\"}, {\"hovertemplate\": \"<b>%{hovertext}</b><br><br>iso_alpha=CMR<br>increase=%{marker.size}<br>Latitude (average)=%{lat}<br>Longitude (average)=%{lon}<extra></extra>\", \"hovertext\": [\"Cameroon\"], \"lat\": [6.0], \"legendgroup\": \"CMR\", \"lon\": [12.0], \"marker\": {\"color\": \"#FF6692\", \"size\": [122.31900917917578], \"sizemode\": \"area\", \"sizeref\": 0.20675345645372892}, \"mode\": \"markers\", \"name\": \"CMR\", \"showlegend\": true, \"subplot\": \"mapbox\", \"type\": \"scattermapbox\"}, {\"hovertemplate\": \"<b>%{hovertext}</b><br><br>iso_alpha=CAF<br>increase=%{marker.size}<br>Latitude (average)=%{lat}<br>Longitude (average)=%{lon}<extra></extra>\", \"hovertext\": [\"Central African Republic\"], \"lat\": [7.0], \"legendgroup\": \"CAF\", \"lon\": [21.0], \"marker\": {\"color\": \"#B6E880\", \"size\": [101.56731177795217], \"sizemode\": \"area\", \"sizeref\": 0.20675345645372892}, \"mode\": \"markers\", \"name\": \"CAF\", \"showlegend\": true, \"subplot\": \"mapbox\", \"type\": \"scattermapbox\"}, {\"hovertemplate\": \"<b>%{hovertext}</b><br><br>iso_alpha=TCD<br>increase=%{marker.size}<br>Latitude (average)=%{lat}<br>Longitude (average)=%{lon}<extra></extra>\", \"hovertext\": [\"Chad\"], \"lat\": [15.0], \"legendgroup\": \"TCD\", \"lon\": [19.0], \"marker\": {\"color\": \"#FF97FF\", \"size\": [133.32270649414573], \"sizemode\": \"area\", \"sizeref\": 0.20675345645372892}, \"mode\": \"markers\", \"name\": \"TCD\", \"showlegend\": true, \"subplot\": \"mapbox\", \"type\": \"scattermapbox\"}, {\"hovertemplate\": \"<b>%{hovertext}</b><br><br>iso_alpha=COM<br>increase=%{marker.size}<br>Latitude (average)=%{lat}<br>Longitude (average)=%{lon}<extra></extra>\", \"hovertext\": [\"Comoros\"], \"lat\": [-12.1667], \"legendgroup\": \"COM\", \"lon\": [44.25], \"marker\": {\"color\": \"#FECB52\", \"size\": [133.30128404962934], \"sizemode\": \"area\", \"sizeref\": 0.20675345645372892}, \"mode\": \"markers\", \"name\": \"COM\", \"showlegend\": true, \"subplot\": \"mapbox\", \"type\": \"scattermapbox\"}, {\"hovertemplate\": \"<b>%{hovertext}</b><br><br>iso_alpha=COD<br>increase=%{marker.size}<br>Latitude (average)=%{lat}<br>Longitude (average)=%{lon}<extra></extra>\", \"hovertext\": [\"Congo, Dem. Rep.\"], \"lat\": [0.0], \"legendgroup\": \"COD\", \"lon\": [25.0], \"marker\": {\"color\": \"#636efa\", \"size\": [143.97521305002442], \"sizemode\": \"area\", \"sizeref\": 0.20675345645372892}, \"mode\": \"markers\", \"name\": \"COD\", \"showlegend\": true, \"subplot\": \"mapbox\", \"type\": \"scattermapbox\"}, {\"hovertemplate\": \"<b>%{hovertext}</b><br><br>iso_alpha=COG<br>increase=%{marker.size}<br>Latitude (average)=%{lat}<br>Longitude (average)=%{lon}<extra></extra>\", \"hovertext\": [\"Congo, Rep.\"], \"lat\": [-1.0], \"legendgroup\": \"COG\", \"lon\": [15.0], \"marker\": {\"color\": \"#EF553B\", \"size\": [147.31172999975922], \"sizemode\": \"area\", \"sizeref\": 0.20675345645372892}, \"mode\": \"markers\", \"name\": \"COG\", \"showlegend\": true, \"subplot\": \"mapbox\", \"type\": \"scattermapbox\"}, {\"hovertemplate\": \"<b>%{hovertext}</b><br><br>iso_alpha=CIV<br>increase=%{marker.size}<br>Latitude (average)=%{lat}<br>Longitude (average)=%{lon}<extra></extra>\", \"hovertext\": [\"Cote d'Ivoire\", \"Cote d'Ivoire\"], \"lat\": [8.0, 8.0], \"legendgroup\": \"CIV\", \"lon\": [-5.0, -5.0], \"marker\": {\"color\": \"#00cc96\", \"size\": [141.4803982104072, 141.4803982104072], \"sizemode\": \"area\", \"sizeref\": 0.20675345645372892}, \"mode\": \"markers\", \"name\": \"CIV\", \"showlegend\": true, \"subplot\": \"mapbox\", \"type\": \"scattermapbox\"}, {\"hovertemplate\": \"<b>%{hovertext}</b><br><br>iso_alpha=DJI<br>increase=%{marker.size}<br>Latitude (average)=%{lat}<br>Longitude (average)=%{lon}<extra></extra>\", \"hovertext\": [\"Djibouti\"], \"lat\": [11.5], \"legendgroup\": \"DJI\", \"lon\": [43.0], \"marker\": {\"color\": \"#ab63fa\", \"size\": [117.04723342107795], \"sizemode\": \"area\", \"sizeref\": 0.20675345645372892}, \"mode\": \"markers\", \"name\": \"DJI\", \"showlegend\": true, \"subplot\": \"mapbox\", \"type\": \"scattermapbox\"}, {\"hovertemplate\": \"<b>%{hovertext}</b><br><br>iso_alpha=EGY<br>increase=%{marker.size}<br>Latitude (average)=%{lat}<br>Longitude (average)=%{lon}<extra></extra>\", \"hovertext\": [\"Egypt\"], \"lat\": [27.0], \"legendgroup\": \"EGY\", \"lon\": [30.0], \"marker\": {\"color\": \"#FFA15A\", \"size\": [106.95345123305535], \"sizemode\": \"area\", \"sizeref\": 0.20675345645372892}, \"mode\": \"markers\", \"name\": \"EGY\", \"showlegend\": true, \"subplot\": \"mapbox\", \"type\": \"scattermapbox\"}, {\"hovertemplate\": \"<b>%{hovertext}</b><br><br>iso_alpha=GNQ<br>increase=%{marker.size}<br>Latitude (average)=%{lat}<br>Longitude (average)=%{lon}<extra></extra>\", \"hovertext\": [\"Equatorial Guinea\"], \"lat\": [2.0], \"legendgroup\": \"GNQ\", \"lon\": [10.0], \"marker\": {\"color\": \"#19d3f3\", \"size\": [186.07811080835603], \"sizemode\": \"area\", \"sizeref\": 0.20675345645372892}, \"mode\": \"markers\", \"name\": \"GNQ\", \"showlegend\": true, \"subplot\": \"mapbox\", \"type\": \"scattermapbox\"}, {\"hovertemplate\": \"<b>%{hovertext}</b><br><br>iso_alpha=ERI<br>increase=%{marker.size}<br>Latitude (average)=%{lat}<br>Longitude (average)=%{lon}<extra></extra>\", \"hovertext\": [\"Eritrea\"], \"lat\": [15.0], \"legendgroup\": \"ERI\", \"lon\": [39.0], \"marker\": {\"color\": \"#FF6692\", \"size\": [95.2759286838316], \"sizemode\": \"area\", \"sizeref\": 0.20675345645372892}, \"mode\": \"markers\", \"name\": \"ERI\", \"showlegend\": true, \"subplot\": \"mapbox\", \"type\": \"scattermapbox\"}, {\"hovertemplate\": \"<b>%{hovertext}</b><br><br>iso_alpha=ETH<br>increase=%{marker.size}<br>Latitude (average)=%{lat}<br>Longitude (average)=%{lon}<extra></extra>\", \"hovertext\": [\"Ethiopia\"], \"lat\": [8.0], \"legendgroup\": \"ETH\", \"lon\": [38.0], \"marker\": {\"color\": \"#B6E880\", \"size\": [121.01892439782205], \"sizemode\": \"area\", \"sizeref\": 0.20675345645372892}, \"mode\": \"markers\", \"name\": \"ETH\", \"showlegend\": true, \"subplot\": \"mapbox\", \"type\": \"scattermapbox\"}, {\"hovertemplate\": \"<b>%{hovertext}</b><br><br>iso_alpha=GAB<br>increase=%{marker.size}<br>Latitude (average)=%{lat}<br>Longitude (average)=%{lon}<extra></extra>\", \"hovertext\": [\"Gabon\"], \"lat\": [-1.0], \"legendgroup\": \"GAB\", \"lon\": [11.75], \"marker\": {\"color\": \"#FF97FF\", \"size\": [105.96474637122061], \"sizemode\": \"area\", \"sizeref\": 0.20675345645372892}, \"mode\": \"markers\", \"name\": \"GAB\", \"showlegend\": true, \"subplot\": \"mapbox\", \"type\": \"scattermapbox\"}, {\"hovertemplate\": \"<b>%{hovertext}</b><br><br>iso_alpha=GMB<br>increase=%{marker.size}<br>Latitude (average)=%{lat}<br>Longitude (average)=%{lon}<extra></extra>\", \"hovertext\": [\"Gambia\"], \"lat\": [13.4667], \"legendgroup\": \"GMB\", \"lon\": [-16.5667], \"marker\": {\"color\": \"#FECB52\", \"size\": [177.56553789903893], \"sizemode\": \"area\", \"sizeref\": 0.20675345645372892}, \"mode\": \"markers\", \"name\": \"GMB\", \"showlegend\": true, \"subplot\": \"mapbox\", \"type\": \"scattermapbox\"}, {\"hovertemplate\": \"<b>%{hovertext}</b><br><br>iso_alpha=GHA<br>increase=%{marker.size}<br>Latitude (average)=%{lat}<br>Longitude (average)=%{lon}<extra></extra>\", \"hovertext\": [\"Ghana\"], \"lat\": [8.0], \"legendgroup\": \"GHA\", \"lon\": [-2.0], \"marker\": {\"color\": \"#636efa\", \"size\": [117.05386354058558], \"sizemode\": \"area\", \"sizeref\": 0.20675345645372892}, \"mode\": \"markers\", \"name\": \"GHA\", \"showlegend\": true, \"subplot\": \"mapbox\", \"type\": \"scattermapbox\"}, {\"hovertemplate\": \"<b>%{hovertext}</b><br><br>iso_alpha=GIN<br>increase=%{marker.size}<br>Latitude (average)=%{lat}<br>Longitude (average)=%{lon}<extra></extra>\", \"hovertext\": [\"Guinea\"], \"lat\": [11.0], \"legendgroup\": \"GIN\", \"lon\": [-10.0], \"marker\": {\"color\": \"#EF553B\", \"size\": [135.33836792108684], \"sizemode\": \"area\", \"sizeref\": 0.20675345645372892}, \"mode\": \"markers\", \"name\": \"GIN\", \"showlegend\": true, \"subplot\": \"mapbox\", \"type\": \"scattermapbox\"}, {\"hovertemplate\": \"<b>%{hovertext}</b><br><br>iso_alpha=GNB<br>increase=%{marker.size}<br>Latitude (average)=%{lat}<br>Longitude (average)=%{lon}<extra></extra>\", \"hovertext\": [\"Guinea-Bissau\"], \"lat\": [12.0], \"legendgroup\": \"GNB\", \"lon\": [-15.0], \"marker\": {\"color\": \"#00cc96\", \"size\": [97.5289441620551], \"sizemode\": \"area\", \"sizeref\": 0.20675345645372892}, \"mode\": \"markers\", \"name\": \"GNB\", \"showlegend\": true, \"subplot\": \"mapbox\", \"type\": \"scattermapbox\"}, {\"hovertemplate\": \"<b>%{hovertext}</b><br><br>iso_alpha=KEN<br>increase=%{marker.size}<br>Latitude (average)=%{lat}<br>Longitude (average)=%{lon}<extra></extra>\", \"hovertext\": [\"Kenya\"], \"lat\": [1.0], \"legendgroup\": \"KEN\", \"lon\": [38.0], \"marker\": {\"color\": \"#ab63fa\", \"size\": [145.5805852030054], \"sizemode\": \"area\", \"sizeref\": 0.20675345645372892}, \"mode\": \"markers\", \"name\": \"KEN\", \"showlegend\": true, \"subplot\": \"mapbox\", \"type\": \"scattermapbox\"}, {\"hovertemplate\": \"<b>%{hovertext}</b><br><br>iso_alpha=LSO<br>increase=%{marker.size}<br>Latitude (average)=%{lat}<br>Longitude (average)=%{lon}<extra></extra>\", \"hovertext\": [\"Lesotho\"], \"lat\": [-29.5], \"legendgroup\": \"LSO\", \"lon\": [28.5], \"marker\": {\"color\": \"#FFA15A\", \"size\": [63.5423691435402], \"sizemode\": \"area\", \"sizeref\": 0.20675345645372892}, \"mode\": \"markers\", \"name\": \"LSO\", \"showlegend\": true, \"subplot\": \"mapbox\", \"type\": \"scattermapbox\"}, {\"hovertemplate\": \"<b>%{hovertext}</b><br><br>iso_alpha=LBR<br>increase=%{marker.size}<br>Latitude (average)=%{lat}<br>Longitude (average)=%{lon}<extra></extra>\", \"hovertext\": [\"Liberia\"], \"lat\": [6.5], \"legendgroup\": \"LBR\", \"lon\": [-9.5], \"marker\": {\"color\": \"#19d3f3\", \"size\": [87.48004979992568], \"sizemode\": \"area\", \"sizeref\": 0.20675345645372892}, \"mode\": \"markers\", \"name\": \"LBR\", \"showlegend\": true, \"subplot\": \"mapbox\", \"type\": \"scattermapbox\"}, {\"hovertemplate\": \"<b>%{hovertext}</b><br><br>iso_alpha=LBY<br>increase=%{marker.size}<br>Latitude (average)=%{lat}<br>Longitude (average)=%{lon}<extra></extra>\", \"hovertext\": [\"Libya\", \"Libya\"], \"lat\": [25.0, 25.0], \"legendgroup\": \"LBY\", \"lon\": [17.0, 17.0], \"marker\": {\"color\": \"#FF6692\", \"size\": [121.79997450200844, 121.79997450200844], \"sizemode\": \"area\", \"sizeref\": 0.20675345645372892}, \"mode\": \"markers\", \"name\": \"LBY\", \"showlegend\": true, \"subplot\": \"mapbox\", \"type\": \"scattermapbox\"}, {\"hovertemplate\": \"<b>%{hovertext}</b><br><br>iso_alpha=MDG<br>increase=%{marker.size}<br>Latitude (average)=%{lat}<br>Longitude (average)=%{lon}<extra></extra>\", \"hovertext\": [\"Madagascar\"], \"lat\": [-20.0], \"legendgroup\": \"MDG\", \"lon\": [47.0], \"marker\": {\"color\": \"#B6E880\", \"size\": [139.3812492459879], \"sizemode\": \"area\", \"sizeref\": 0.20675345645372892}, \"mode\": \"markers\", \"name\": \"MDG\", \"showlegend\": true, \"subplot\": \"mapbox\", \"type\": \"scattermapbox\"}, {\"hovertemplate\": \"<b>%{hovertext}</b><br><br>iso_alpha=MWI<br>increase=%{marker.size}<br>Latitude (average)=%{lat}<br>Longitude (average)=%{lon}<extra></extra>\", \"hovertext\": [\"Malawi\"], \"lat\": [-13.5], \"legendgroup\": \"MWI\", \"lon\": [34.0], \"marker\": {\"color\": \"#FF97FF\", \"size\": [136.41116601971956], \"sizemode\": \"area\", \"sizeref\": 0.20675345645372892}, \"mode\": \"markers\", \"name\": \"MWI\", \"showlegend\": true, \"subplot\": \"mapbox\", \"type\": \"scattermapbox\"}, {\"hovertemplate\": \"<b>%{hovertext}</b><br><br>iso_alpha=MLI<br>increase=%{marker.size}<br>Latitude (average)=%{lat}<br>Longitude (average)=%{lon}<extra></extra>\", \"hovertext\": [\"Mali\"], \"lat\": [17.0], \"legendgroup\": \"MLI\", \"lon\": [-4.0], \"marker\": {\"color\": \"#FECB52\", \"size\": [85.34266100955243], \"sizemode\": \"area\", \"sizeref\": 0.20675345645372892}, \"mode\": \"markers\", \"name\": \"MLI\", \"showlegend\": true, \"subplot\": \"mapbox\", \"type\": \"scattermapbox\"}, {\"hovertemplate\": \"<b>%{hovertext}</b><br><br>iso_alpha=MRT<br>increase=%{marker.size}<br>Latitude (average)=%{lat}<br>Longitude (average)=%{lon}<extra></extra>\", \"hovertext\": [\"Mauritania\"], \"lat\": [20.0], \"legendgroup\": \"MRT\", \"lon\": [-12.0], \"marker\": {\"color\": \"#636efa\", \"size\": [124.4863004294674], \"sizemode\": \"area\", \"sizeref\": 0.20675345645372892}, \"mode\": \"markers\", \"name\": \"MRT\", \"showlegend\": true, \"subplot\": \"mapbox\", \"type\": \"scattermapbox\"}, {\"hovertemplate\": \"<b>%{hovertext}</b><br><br>iso_alpha=MUS<br>increase=%{marker.size}<br>Latitude (average)=%{lat}<br>Longitude (average)=%{lon}<extra></extra>\", \"hovertext\": [\"Mauritius\"], \"lat\": [-20.2833], \"legendgroup\": \"MUS\", \"lon\": [57.55], \"marker\": {\"color\": \"#EF553B\", \"size\": [37.00413460748611], \"sizemode\": \"area\", \"sizeref\": 0.20675345645372892}, \"mode\": \"markers\", \"name\": \"MUS\", \"showlegend\": true, \"subplot\": \"mapbox\", \"type\": \"scattermapbox\"}, {\"hovertemplate\": \"<b>%{hovertext}</b><br><br>iso_alpha=MAR<br>increase=%{marker.size}<br>Latitude (average)=%{lat}<br>Longitude (average)=%{lon}<extra></extra>\", \"hovertext\": [\"Morocco\"], \"lat\": [32.0], \"legendgroup\": \"MAR\", \"lon\": [-5.0], \"marker\": {\"color\": \"#00cc96\", \"size\": [83.49341338867153], \"sizemode\": \"area\", \"sizeref\": 0.20675345645372892}, \"mode\": \"markers\", \"name\": \"MAR\", \"showlegend\": true, \"subplot\": \"mapbox\", \"type\": \"scattermapbox\"}, {\"hovertemplate\": \"<b>%{hovertext}</b><br><br>iso_alpha=MOZ<br>increase=%{marker.size}<br>Latitude (average)=%{lat}<br>Longitude (average)=%{lon}<extra></extra>\", \"hovertext\": [\"Mozambique\"], \"lat\": [-18.25], \"legendgroup\": \"MOZ\", \"lon\": [35.0], \"marker\": {\"color\": \"#ab63fa\", \"size\": [79.2945063690547], \"sizemode\": \"area\", \"sizeref\": 0.20675345645372892}, \"mode\": \"markers\", \"name\": \"MOZ\", \"showlegend\": true, \"subplot\": \"mapbox\", \"type\": \"scattermapbox\"}, {\"hovertemplate\": \"<b>%{hovertext}</b><br><br>iso_alpha=NAM<br>increase=%{marker.size}<br>Latitude (average)=%{lat}<br>Longitude (average)=%{lon}<extra></extra>\", \"hovertext\": [\"Namibia\"], \"lat\": [-22.0], \"legendgroup\": \"NAM\", \"lon\": [17.0], \"marker\": {\"color\": \"#FFA15A\", \"size\": [110.34035941725196], \"sizemode\": \"area\", \"sizeref\": 0.20675345645372892}, \"mode\": \"markers\", \"name\": \"NAM\", \"showlegend\": true, \"subplot\": \"mapbox\", \"type\": \"scattermapbox\"}, {\"hovertemplate\": \"<b>%{hovertext}</b><br><br>iso_alpha=NER<br>increase=%{marker.size}<br>Latitude (average)=%{lat}<br>Longitude (average)=%{lon}<extra></extra>\", \"hovertext\": [\"Niger\"], \"lat\": [16.0], \"legendgroup\": \"NER\", \"lon\": [8.0], \"marker\": {\"color\": \"#19d3f3\", \"size\": [126.9389270067366], \"sizemode\": \"area\", \"sizeref\": 0.20675345645372892}, \"mode\": \"markers\", \"name\": \"NER\", \"showlegend\": true, \"subplot\": \"mapbox\", \"type\": \"scattermapbox\"}, {\"hovertemplate\": \"<b>%{hovertext}</b><br><br>iso_alpha=NGA<br>increase=%{marker.size}<br>Latitude (average)=%{lat}<br>Longitude (average)=%{lon}<extra></extra>\", \"hovertext\": [\"Nigeria\"], \"lat\": [10.0], \"legendgroup\": \"NGA\", \"lon\": [8.0], \"marker\": {\"color\": \"#FF6692\", \"size\": [117.05989243740629], \"sizemode\": \"area\", \"sizeref\": 0.20675345645372892}, \"mode\": \"markers\", \"name\": \"NGA\", \"showlegend\": true, \"subplot\": \"mapbox\", \"type\": \"scattermapbox\"}, {\"hovertemplate\": \"<b>%{hovertext}</b><br><br>iso_alpha=REU<br>increase=%{marker.size}<br>Latitude (average)=%{lat}<br>Longitude (average)=%{lon}<extra></extra>\", \"hovertext\": [\"Reunion\"], \"lat\": [-21.1], \"legendgroup\": \"REU\", \"lon\": [55.6], \"marker\": {\"color\": \"#B6E880\", \"size\": [62.18291183612921], \"sizemode\": \"area\", \"sizeref\": 0.20675345645372892}, \"mode\": \"markers\", \"name\": \"REU\", \"showlegend\": true, \"subplot\": \"mapbox\", \"type\": \"scattermapbox\"}, {\"hovertemplate\": \"<b>%{hovertext}</b><br><br>iso_alpha=RWA<br>increase=%{marker.size}<br>Latitude (average)=%{lat}<br>Longitude (average)=%{lon}<extra></extra>\", \"hovertext\": [\"Rwanda\"], \"lat\": [-2.0], \"legendgroup\": \"RWA\", \"lon\": [30.0], \"marker\": {\"color\": \"#FF97FF\", \"size\": [90.26091930723854], \"sizemode\": \"area\", \"sizeref\": 0.20675345645372892}, \"mode\": \"markers\", \"name\": \"RWA\", \"showlegend\": true, \"subplot\": \"mapbox\", \"type\": \"scattermapbox\"}, {\"hovertemplate\": \"<b>%{hovertext}</b><br><br>iso_alpha=STP<br>increase=%{marker.size}<br>Latitude (average)=%{lat}<br>Longitude (average)=%{lon}<extra></extra>\", \"hovertext\": [\"Sao Tome and Principe\"], \"lat\": [1.0], \"legendgroup\": \"STP\", \"lon\": [7.0], \"marker\": {\"color\": \"#FECB52\", \"size\": [129.94031983040693], \"sizemode\": \"area\", \"sizeref\": 0.20675345645372892}, \"mode\": \"markers\", \"name\": \"STP\", \"showlegend\": true, \"subplot\": \"mapbox\", \"type\": \"scattermapbox\"}, {\"hovertemplate\": \"<b>%{hovertext}</b><br><br>iso_alpha=SEN<br>increase=%{marker.size}<br>Latitude (average)=%{lat}<br>Longitude (average)=%{lon}<extra></extra>\", \"hovertext\": [\"Senegal\"], \"lat\": [14.0], \"legendgroup\": \"SEN\", \"lon\": [-14.0], \"marker\": {\"color\": \"#636efa\", \"size\": [133.1843968328342], \"sizemode\": \"area\", \"sizeref\": 0.20675345645372892}, \"mode\": \"markers\", \"name\": \"SEN\", \"showlegend\": true, \"subplot\": \"mapbox\", \"type\": \"scattermapbox\"}, {\"hovertemplate\": \"<b>%{hovertext}</b><br><br>iso_alpha=SLE<br>increase=%{marker.size}<br>Latitude (average)=%{lat}<br>Longitude (average)=%{lon}<extra></extra>\", \"hovertext\": [\"Sierra Leone\"], \"lat\": [8.5], \"legendgroup\": \"SLE\", \"lon\": [-11.5], \"marker\": {\"color\": \"#EF553B\", \"size\": [95.63080228355149], \"sizemode\": \"area\", \"sizeref\": 0.20675345645372892}, \"mode\": \"markers\", \"name\": \"SLE\", \"showlegend\": true, \"subplot\": \"mapbox\", \"type\": \"scattermapbox\"}, {\"hovertemplate\": \"<b>%{hovertext}</b><br><br>iso_alpha=SOM<br>increase=%{marker.size}<br>Latitude (average)=%{lat}<br>Longitude (average)=%{lon}<extra></extra>\", \"hovertext\": [\"Somalia\"], \"lat\": [10.0], \"legendgroup\": \"SOM\", \"lon\": [49.0], \"marker\": {\"color\": \"#00cc96\", \"size\": [109.45044934544819], \"sizemode\": \"area\", \"sizeref\": 0.20675345645372892}, \"mode\": \"markers\", \"name\": \"SOM\", \"showlegend\": true, \"subplot\": \"mapbox\", \"type\": \"scattermapbox\"}, {\"hovertemplate\": \"<b>%{hovertext}</b><br><br>iso_alpha=ZAF<br>increase=%{marker.size}<br>Latitude (average)=%{lat}<br>Longitude (average)=%{lon}<extra></extra>\", \"hovertext\": [\"South Africa\"], \"lat\": [-29.0], \"legendgroup\": \"ZAF\", \"lon\": [24.0], \"marker\": {\"color\": \"#ab63fa\", \"size\": [63.78080859177974], \"sizemode\": \"area\", \"sizeref\": 0.20675345645372892}, \"mode\": \"markers\", \"name\": \"ZAF\", \"showlegend\": true, \"subplot\": \"mapbox\", \"type\": \"scattermapbox\"}, {\"hovertemplate\": \"<b>%{hovertext}</b><br><br>iso_alpha=SDN<br>increase=%{marker.size}<br>Latitude (average)=%{lat}<br>Longitude (average)=%{lon}<extra></extra>\", \"hovertext\": [\"Sudan\"], \"lat\": [15.0], \"legendgroup\": \"SDN\", \"lon\": [30.0], \"marker\": {\"color\": \"#FFA15A\", \"size\": [147.25497582985452], \"sizemode\": \"area\", \"sizeref\": 0.20675345645372892}, \"mode\": \"markers\", \"name\": \"SDN\", \"showlegend\": true, \"subplot\": \"mapbox\", \"type\": \"scattermapbox\"}, {\"hovertemplate\": \"<b>%{hovertext}</b><br><br>iso_alpha=SWZ<br>increase=%{marker.size}<br>Latitude (average)=%{lat}<br>Longitude (average)=%{lon}<extra></extra>\", \"hovertext\": [\"Swaziland\"], \"lat\": [-26.5], \"legendgroup\": \"SWZ\", \"lon\": [31.5], \"marker\": {\"color\": \"#19d3f3\", \"size\": [105.4796209820012], \"sizemode\": \"area\", \"sizeref\": 0.20675345645372892}, \"mode\": \"markers\", \"name\": \"SWZ\", \"showlegend\": true, \"subplot\": \"mapbox\", \"type\": \"scattermapbox\"}, {\"hovertemplate\": \"<b>%{hovertext}</b><br><br>iso_alpha=TZA<br>increase=%{marker.size}<br>Latitude (average)=%{lat}<br>Longitude (average)=%{lon}<extra></extra>\", \"hovertext\": [\"Tanzania\"], \"lat\": [-6.0], \"legendgroup\": \"TZA\", \"lon\": [35.0], \"marker\": {\"color\": \"#FF6692\", \"size\": [122.65387358056086], \"sizemode\": \"area\", \"sizeref\": 0.20675345645372892}, \"mode\": \"markers\", \"name\": \"TZA\", \"showlegend\": true, \"subplot\": \"mapbox\", \"type\": \"scattermapbox\"}, {\"hovertemplate\": \"<b>%{hovertext}</b><br><br>iso_alpha=TGO<br>increase=%{marker.size}<br>Latitude (average)=%{lat}<br>Longitude (average)=%{lon}<extra></extra>\", \"hovertext\": [\"Togo\"], \"lat\": [8.0], \"legendgroup\": \"TGO\", \"lon\": [1.1667], \"marker\": {\"color\": \"#B6E880\", \"size\": [146.9732069296217], \"sizemode\": \"area\", \"sizeref\": 0.20675345645372892}, \"mode\": \"markers\", \"name\": \"TGO\", \"showlegend\": true, \"subplot\": \"mapbox\", \"type\": \"scattermapbox\"}, {\"hovertemplate\": \"<b>%{hovertext}</b><br><br>iso_alpha=TUN<br>increase=%{marker.size}<br>Latitude (average)=%{lat}<br>Longitude (average)=%{lon}<extra></extra>\", \"hovertext\": [\"Tunisia\"], \"lat\": [34.0], \"legendgroup\": \"TUN\", \"lon\": [9.0], \"marker\": {\"color\": \"#FF97FF\", \"size\": [71.12495609953004], \"sizemode\": \"area\", \"sizeref\": 0.20675345645372892}, \"mode\": \"markers\", \"name\": \"TUN\", \"showlegend\": true, \"subplot\": \"mapbox\", \"type\": \"scattermapbox\"}, {\"hovertemplate\": \"<b>%{hovertext}</b><br><br>iso_alpha=UGA<br>increase=%{marker.size}<br>Latitude (average)=%{lat}<br>Longitude (average)=%{lon}<extra></extra>\", \"hovertext\": [\"Uganda\"], \"lat\": [1.0], \"legendgroup\": \"UGA\", \"lon\": [32.0], \"marker\": {\"color\": \"#FECB52\", \"size\": [154.59080214471277], \"sizemode\": \"area\", \"sizeref\": 0.20675345645372892}, \"mode\": \"markers\", \"name\": \"UGA\", \"showlegend\": true, \"subplot\": \"mapbox\", \"type\": \"scattermapbox\"}, {\"hovertemplate\": \"<b>%{hovertext}</b><br><br>iso_alpha=ZMB<br>increase=%{marker.size}<br>Latitude (average)=%{lat}<br>Longitude (average)=%{lon}<extra></extra>\", \"hovertext\": [\"Zambia\"], \"lat\": [-15.0], \"legendgroup\": \"ZMB\", \"lon\": [30.0], \"marker\": {\"color\": \"#636efa\", \"size\": [125.16864594415848], \"sizemode\": \"area\", \"sizeref\": 0.20675345645372892}, \"mode\": \"markers\", \"name\": \"ZMB\", \"showlegend\": true, \"subplot\": \"mapbox\", \"type\": \"scattermapbox\"}, {\"hovertemplate\": \"<b>%{hovertext}</b><br><br>iso_alpha=ZWE<br>increase=%{marker.size}<br>Latitude (average)=%{lat}<br>Longitude (average)=%{lon}<extra></extra>\", \"hovertext\": [\"Zimbabwe\"], \"lat\": [-20.0], \"legendgroup\": \"ZWE\", \"lon\": [30.0], \"marker\": {\"color\": \"#EF553B\", \"size\": [85.34996500357492], \"sizemode\": \"area\", \"sizeref\": 0.20675345645372892}, \"mode\": \"markers\", \"name\": \"ZWE\", \"showlegend\": true, \"subplot\": \"mapbox\", \"type\": \"scattermapbox\"}],                        {\"height\": 1000, \"legend\": {\"itemsizing\": \"constant\", \"title\": {\"text\": \"iso_alpha\"}, \"tracegroupgap\": 0}, \"mapbox\": {\"center\": {\"lat\": 2.7993833333333336, \"lon\": 17.50925925925926}, \"domain\": {\"x\": [0.0, 1.0], \"y\": [0.0, 1.0]}, \"style\": \"open-street-map\", \"zoom\": 2}, \"template\": {\"data\": {\"bar\": [{\"error_x\": {\"color\": \"#2a3f5f\"}, \"error_y\": {\"color\": \"#2a3f5f\"}, \"marker\": {\"line\": {\"color\": \"#E5ECF6\", \"width\": 0.5}}, \"type\": \"bar\"}], \"barpolar\": [{\"marker\": {\"line\": {\"color\": \"#E5ECF6\", \"width\": 0.5}}, \"type\": \"barpolar\"}], \"carpet\": [{\"aaxis\": {\"endlinecolor\": \"#2a3f5f\", \"gridcolor\": \"white\", \"linecolor\": \"white\", \"minorgridcolor\": \"white\", \"startlinecolor\": \"#2a3f5f\"}, \"baxis\": {\"endlinecolor\": \"#2a3f5f\", \"gridcolor\": \"white\", \"linecolor\": \"white\", \"minorgridcolor\": \"white\", \"startlinecolor\": \"#2a3f5f\"}, \"type\": \"carpet\"}], \"choropleth\": [{\"colorbar\": {\"outlinewidth\": 0, \"ticks\": \"\"}, \"type\": \"choropleth\"}], \"contour\": [{\"colorbar\": {\"outlinewidth\": 0, \"ticks\": \"\"}, \"colorscale\": [[0.0, \"#0d0887\"], [0.1111111111111111, \"#46039f\"], [0.2222222222222222, \"#7201a8\"], [0.3333333333333333, \"#9c179e\"], [0.4444444444444444, \"#bd3786\"], [0.5555555555555556, \"#d8576b\"], [0.6666666666666666, \"#ed7953\"], [0.7777777777777778, \"#fb9f3a\"], [0.8888888888888888, \"#fdca26\"], [1.0, \"#f0f921\"]], \"type\": \"contour\"}], \"contourcarpet\": [{\"colorbar\": {\"outlinewidth\": 0, \"ticks\": \"\"}, \"type\": \"contourcarpet\"}], \"heatmap\": [{\"colorbar\": {\"outlinewidth\": 0, \"ticks\": \"\"}, \"colorscale\": [[0.0, \"#0d0887\"], [0.1111111111111111, \"#46039f\"], [0.2222222222222222, \"#7201a8\"], [0.3333333333333333, \"#9c179e\"], [0.4444444444444444, \"#bd3786\"], [0.5555555555555556, \"#d8576b\"], [0.6666666666666666, \"#ed7953\"], [0.7777777777777778, \"#fb9f3a\"], [0.8888888888888888, \"#fdca26\"], [1.0, \"#f0f921\"]], \"type\": \"heatmap\"}], \"heatmapgl\": [{\"colorbar\": {\"outlinewidth\": 0, \"ticks\": \"\"}, \"colorscale\": [[0.0, \"#0d0887\"], [0.1111111111111111, \"#46039f\"], [0.2222222222222222, \"#7201a8\"], [0.3333333333333333, \"#9c179e\"], [0.4444444444444444, \"#bd3786\"], [0.5555555555555556, \"#d8576b\"], [0.6666666666666666, \"#ed7953\"], [0.7777777777777778, \"#fb9f3a\"], [0.8888888888888888, \"#fdca26\"], [1.0, \"#f0f921\"]], \"type\": \"heatmapgl\"}], \"histogram\": [{\"marker\": {\"colorbar\": {\"outlinewidth\": 0, \"ticks\": \"\"}}, \"type\": \"histogram\"}], \"histogram2d\": [{\"colorbar\": {\"outlinewidth\": 0, \"ticks\": \"\"}, \"colorscale\": [[0.0, \"#0d0887\"], [0.1111111111111111, \"#46039f\"], [0.2222222222222222, \"#7201a8\"], [0.3333333333333333, \"#9c179e\"], [0.4444444444444444, \"#bd3786\"], [0.5555555555555556, \"#d8576b\"], [0.6666666666666666, \"#ed7953\"], [0.7777777777777778, \"#fb9f3a\"], [0.8888888888888888, \"#fdca26\"], [1.0, \"#f0f921\"]], \"type\": \"histogram2d\"}], \"histogram2dcontour\": [{\"colorbar\": {\"outlinewidth\": 0, \"ticks\": \"\"}, \"colorscale\": [[0.0, \"#0d0887\"], [0.1111111111111111, \"#46039f\"], [0.2222222222222222, \"#7201a8\"], [0.3333333333333333, \"#9c179e\"], [0.4444444444444444, \"#bd3786\"], [0.5555555555555556, \"#d8576b\"], [0.6666666666666666, \"#ed7953\"], [0.7777777777777778, \"#fb9f3a\"], [0.8888888888888888, \"#fdca26\"], [1.0, \"#f0f921\"]], \"type\": \"histogram2dcontour\"}], \"mesh3d\": [{\"colorbar\": {\"outlinewidth\": 0, \"ticks\": \"\"}, \"type\": \"mesh3d\"}], \"parcoords\": [{\"line\": {\"colorbar\": {\"outlinewidth\": 0, \"ticks\": \"\"}}, \"type\": \"parcoords\"}], \"pie\": [{\"automargin\": true, \"type\": \"pie\"}], \"scatter\": [{\"marker\": {\"colorbar\": {\"outlinewidth\": 0, \"ticks\": \"\"}}, \"type\": \"scatter\"}], \"scatter3d\": [{\"line\": {\"colorbar\": {\"outlinewidth\": 0, \"ticks\": \"\"}}, \"marker\": {\"colorbar\": {\"outlinewidth\": 0, \"ticks\": \"\"}}, \"type\": \"scatter3d\"}], \"scattercarpet\": [{\"marker\": {\"colorbar\": {\"outlinewidth\": 0, \"ticks\": \"\"}}, \"type\": \"scattercarpet\"}], \"scattergeo\": [{\"marker\": {\"colorbar\": {\"outlinewidth\": 0, \"ticks\": \"\"}}, \"type\": \"scattergeo\"}], \"scattergl\": [{\"marker\": {\"colorbar\": {\"outlinewidth\": 0, \"ticks\": \"\"}}, \"type\": \"scattergl\"}], \"scattermapbox\": [{\"marker\": {\"colorbar\": {\"outlinewidth\": 0, \"ticks\": \"\"}}, \"type\": \"scattermapbox\"}], \"scatterpolar\": [{\"marker\": {\"colorbar\": {\"outlinewidth\": 0, \"ticks\": \"\"}}, \"type\": \"scatterpolar\"}], \"scatterpolargl\": [{\"marker\": {\"colorbar\": {\"outlinewidth\": 0, \"ticks\": \"\"}}, \"type\": \"scatterpolargl\"}], \"scatterternary\": [{\"marker\": {\"colorbar\": {\"outlinewidth\": 0, \"ticks\": \"\"}}, \"type\": \"scatterternary\"}], \"surface\": [{\"colorbar\": {\"outlinewidth\": 0, \"ticks\": \"\"}, \"colorscale\": [[0.0, \"#0d0887\"], [0.1111111111111111, \"#46039f\"], [0.2222222222222222, \"#7201a8\"], [0.3333333333333333, \"#9c179e\"], [0.4444444444444444, \"#bd3786\"], [0.5555555555555556, \"#d8576b\"], [0.6666666666666666, \"#ed7953\"], [0.7777777777777778, \"#fb9f3a\"], [0.8888888888888888, \"#fdca26\"], [1.0, \"#f0f921\"]], \"type\": \"surface\"}], \"table\": [{\"cells\": {\"fill\": {\"color\": \"#EBF0F8\"}, \"line\": {\"color\": \"white\"}}, \"header\": {\"fill\": {\"color\": \"#C8D4E3\"}, \"line\": {\"color\": \"white\"}}, \"type\": \"table\"}]}, \"layout\": {\"annotationdefaults\": {\"arrowcolor\": \"#2a3f5f\", \"arrowhead\": 0, \"arrowwidth\": 1}, \"autotypenumbers\": \"strict\", \"coloraxis\": {\"colorbar\": {\"outlinewidth\": 0, \"ticks\": \"\"}}, \"colorscale\": {\"diverging\": [[0, \"#8e0152\"], [0.1, \"#c51b7d\"], [0.2, \"#de77ae\"], [0.3, \"#f1b6da\"], [0.4, \"#fde0ef\"], [0.5, \"#f7f7f7\"], [0.6, \"#e6f5d0\"], [0.7, \"#b8e186\"], [0.8, \"#7fbc41\"], [0.9, \"#4d9221\"], [1, \"#276419\"]], \"sequential\": [[0.0, \"#0d0887\"], [0.1111111111111111, \"#46039f\"], [0.2222222222222222, \"#7201a8\"], [0.3333333333333333, \"#9c179e\"], [0.4444444444444444, \"#bd3786\"], [0.5555555555555556, \"#d8576b\"], [0.6666666666666666, \"#ed7953\"], [0.7777777777777778, \"#fb9f3a\"], [0.8888888888888888, \"#fdca26\"], [1.0, \"#f0f921\"]], \"sequentialminus\": [[0.0, \"#0d0887\"], [0.1111111111111111, \"#46039f\"], [0.2222222222222222, \"#7201a8\"], [0.3333333333333333, \"#9c179e\"], [0.4444444444444444, \"#bd3786\"], [0.5555555555555556, \"#d8576b\"], [0.6666666666666666, \"#ed7953\"], [0.7777777777777778, \"#fb9f3a\"], [0.8888888888888888, \"#fdca26\"], [1.0, \"#f0f921\"]]}, \"colorway\": [\"#636efa\", \"#EF553B\", \"#00cc96\", \"#ab63fa\", \"#FFA15A\", \"#19d3f3\", \"#FF6692\", \"#B6E880\", \"#FF97FF\", \"#FECB52\"], \"font\": {\"color\": \"#2a3f5f\"}, \"geo\": {\"bgcolor\": \"white\", \"lakecolor\": \"white\", \"landcolor\": \"#E5ECF6\", \"showlakes\": true, \"showland\": true, \"subunitcolor\": \"white\"}, \"hoverlabel\": {\"align\": \"left\"}, \"hovermode\": \"closest\", \"mapbox\": {\"style\": \"light\"}, \"paper_bgcolor\": \"white\", \"plot_bgcolor\": \"#E5ECF6\", \"polar\": {\"angularaxis\": {\"gridcolor\": \"white\", \"linecolor\": \"white\", \"ticks\": \"\"}, \"bgcolor\": \"#E5ECF6\", \"radialaxis\": {\"gridcolor\": \"white\", \"linecolor\": \"white\", \"ticks\": \"\"}}, \"scene\": {\"xaxis\": {\"backgroundcolor\": \"#E5ECF6\", \"gridcolor\": \"white\", \"gridwidth\": 2, \"linecolor\": \"white\", \"showbackground\": true, \"ticks\": \"\", \"zerolinecolor\": \"white\"}, \"yaxis\": {\"backgroundcolor\": \"#E5ECF6\", \"gridcolor\": \"white\", \"gridwidth\": 2, \"linecolor\": \"white\", \"showbackground\": true, \"ticks\": \"\", \"zerolinecolor\": \"white\"}, \"zaxis\": {\"backgroundcolor\": \"#E5ECF6\", \"gridcolor\": \"white\", \"gridwidth\": 2, \"linecolor\": \"white\", \"showbackground\": true, \"ticks\": \"\", \"zerolinecolor\": \"white\"}}, \"shapedefaults\": {\"line\": {\"color\": \"#2a3f5f\"}}, \"ternary\": {\"aaxis\": {\"gridcolor\": \"white\", \"linecolor\": \"white\", \"ticks\": \"\"}, \"baxis\": {\"gridcolor\": \"white\", \"linecolor\": \"white\", \"ticks\": \"\"}, \"bgcolor\": \"#E5ECF6\", \"caxis\": {\"gridcolor\": \"white\", \"linecolor\": \"white\", \"ticks\": \"\"}}, \"title\": {\"x\": 0.05}, \"xaxis\": {\"automargin\": true, \"gridcolor\": \"white\", \"linecolor\": \"white\", \"ticks\": \"\", \"title\": {\"standoff\": 15}, \"zerolinecolor\": \"white\", \"zerolinewidth\": 2}, \"yaxis\": {\"automargin\": true, \"gridcolor\": \"white\", \"linecolor\": \"white\", \"ticks\": \"\", \"title\": {\"standoff\": 15}, \"zerolinecolor\": \"white\", \"zerolinewidth\": 2}}}, \"title\": {\"text\": \"Change in population of African countries from 1977 to 2007.\"}},                        {\"responsive\": true}                    ).then(function(){\n",
       "                            \n",
       "var gd = document.getElementById('08c44b4d-27f9-4158-8912-7c968f5e773b');\n",
       "var x = new MutationObserver(function (mutations, observer) {{\n",
       "        var display = window.getComputedStyle(gd).display;\n",
       "        if (!display || display === 'none') {{\n",
       "            console.log([gd, 'removed!']);\n",
       "            Plotly.purge(gd);\n",
       "            observer.disconnect();\n",
       "        }}\n",
       "}});\n",
       "\n",
       "// Listen for the removal of the full notebook cells\n",
       "var notebookContainer = gd.closest('#notebook-container');\n",
       "if (notebookContainer) {{\n",
       "    x.observe(notebookContainer, {childList: true});\n",
       "}}\n",
       "\n",
       "// Listen for the clearing of the current output cell\n",
       "var outputEl = gd.closest('.output');\n",
       "if (outputEl) {{\n",
       "    x.observe(outputEl, {childList: true});\n",
       "}}\n",
       "\n",
       "                        })                };                });            </script>        </div>"
      ]
     },
     "metadata": {},
     "output_type": "display_data"
    }
   ],
   "source": [
    "fig = px.scatter_mapbox(\n",
    "    pop_max, \n",
    "    lat=\"Latitude (average)\", \n",
    "    lon=\"Longitude (average)\", \n",
    "    color=\"iso_alpha\", \n",
    "    size='increase',\n",
    "    size_max = 30,\n",
    "    zoom=2, \n",
    "    hover_name ='country', \n",
    "    mapbox_style='open-street-map',\n",
    "    height = 1000,\n",
    "    title = f'Change in population of African countries from {last_3decades_min} to {max_year}.'\n",
    ")\n",
    "fig.show()"
   ]
  },
  {
   "cell_type": "code",
   "execution_count": null,
   "metadata": {},
   "outputs": [],
   "source": []
  }
 ],
 "metadata": {
  "kernelspec": {
   "display_name": "Python 3",
   "language": "python",
   "name": "python3"
  },
  "language_info": {
   "codemirror_mode": {
    "name": "ipython",
    "version": 3
   },
   "file_extension": ".py",
   "mimetype": "text/x-python",
   "name": "python",
   "nbconvert_exporter": "python",
   "pygments_lexer": "ipython3",
   "version": "3.8.5"
  }
 },
 "nbformat": 4,
 "nbformat_minor": 4
}
